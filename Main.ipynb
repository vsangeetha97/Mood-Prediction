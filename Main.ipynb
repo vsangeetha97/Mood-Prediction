{
 "cells": [
  {
   "cell_type": "code",
   "execution_count": 1,
   "id": "c7d679df-ff0e-4fe8-8e4d-ebfbe7fb85dc",
   "metadata": {},
   "outputs": [
    {
     "name": "stdout",
     "output_type": "stream",
     "text": [
      "WARNING:tensorflow:From /Users/sangeetha/venv-ml-pa1/lib/python3.9/site-packages/tensorflow/python/compat/v2_compat.py:111: disable_resource_variables (from tensorflow.python.ops.variable_scope) is deprecated and will be removed in a future version.\n",
      "Instructions for updating:\n",
      "non-resource variables are not supported in the long term\n"
     ]
    }
   ],
   "source": [
    "import numpy as np \n",
    "import pandas as pd \n",
    "import matplotlib.pyplot as plt\n",
    "import seaborn as sns\n",
    "\n",
    "from keras.models import Sequential\n",
    "from keras.layers import Dense\n",
    "from keras.wrappers.scikit_learn import KerasClassifier\n",
    "from keras.utils import np_utils\n",
    "\n",
    "import tensorflow as tf\n",
    "tf.compat.v1.disable_eager_execution()\n",
    "tf.compat.v1.disable_v2_behavior()\n",
    "\n",
    "from sklearn.model_selection import cross_val_score, KFold, train_test_split\n",
    "from sklearn.preprocessing import LabelEncoder,MinMaxScaler\n",
    "from sklearn.pipeline import Pipeline\n",
    "from sklearn.metrics import confusion_matrix, accuracy_score"
   ]
  },
  {
   "cell_type": "code",
   "execution_count": 2,
   "id": "a0529a62-994a-47c7-a034-5b3531f8a36c",
   "metadata": {},
   "outputs": [
    {
     "name": "stderr",
     "output_type": "stream",
     "text": [
      "/var/folders/6q/1tr6dsz903s0r57yd4bx3jrm0000gn/T/ipykernel_3027/3652984379.py:3: DeprecationWarning: Importing clear_output from IPython.core.display is deprecated since IPython 7.14, please import from IPython display\n",
      "  from IPython.core.display import clear_output\n"
     ]
    }
   ],
   "source": [
    "import spotipy\n",
    "import time\n",
    "from IPython.core.display import clear_output\n",
    "from spotipy import SpotifyClientCredentials, util\n",
    "\n",
    "\n",
    "#Populate client_id, client_secret, redirect_uri, username\n"
    "client_id=''\n",
    "client_secret=''\n",
    "redirect_uri=''\n",
    "username = ''\n",
    "scope = 'playlist-modify-public'\n",
    "\n",
    "#Credentials to access the Spotify Music Data\n",
    "manager = SpotifyClientCredentials(client_id,client_secret)\n",
    "sp = spotipy.Spotify(client_credentials_manager=manager)\n",
    "\n",
    "#Credentials to access to  the Spotify User's Playlist, Favorite Songs, etc. \n",
    "token = util.prompt_for_user_token(username,scope,client_id,client_secret,redirect_uri) \n",
    "spt = spotipy.Spotify(auth=token)\n",
    "\n",
    "\n",
    "def get_albums_id(ids):\n",
    "    album_ids = []\n",
    "    results = sp.artist_albums(ids)\n",
    "    for album in results['items']:\n",
    "        album_ids.append(album['id'])\n",
    "    return album_ids\n",
    "\n",
    "def get_album_songs_id(ids):\n",
    "    song_ids = []\n",
    "    results = sp.album_tracks(ids,offset=0)\n",
    "    for songs in results['items']:\n",
    "        song_ids.append(songs['id'])\n",
    "    return song_ids\n",
    "\n",
    "def get_songs_features(ids):\n",
    "\n",
    "    meta = sp.track(ids)\n",
    "    features = sp.audio_features(ids)\n",
    "\n",
    "    # meta\n",
    "    name = meta['name']\n",
    "    album = meta['album']['name']\n",
    "    artist = meta['album']['artists'][0]['name']\n",
    "    release_date = meta['album']['release_date']\n",
    "    length = meta['duration_ms']\n",
    "    popularity = meta['popularity']\n",
    "    ids =  meta['id']\n",
    "\n",
    "    # features\n",
    "    acousticness = features[0]['acousticness']\n",
    "    danceability = features[0]['danceability']\n",
    "    energy = features[0]['energy']\n",
    "    instrumentalness = features[0]['instrumentalness']\n",
    "    liveness = features[0]['liveness']\n",
    "    valence = features[0]['valence']\n",
    "    loudness = features[0]['loudness']\n",
    "    speechiness = features[0]['speechiness']\n",
    "    tempo = features[0]['tempo']\n",
    "    key = features[0]['key']\n",
    "    time_signature = features[0]['time_signature']\n",
    "\n",
    "    track = [name, album, artist, ids, release_date, popularity, length, danceability, acousticness,\n",
    "            energy, instrumentalness, liveness, valence, loudness, speechiness, tempo, key, time_signature]\n",
    "    columns = ['name','album','artist','id','release_date','popularity','length','danceability','acousticness','energy','instrumentalness',\n",
    "                'liveness','valence','loudness','speechiness','tempo','key','time_signature']\n",
    "    return track,columns\n",
    "\n",
    "def get_songs_artist_ids_playlist(ids):\n",
    "    playlist = sp.playlist_tracks(ids)\n",
    "    songs_id = []\n",
    "    artists_id = []\n",
    "    for result in playlist['items']:\n",
    "        songs_id.append(result['track']['id'])\n",
    "        for artist in result['track']['artists']:\n",
    "            artists_id.append(artist['id'])\n",
    "    return songs_id,artists_id\n",
    "\n",
    "def download_albums(music_id,artist=False):\n",
    "    \n",
    "    if artist == True:\n",
    "        ids_album = get_albums_id(music_id)\n",
    "    else:\n",
    "        if type(music_id) == list:\n",
    "            ids_album = music_id\n",
    "        elif type(music_id) == str:\n",
    "            ids_album = list([music_id])\n",
    "\n",
    "    tracks = []\n",
    "    for ids in ids_album:\n",
    "        #Obtener Ids de canciones en album\n",
    "        song_ids = get_album_songs_id(ids=ids)\n",
    "        #Obtener feautres de canciones en album\n",
    "        ids2 = song_ids\n",
    "        \n",
    "        print(f\"Album Length: {len(song_ids)}\")\n",
    "         \n",
    "        time.sleep(.6)   \n",
    "        track, columns = get_songs_features(ids2)\n",
    "        tracks.append(track)\n",
    "\n",
    "        print(f\"Song Added: {track[0]} By {track[2]} from the album {track[1]}\")\n",
    "        clear_output(wait = True)\n",
    "        \n",
    "    clear_output(wait = True)\n",
    "    print(\"Music Downloaded!\")\n",
    " \n",
    "    return tracks,columns\n",
    "\n",
    "def download_playlist(id_playlist,n_songs):\n",
    "    songs_id = []\n",
    "    tracks = []\n",
    "\n",
    "    for i in range(0,n_songs,100):\n",
    "        playlist = spt.playlist_tracks(id_playlist,limit=100,offset=i)\n",
    "        \n",
    "        for songs in playlist['items']:\n",
    "            songs_id.append(songs['track']['id'])\n",
    "    \n",
    "    counter = 1\n",
    "    for ids in songs_id:\n",
    "        \n",
    "        time.sleep(.6)\n",
    "        track,columns = get_songs_features(ids)\n",
    "        tracks.append(track)\n",
    "\n",
    "        print(f\"Song {counter} Added:\")\n",
    "        print(f\"{track[0]} By {track[2]} from the album {track[1]}\")\n",
    "        clear_output(wait = True)\n",
    "        counter+=1\n",
    "    \n",
    "    clear_output(wait = True)\n",
    "    print(\"Music Downloaded!\")\n",
    "\n",
    "    return tracks,columns"
   ]
  },
  {
   "cell_type": "code",
   "execution_count": 3,
   "id": "22f9d30e-1bb6-41d0-8671-83a271c49272",
   "metadata": {},
   "outputs": [],
   "source": [
    "songs_list = pd.read_csv(\"dataset.csv\")"
   ]
  },
  {
   "cell_type": "code",
   "execution_count": 4,
   "id": "f5475f6f-70e2-4309-8acb-e8b82ca6b441",
   "metadata": {},
   "outputs": [
    {
     "name": "stdout",
     "output_type": "stream",
     "text": [
      "           popularity         length  danceability  acousticness    energy  \\\n",
      "mood                                                                         \n",
      "Calm        40.261538  193977.061538      0.406815      0.883348  0.156325   \n",
      "Energetic   41.603896  215779.948052      0.512240      0.028229  0.883669   \n",
      "Happy       48.585714  230963.850000      0.622914      0.127849  0.751857   \n",
      "Sad         37.730964  247504.472081      0.497245      0.578826  0.388068   \n",
      "\n",
      "           instrumentalness  liveness   valence   loudness  speechiness  \\\n",
      "mood                                                                      \n",
      "Calm               0.890769  0.115418  0.151421 -20.955826     0.040742   \n",
      "Energetic          0.056607  0.233897  0.437049  -4.695844     0.079170   \n",
      "Happy              0.126103  0.201682  0.579095  -7.275750     0.061774   \n",
      "Sad                0.201832  0.140655  0.289372 -10.569183     0.041736   \n",
      "\n",
      "                tempo       key  time_signature  \n",
      "mood                                             \n",
      "Calm       108.851215  5.441026        3.758974  \n",
      "Energetic  132.060636  5.123377        3.974026  \n",
      "Happy      124.213679  5.078571        3.964286  \n",
      "Sad        115.599746  5.578680        3.832487  \n"
     ]
    }
   ],
   "source": [
    "trackFeatures = songs_list.groupby(['mood']).mean()\n",
    "print(trackFeatures)"
   ]
  },
  {
   "cell_type": "code",
   "execution_count": 5,
   "id": "24e465d3-d54c-4b41-9857-c5ce72b7dd39",
   "metadata": {},
   "outputs": [],
   "source": [
    "col_features = songs_list.columns[6:-3]\n",
    "#Storing the required features in X\n",
    "X = songs_list[col_features]\n",
    "#Storing the target result in Y\n",
    "Y = songs_list['mood']"
   ]
  },
  {
   "cell_type": "code",
   "execution_count": 6,
   "id": "7f20601a-8ca1-4d02-b76f-c190f478ae6d",
   "metadata": {},
   "outputs": [],
   "source": [
    "#Feature normalization using min-max\n",
    "X = MinMaxScaler().fit_transform(X)"
   ]
  },
  {
   "cell_type": "code",
   "execution_count": 67,
   "id": "4f65a296-2304-42ef-876f-8036cf8abf49",
   "metadata": {},
   "outputs": [],
   "source": [
    "#Encode the labels (targets)\n",
    "label_encoder = LabelEncoder()\n",
    "label_encoder.fit(Y)\n",
    "y_encoded = label_encoder.transform(Y)"
   ]
  },
  {
   "cell_type": "code",
   "execution_count": 8,
   "id": "a776a464-99e3-4634-a6d6-0a30915e8b97",
   "metadata": {},
   "outputs": [
    {
     "data": {
      "text/plain": [
       "{'Calm': 0, 'Energetic': 1, 'Happy': 2, 'Sad': 3}"
      ]
     },
     "execution_count": 8,
     "metadata": {},
     "output_type": "execute_result"
    }
   ],
   "source": [
    "mood_vs_encoder = dict(zip(label_encoder.classes_, label_encoder.transform(label_encoder.classes_)))\n",
    "mood_vs_encoder "
   ]
  },
  {
   "cell_type": "code",
   "execution_count": 9,
   "id": "ddd669a9-3a9a-42fd-bc6b-cf805fc6beb4",
   "metadata": {},
   "outputs": [],
   "source": [
    "#Split train and test data with a test size of 15%\n",
    "X_train,X_test,y_train,y_test = train_test_split(X,y_encoded,test_size=0.15,random_state=15)"
   ]
  },
  {
   "cell_type": "code",
   "execution_count": 10,
   "id": "787cd18f-69f7-4220-b94d-0abcb46791c9",
   "metadata": {},
   "outputs": [
    {
     "data": {
      "text/html": [
       "<div>\n",
       "<style scoped>\n",
       "    .dataframe tbody tr th:only-of-type {\n",
       "        vertical-align: middle;\n",
       "    }\n",
       "\n",
       "    .dataframe tbody tr th {\n",
       "        vertical-align: top;\n",
       "    }\n",
       "\n",
       "    .dataframe thead th {\n",
       "        text-align: right;\n",
       "    }\n",
       "</style>\n",
       "<table border=\"1\" class=\"dataframe\">\n",
       "  <thead>\n",
       "    <tr style=\"text-align: right;\">\n",
       "      <th></th>\n",
       "      <th>mood</th>\n",
       "      <th>encode</th>\n",
       "    </tr>\n",
       "  </thead>\n",
       "  <tbody>\n",
       "    <tr>\n",
       "      <th>5</th>\n",
       "      <td>Calm</td>\n",
       "      <td>0</td>\n",
       "    </tr>\n",
       "    <tr>\n",
       "      <th>4</th>\n",
       "      <td>Energetic</td>\n",
       "      <td>1</td>\n",
       "    </tr>\n",
       "    <tr>\n",
       "      <th>0</th>\n",
       "      <td>Happy</td>\n",
       "      <td>2</td>\n",
       "    </tr>\n",
       "    <tr>\n",
       "      <th>1</th>\n",
       "      <td>Sad</td>\n",
       "      <td>3</td>\n",
       "    </tr>\n",
       "  </tbody>\n",
       "</table>\n",
       "</div>"
      ],
      "text/plain": [
       "        mood  encode\n",
       "5       Calm       0\n",
       "4  Energetic       1\n",
       "0      Happy       2\n",
       "1        Sad       3"
      ]
     },
     "execution_count": 10,
     "metadata": {},
     "output_type": "execute_result"
    }
   ],
   "source": [
    "target = pd.DataFrame({'mood':songs_list['mood'].tolist(),'encode':y_encoded}).drop_duplicates().sort_values(['encode'],ascending=True)\n",
    "target"
   ]
  },
  {
   "cell_type": "code",
   "execution_count": 34,
   "id": "1ce2e135-dfff-46f7-bcbc-87694e0a6ffb",
   "metadata": {},
   "outputs": [],
   "source": [
    "#Creating base model with 4 hidden layers\n",
    "def model_base4():\n",
    "    baseModel = Sequential()\n",
    "    #Adding a layer with 4 nodes, 4 dimensional input with relu function.\n",
    "    baseModel.add(Dense(4,input_dim=10,activation='relu'))\n",
    "    #Adding a layer with 4 outputs and softmax function\n",
    "    baseModel.add(Dense(4,activation='softmax'))\n",
    "    #Compiling the model adam optimizer and sigmoid loss function\n",
    "    baseModel.compile(loss='categorical_crossentropy',optimizer='adam', metrics=['accuracy'])\n",
    "    return baseModel"
   ]
  },
  {
   "cell_type": "code",
   "execution_count": 35,
   "id": "48db6a24-480b-4798-b304-24ba301c8133",
   "metadata": {},
   "outputs": [],
   "source": [
    "#Creating base model with 5 hidden layers\n",
    "def model_base5():\n",
    "    baseModel = Sequential()\n",
    "    #Adding a layer with 5 nodes, 4 dimensional input with relu function.\n",
    "    baseModel.add(Dense(5,input_dim=10,activation='relu'))\n",
    "    #Adding a layer with 4 outputs and softmax function\n",
    "    baseModel.add(Dense(4,activation='softmax'))\n",
    "    #Compiling the model adam optimizer and sigmoid loss function\n",
    "    baseModel.compile(loss='categorical_crossentropy',optimizer='adam', metrics=['accuracy'])\n",
    "    return baseModel"
   ]
  },
  {
   "cell_type": "code",
   "execution_count": 36,
   "id": "d55b8434-9ba7-40e7-9073-e828ba9dd32a",
   "metadata": {},
   "outputs": [],
   "source": [
    "#Creating base model with 6 hidden layers\n",
    "def model_base6():\n",
    "    baseModel = Sequential()\n",
    "    #Adding a layer with 6 nodes, 4 dimensional input with relu function.\n",
    "    baseModel.add(Dense(6,input_dim=10,activation='relu'))\n",
    "    #Adding a layer with 4 outputs and softmax function\n",
    "    baseModel.add(Dense(4,activation='softmax'))\n",
    "    #Compiling the model adam optimizer and sigmoid loss function\n",
    "    baseModel.compile(loss='categorical_crossentropy',optimizer='adam', metrics=['accuracy'])\n",
    "    return baseModel"
   ]
  },
  {
   "cell_type": "code",
   "execution_count": 37,
   "id": "374283cf-e852-47b5-9234-2879ad338df1",
   "metadata": {},
   "outputs": [],
   "source": [
    "#Creating base model with 7 hidden layers\n",
    "def model_base7():\n",
    "    baseModel = Sequential()\n",
    "    #Adding a layer with 7 nodes, 4 dimensional input with relu function.\n",
    "    baseModel.add(Dense(7,input_dim=10,activation='relu'))\n",
    "    #Adding a layer with 4 outputs and softmax function\n",
    "    baseModel.add(Dense(4,activation='softmax'))\n",
    "    #Compiling the model adam optimizer and sigmoid loss function\n",
    "    baseModel.compile(loss='categorical_crossentropy',optimizer='adam', metrics=['accuracy'])\n",
    "    return baseModel"
   ]
  },
  {
   "cell_type": "code",
   "execution_count": 38,
   "id": "b2dcb62f-907a-4168-9d2e-3890c60cff12",
   "metadata": {},
   "outputs": [],
   "source": [
    "#Creating base model with 8 hidden layers\n",
    "def model_base8():\n",
    "    baseModel = Sequential()\n",
    "    #Adding a layer with 8 nodes, 4 dimensional input with relu function.\n",
    "    baseModel.add(Dense(8,input_dim=10,activation='relu'))\n",
    "    #Adding a layer with 4 outputs and softmax function\n",
    "    baseModel.add(Dense(4,activation='softmax'))\n",
    "    #Compiling the model adam optimizer and sigmoid loss function\n",
    "    baseModel.compile(loss='categorical_crossentropy',optimizer='adam', metrics=['accuracy'])\n",
    "    return baseModel"
   ]
  },
  {
   "cell_type": "code",
   "execution_count": 39,
   "id": "125d4240-b0cd-4c5d-bff0-907c16471d89",
   "metadata": {},
   "outputs": [],
   "source": [
    "#Creating base model with 9 hidden layers\n",
    "def model_base9():\n",
    "    baseModel = Sequential()\n",
    "    #Adding a layer with 9 nodes, 4 dimensional input with relu function.\n",
    "    baseModel.add(Dense(9,input_dim=10,activation='relu'))\n",
    "    #Adding a layer with 4 outputs and softmax function\n",
    "    baseModel.add(Dense(4,activation='softmax'))\n",
    "    #Compiling the model adam optimizer and sigmoid loss function\n",
    "    baseModel.compile(loss='categorical_crossentropy',optimizer='adam', metrics=['accuracy'])\n",
    "    return baseModel"
   ]
  },
  {
   "cell_type": "code",
   "execution_count": 40,
   "id": "93dba045-1b7f-43a9-9589-6dbfeb2a7cd5",
   "metadata": {},
   "outputs": [],
   "source": [
    "#Creating base model with 10 hidden layers\n",
    "def model_base10():\n",
    "    baseModel = Sequential()\n",
    "    #Adding a layer with 10 nodes, 4 dimensional input with relu function.\n",
    "    baseModel.add(Dense(10,input_dim=10,activation='relu'))\n",
    "    #Adding a layer with 4 outputs and softmax function\n",
    "    baseModel.add(Dense(4,activation='softmax'))\n",
    "    #Compiling the model adam optimizer and sigmoid loss function\n",
    "    baseModel.compile(loss='categorical_crossentropy',optimizer='adam', metrics=['accuracy'])\n",
    "    return baseModel"
   ]
  },
  {
   "cell_type": "code",
   "execution_count": 41,
   "id": "ed1d40db-ebf0-4968-885b-97b492546aa2",
   "metadata": {},
   "outputs": [],
   "source": [
    "#Evaluation of the model by KFold cross validation for model with 4 hidden layers\n",
    "def evaluate_model(classifier, X, y_encoded):\n",
    "    kfold = KFold(n_splits=10,shuffle=True)\n",
    "    results = cross_val_score(classifier,X,y_encoded,cv=kfold)\n",
    "    print(\"Baseline: %.2f%% (%.2f%%)\" % (results.mean()*100,results.std()*100))"
   ]
  },
  {
   "cell_type": "code",
   "execution_count": 42,
   "id": "59638eb0-7f17-4ebd-bd3d-dbebef9c8c92",
   "metadata": {},
   "outputs": [],
   "source": [
    "def predict(classifier, X_train, y_train):\n",
    "    classifier.fit(X_train,y_train)\n",
    "    y_prediction = classifier.predict(X_test)\n",
    "    return y_prediction"
   ]
  },
  {
   "cell_type": "code",
   "execution_count": 43,
   "id": "dca608c3-3bc5-443d-b3e1-2c02548a2d23",
   "metadata": {},
   "outputs": [],
   "source": [
    "def draw_confusion_matrix(y_test, y_prediction):\n",
    "    conf_matrix = confusion_matrix(y_test,y_prediction)\n",
    "    plot = plt.subplot()\n",
    "    sns.heatmap(conf_matrix,annot=True,ax=plot)\n",
    "    moods = target['mood']\n",
    "    plot.set_title('Confusion Matrix')\n",
    "    plot.set_xlabel('Predicted labels')\n",
    "    plot.set_ylabel('True labels')\n",
    "    plot.xaxis.set_ticklabels(moods)\n",
    "    plot.yaxis.set_ticklabels(moods)\n",
    "    plt.show()"
   ]
  },
  {
   "cell_type": "code",
   "execution_count": 44,
   "id": "ad4f98b9-f927-49fd-a447-385f1e8832dd",
   "metadata": {},
   "outputs": [],
   "source": [
    "def find_accuracy_score(y_test,y_prediction):\n",
    "    accuracy = accuracy_score(y_test,y_prediction)\n",
    "    return accuracy "
   ]
  },
  {
   "cell_type": "code",
   "execution_count": 45,
   "id": "4113be04-fed7-4a35-b9aa-087df85bf037",
   "metadata": {},
   "outputs": [],
   "source": [
    "accuracy_score_list = []"
   ]
  },
  {
   "cell_type": "code",
   "execution_count": 46,
   "id": "b9c761ca-c489-402c-a315-054ff5661297",
   "metadata": {},
   "outputs": [
    {
     "name": "stderr",
     "output_type": "stream",
     "text": [
      "/var/folders/6q/1tr6dsz903s0r57yd4bx3jrm0000gn/T/ipykernel_3027/3395945716.py:2: DeprecationWarning: KerasClassifier is deprecated, use Sci-Keras (https://github.com/adriangb/scikeras) instead.\n",
      "  classifier4 = KerasClassifier(build_fn=model_base4,epochs=300,batch_size=200,verbose=0)\n",
      "/Users/sangeetha/venv-ml-pa1/lib/python3.9/site-packages/keras/engine/training_v1.py:2057: UserWarning: `Model.state_updates` will be removed in a future version. This property should not be used in TensorFlow 2.0, as `updates` are applied automatically.\n",
      "  updates = self.state_updates\n",
      "/Users/sangeetha/venv-ml-pa1/lib/python3.9/site-packages/keras/engine/training_v1.py:2057: UserWarning: `Model.state_updates` will be removed in a future version. This property should not be used in TensorFlow 2.0, as `updates` are applied automatically.\n",
      "  updates = self.state_updates\n",
      "/Users/sangeetha/venv-ml-pa1/lib/python3.9/site-packages/keras/engine/training_v1.py:2057: UserWarning: `Model.state_updates` will be removed in a future version. This property should not be used in TensorFlow 2.0, as `updates` are applied automatically.\n",
      "  updates = self.state_updates\n",
      "/Users/sangeetha/venv-ml-pa1/lib/python3.9/site-packages/keras/engine/training_v1.py:2057: UserWarning: `Model.state_updates` will be removed in a future version. This property should not be used in TensorFlow 2.0, as `updates` are applied automatically.\n",
      "  updates = self.state_updates\n",
      "/Users/sangeetha/venv-ml-pa1/lib/python3.9/site-packages/keras/engine/training_v1.py:2057: UserWarning: `Model.state_updates` will be removed in a future version. This property should not be used in TensorFlow 2.0, as `updates` are applied automatically.\n",
      "  updates = self.state_updates\n",
      "/Users/sangeetha/venv-ml-pa1/lib/python3.9/site-packages/keras/engine/training_v1.py:2057: UserWarning: `Model.state_updates` will be removed in a future version. This property should not be used in TensorFlow 2.0, as `updates` are applied automatically.\n",
      "  updates = self.state_updates\n",
      "/Users/sangeetha/venv-ml-pa1/lib/python3.9/site-packages/keras/engine/training_v1.py:2057: UserWarning: `Model.state_updates` will be removed in a future version. This property should not be used in TensorFlow 2.0, as `updates` are applied automatically.\n",
      "  updates = self.state_updates\n",
      "/Users/sangeetha/venv-ml-pa1/lib/python3.9/site-packages/keras/engine/training_v1.py:2057: UserWarning: `Model.state_updates` will be removed in a future version. This property should not be used in TensorFlow 2.0, as `updates` are applied automatically.\n",
      "  updates = self.state_updates\n",
      "/Users/sangeetha/venv-ml-pa1/lib/python3.9/site-packages/keras/engine/training_v1.py:2057: UserWarning: `Model.state_updates` will be removed in a future version. This property should not be used in TensorFlow 2.0, as `updates` are applied automatically.\n",
      "  updates = self.state_updates\n",
      "/Users/sangeetha/venv-ml-pa1/lib/python3.9/site-packages/keras/engine/training_v1.py:2057: UserWarning: `Model.state_updates` will be removed in a future version. This property should not be used in TensorFlow 2.0, as `updates` are applied automatically.\n",
      "  updates = self.state_updates\n"
     ]
    },
    {
     "name": "stdout",
     "output_type": "stream",
     "text": [
      "Baseline: 74.22% (4.07%)\n"
     ]
    },
    {
     "name": "stderr",
     "output_type": "stream",
     "text": [
      "/Users/sangeetha/venv-ml-pa1/lib/python3.9/site-packages/keras/engine/training_v1.py:2079: UserWarning: `Model.state_updates` will be removed in a future version. This property should not be used in TensorFlow 2.0, as `updates` are applied automatically.\n",
      "  updates=self.state_updates,\n"
     ]
    },
    {
     "data": {
      "image/png": "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\n",
      "text/plain": [
       "<Figure size 432x288 with 2 Axes>"
      ]
     },
     "metadata": {
      "needs_background": "light"
     },
     "output_type": "display_data"
    },
    {
     "name": "stdout",
     "output_type": "stream",
     "text": [
      "Accuracy for model with 4 hidden layers :  0.5922330097087378\n"
     ]
    }
   ],
   "source": [
    "#Model configuration for hiddel layer 4\n",
    "classifier4 = KerasClassifier(build_fn=model_base4,epochs=300,batch_size=200,verbose=0)\n",
    "evaluate_model(classifier4, X, y_encoded) \n",
    "y_pred4 = predict(classifier4,X_train, y_train)\n",
    "draw_confusion_matrix(y_test, y_pred4)\n",
    "accuracy = find_accuracy_score(y_test, y_pred4)\n",
    "print(\"Accuracy for model with 4 hidden layers : \" , accuracy)\n",
    "accuracy_score_list.append(accuracy)"
   ]
  },
  {
   "cell_type": "code",
   "execution_count": 47,
   "id": "dc8f2b42-1c44-484b-a0d3-d0017d843d65",
   "metadata": {},
   "outputs": [
    {
     "name": "stderr",
     "output_type": "stream",
     "text": [
      "/var/folders/6q/1tr6dsz903s0r57yd4bx3jrm0000gn/T/ipykernel_3027/3509805319.py:1: DeprecationWarning: KerasClassifier is deprecated, use Sci-Keras (https://github.com/adriangb/scikeras) instead.\n",
      "  classifier5 = KerasClassifier(build_fn=model_base5,epochs=300,batch_size=200,verbose=0)\n",
      "/Users/sangeetha/venv-ml-pa1/lib/python3.9/site-packages/keras/engine/training_v1.py:2057: UserWarning: `Model.state_updates` will be removed in a future version. This property should not be used in TensorFlow 2.0, as `updates` are applied automatically.\n",
      "  updates = self.state_updates\n",
      "/Users/sangeetha/venv-ml-pa1/lib/python3.9/site-packages/keras/engine/training_v1.py:2057: UserWarning: `Model.state_updates` will be removed in a future version. This property should not be used in TensorFlow 2.0, as `updates` are applied automatically.\n",
      "  updates = self.state_updates\n",
      "/Users/sangeetha/venv-ml-pa1/lib/python3.9/site-packages/keras/engine/training_v1.py:2057: UserWarning: `Model.state_updates` will be removed in a future version. This property should not be used in TensorFlow 2.0, as `updates` are applied automatically.\n",
      "  updates = self.state_updates\n",
      "/Users/sangeetha/venv-ml-pa1/lib/python3.9/site-packages/keras/engine/training_v1.py:2057: UserWarning: `Model.state_updates` will be removed in a future version. This property should not be used in TensorFlow 2.0, as `updates` are applied automatically.\n",
      "  updates = self.state_updates\n",
      "/Users/sangeetha/venv-ml-pa1/lib/python3.9/site-packages/keras/engine/training_v1.py:2057: UserWarning: `Model.state_updates` will be removed in a future version. This property should not be used in TensorFlow 2.0, as `updates` are applied automatically.\n",
      "  updates = self.state_updates\n",
      "/Users/sangeetha/venv-ml-pa1/lib/python3.9/site-packages/keras/engine/training_v1.py:2057: UserWarning: `Model.state_updates` will be removed in a future version. This property should not be used in TensorFlow 2.0, as `updates` are applied automatically.\n",
      "  updates = self.state_updates\n",
      "/Users/sangeetha/venv-ml-pa1/lib/python3.9/site-packages/keras/engine/training_v1.py:2057: UserWarning: `Model.state_updates` will be removed in a future version. This property should not be used in TensorFlow 2.0, as `updates` are applied automatically.\n",
      "  updates = self.state_updates\n",
      "/Users/sangeetha/venv-ml-pa1/lib/python3.9/site-packages/keras/engine/training_v1.py:2057: UserWarning: `Model.state_updates` will be removed in a future version. This property should not be used in TensorFlow 2.0, as `updates` are applied automatically.\n",
      "  updates = self.state_updates\n",
      "/Users/sangeetha/venv-ml-pa1/lib/python3.9/site-packages/keras/engine/training_v1.py:2057: UserWarning: `Model.state_updates` will be removed in a future version. This property should not be used in TensorFlow 2.0, as `updates` are applied automatically.\n",
      "  updates = self.state_updates\n",
      "/Users/sangeetha/venv-ml-pa1/lib/python3.9/site-packages/keras/engine/training_v1.py:2057: UserWarning: `Model.state_updates` will be removed in a future version. This property should not be used in TensorFlow 2.0, as `updates` are applied automatically.\n",
      "  updates = self.state_updates\n"
     ]
    },
    {
     "name": "stdout",
     "output_type": "stream",
     "text": [
      "Baseline: 77.38% (5.33%)\n"
     ]
    },
    {
     "name": "stderr",
     "output_type": "stream",
     "text": [
      "/Users/sangeetha/venv-ml-pa1/lib/python3.9/site-packages/keras/engine/training_v1.py:2079: UserWarning: `Model.state_updates` will be removed in a future version. This property should not be used in TensorFlow 2.0, as `updates` are applied automatically.\n",
      "  updates=self.state_updates,\n"
     ]
    },
    {
     "data": {
      "image/png": "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\n",
      "text/plain": [
       "<Figure size 432x288 with 2 Axes>"
      ]
     },
     "metadata": {
      "needs_background": "light"
     },
     "output_type": "display_data"
    },
    {
     "name": "stdout",
     "output_type": "stream",
     "text": [
      "Accuracy for model with 5 hidden layers :  0.7475728155339806\n"
     ]
    }
   ],
   "source": [
    "classifier5 = KerasClassifier(build_fn=model_base5,epochs=300,batch_size=200,verbose=0)\n",
    "evaluate_model(classifier5, X, y_encoded)\n",
    "y_pred5 = predict(classifier5,X_train, y_train)\n",
    "draw_confusion_matrix(y_test, y_pred5)\n",
    "accuracy = find_accuracy_score(y_test, y_pred5)\n",
    "print(\"Accuracy for model with 5 hidden layers : \" , accuracy)\n",
    "accuracy_score_list.append(accuracy)"
   ]
  },
  {
   "cell_type": "code",
   "execution_count": 48,
   "id": "8ed31a1b-7e65-436d-b09d-d82e95b91f40",
   "metadata": {},
   "outputs": [
    {
     "name": "stderr",
     "output_type": "stream",
     "text": [
      "/var/folders/6q/1tr6dsz903s0r57yd4bx3jrm0000gn/T/ipykernel_3027/2435246712.py:1: DeprecationWarning: KerasClassifier is deprecated, use Sci-Keras (https://github.com/adriangb/scikeras) instead.\n",
      "  classifier6 = KerasClassifier(build_fn=model_base6,epochs=300,batch_size=200,verbose=0)\n",
      "/Users/sangeetha/venv-ml-pa1/lib/python3.9/site-packages/keras/engine/training_v1.py:2057: UserWarning: `Model.state_updates` will be removed in a future version. This property should not be used in TensorFlow 2.0, as `updates` are applied automatically.\n",
      "  updates = self.state_updates\n",
      "/Users/sangeetha/venv-ml-pa1/lib/python3.9/site-packages/keras/engine/training_v1.py:2057: UserWarning: `Model.state_updates` will be removed in a future version. This property should not be used in TensorFlow 2.0, as `updates` are applied automatically.\n",
      "  updates = self.state_updates\n",
      "/Users/sangeetha/venv-ml-pa1/lib/python3.9/site-packages/keras/engine/training_v1.py:2057: UserWarning: `Model.state_updates` will be removed in a future version. This property should not be used in TensorFlow 2.0, as `updates` are applied automatically.\n",
      "  updates = self.state_updates\n",
      "/Users/sangeetha/venv-ml-pa1/lib/python3.9/site-packages/keras/engine/training_v1.py:2057: UserWarning: `Model.state_updates` will be removed in a future version. This property should not be used in TensorFlow 2.0, as `updates` are applied automatically.\n",
      "  updates = self.state_updates\n",
      "/Users/sangeetha/venv-ml-pa1/lib/python3.9/site-packages/keras/engine/training_v1.py:2057: UserWarning: `Model.state_updates` will be removed in a future version. This property should not be used in TensorFlow 2.0, as `updates` are applied automatically.\n",
      "  updates = self.state_updates\n",
      "/Users/sangeetha/venv-ml-pa1/lib/python3.9/site-packages/keras/engine/training_v1.py:2057: UserWarning: `Model.state_updates` will be removed in a future version. This property should not be used in TensorFlow 2.0, as `updates` are applied automatically.\n",
      "  updates = self.state_updates\n",
      "/Users/sangeetha/venv-ml-pa1/lib/python3.9/site-packages/keras/engine/training_v1.py:2057: UserWarning: `Model.state_updates` will be removed in a future version. This property should not be used in TensorFlow 2.0, as `updates` are applied automatically.\n",
      "  updates = self.state_updates\n",
      "/Users/sangeetha/venv-ml-pa1/lib/python3.9/site-packages/keras/engine/training_v1.py:2057: UserWarning: `Model.state_updates` will be removed in a future version. This property should not be used in TensorFlow 2.0, as `updates` are applied automatically.\n",
      "  updates = self.state_updates\n",
      "/Users/sangeetha/venv-ml-pa1/lib/python3.9/site-packages/keras/engine/training_v1.py:2057: UserWarning: `Model.state_updates` will be removed in a future version. This property should not be used in TensorFlow 2.0, as `updates` are applied automatically.\n",
      "  updates = self.state_updates\n",
      "/Users/sangeetha/venv-ml-pa1/lib/python3.9/site-packages/keras/engine/training_v1.py:2057: UserWarning: `Model.state_updates` will be removed in a future version. This property should not be used in TensorFlow 2.0, as `updates` are applied automatically.\n",
      "  updates = self.state_updates\n"
     ]
    },
    {
     "name": "stdout",
     "output_type": "stream",
     "text": [
      "Baseline: 77.85% (6.21%)\n"
     ]
    },
    {
     "name": "stderr",
     "output_type": "stream",
     "text": [
      "/Users/sangeetha/venv-ml-pa1/lib/python3.9/site-packages/keras/engine/training_v1.py:2079: UserWarning: `Model.state_updates` will be removed in a future version. This property should not be used in TensorFlow 2.0, as `updates` are applied automatically.\n",
      "  updates=self.state_updates,\n"
     ]
    },
    {
     "data": {
      "image/png": "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\n",
      "text/plain": [
       "<Figure size 432x288 with 2 Axes>"
      ]
     },
     "metadata": {
      "needs_background": "light"
     },
     "output_type": "display_data"
    },
    {
     "name": "stdout",
     "output_type": "stream",
     "text": [
      "Accuracy for model with 6 hidden layers :  0.7475728155339806\n"
     ]
    }
   ],
   "source": [
    "classifier6 = KerasClassifier(build_fn=model_base6,epochs=300,batch_size=200,verbose=0)\n",
    "evaluate_model(classifier6, X, y_encoded)\n",
    "y_pred6 = predict(classifier6,X_train, y_train)\n",
    "draw_confusion_matrix(y_test, y_pred6)\n",
    "accuracy = find_accuracy_score(y_test, y_pred6)\n",
    "print(\"Accuracy for model with 6 hidden layers : \" , accuracy)\n",
    "accuracy_score_list.append(accuracy)"
   ]
  },
  {
   "cell_type": "code",
   "execution_count": 49,
   "id": "a0fc892b-df96-4b23-b33a-5f0e1ed78f8f",
   "metadata": {},
   "outputs": [
    {
     "name": "stderr",
     "output_type": "stream",
     "text": [
      "/var/folders/6q/1tr6dsz903s0r57yd4bx3jrm0000gn/T/ipykernel_3027/1499338477.py:1: DeprecationWarning: KerasClassifier is deprecated, use Sci-Keras (https://github.com/adriangb/scikeras) instead.\n",
      "  classifier7 = KerasClassifier(build_fn=model_base7,epochs=300,batch_size=200,verbose=0)\n",
      "/Users/sangeetha/venv-ml-pa1/lib/python3.9/site-packages/keras/engine/training_v1.py:2057: UserWarning: `Model.state_updates` will be removed in a future version. This property should not be used in TensorFlow 2.0, as `updates` are applied automatically.\n",
      "  updates = self.state_updates\n",
      "/Users/sangeetha/venv-ml-pa1/lib/python3.9/site-packages/keras/engine/training_v1.py:2057: UserWarning: `Model.state_updates` will be removed in a future version. This property should not be used in TensorFlow 2.0, as `updates` are applied automatically.\n",
      "  updates = self.state_updates\n",
      "/Users/sangeetha/venv-ml-pa1/lib/python3.9/site-packages/keras/engine/training_v1.py:2057: UserWarning: `Model.state_updates` will be removed in a future version. This property should not be used in TensorFlow 2.0, as `updates` are applied automatically.\n",
      "  updates = self.state_updates\n",
      "/Users/sangeetha/venv-ml-pa1/lib/python3.9/site-packages/keras/engine/training_v1.py:2057: UserWarning: `Model.state_updates` will be removed in a future version. This property should not be used in TensorFlow 2.0, as `updates` are applied automatically.\n",
      "  updates = self.state_updates\n",
      "/Users/sangeetha/venv-ml-pa1/lib/python3.9/site-packages/keras/engine/training_v1.py:2057: UserWarning: `Model.state_updates` will be removed in a future version. This property should not be used in TensorFlow 2.0, as `updates` are applied automatically.\n",
      "  updates = self.state_updates\n",
      "/Users/sangeetha/venv-ml-pa1/lib/python3.9/site-packages/keras/engine/training_v1.py:2057: UserWarning: `Model.state_updates` will be removed in a future version. This property should not be used in TensorFlow 2.0, as `updates` are applied automatically.\n",
      "  updates = self.state_updates\n",
      "/Users/sangeetha/venv-ml-pa1/lib/python3.9/site-packages/keras/engine/training_v1.py:2057: UserWarning: `Model.state_updates` will be removed in a future version. This property should not be used in TensorFlow 2.0, as `updates` are applied automatically.\n",
      "  updates = self.state_updates\n",
      "/Users/sangeetha/venv-ml-pa1/lib/python3.9/site-packages/keras/engine/training_v1.py:2057: UserWarning: `Model.state_updates` will be removed in a future version. This property should not be used in TensorFlow 2.0, as `updates` are applied automatically.\n",
      "  updates = self.state_updates\n",
      "/Users/sangeetha/venv-ml-pa1/lib/python3.9/site-packages/keras/engine/training_v1.py:2057: UserWarning: `Model.state_updates` will be removed in a future version. This property should not be used in TensorFlow 2.0, as `updates` are applied automatically.\n",
      "  updates = self.state_updates\n",
      "/Users/sangeetha/venv-ml-pa1/lib/python3.9/site-packages/keras/engine/training_v1.py:2057: UserWarning: `Model.state_updates` will be removed in a future version. This property should not be used in TensorFlow 2.0, as `updates` are applied automatically.\n",
      "  updates = self.state_updates\n"
     ]
    },
    {
     "name": "stdout",
     "output_type": "stream",
     "text": [
      "Baseline: 79.02% (5.26%)\n"
     ]
    },
    {
     "name": "stderr",
     "output_type": "stream",
     "text": [
      "/Users/sangeetha/venv-ml-pa1/lib/python3.9/site-packages/keras/engine/training_v1.py:2079: UserWarning: `Model.state_updates` will be removed in a future version. This property should not be used in TensorFlow 2.0, as `updates` are applied automatically.\n",
      "  updates=self.state_updates,\n"
     ]
    },
    {
     "data": {
      "image/png": "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\n",
      "text/plain": [
       "<Figure size 432x288 with 2 Axes>"
      ]
     },
     "metadata": {
      "needs_background": "light"
     },
     "output_type": "display_data"
    },
    {
     "name": "stdout",
     "output_type": "stream",
     "text": [
      "Accuracy for model with 7 hidden layers :  0.6893203883495146\n"
     ]
    }
   ],
   "source": [
    "classifier7 = KerasClassifier(build_fn=model_base7,epochs=300,batch_size=200,verbose=0)\n",
    "evaluate_model(classifier7, X, y_encoded)\n",
    "y_pred7 = predict(classifier7,X_train, y_train)\n",
    "draw_confusion_matrix(y_test, y_pred7)\n",
    "accuracy = find_accuracy_score(y_test, y_pred7)\n",
    "print(\"Accuracy for model with 7 hidden layers : \" , accuracy)\n",
    "accuracy_score_list.append(accuracy)"
   ]
  },
  {
   "cell_type": "code",
   "execution_count": 50,
   "id": "bb6cf6b8-8af1-4a62-b40d-10c1082b24c2",
   "metadata": {},
   "outputs": [
    {
     "name": "stderr",
     "output_type": "stream",
     "text": [
      "/var/folders/6q/1tr6dsz903s0r57yd4bx3jrm0000gn/T/ipykernel_3027/1160969786.py:1: DeprecationWarning: KerasClassifier is deprecated, use Sci-Keras (https://github.com/adriangb/scikeras) instead.\n",
      "  classifier8 = KerasClassifier(build_fn=model_base8,epochs=300,batch_size=200,verbose=0)\n",
      "/Users/sangeetha/venv-ml-pa1/lib/python3.9/site-packages/keras/engine/training_v1.py:2057: UserWarning: `Model.state_updates` will be removed in a future version. This property should not be used in TensorFlow 2.0, as `updates` are applied automatically.\n",
      "  updates = self.state_updates\n",
      "/Users/sangeetha/venv-ml-pa1/lib/python3.9/site-packages/keras/engine/training_v1.py:2057: UserWarning: `Model.state_updates` will be removed in a future version. This property should not be used in TensorFlow 2.0, as `updates` are applied automatically.\n",
      "  updates = self.state_updates\n",
      "/Users/sangeetha/venv-ml-pa1/lib/python3.9/site-packages/keras/engine/training_v1.py:2057: UserWarning: `Model.state_updates` will be removed in a future version. This property should not be used in TensorFlow 2.0, as `updates` are applied automatically.\n",
      "  updates = self.state_updates\n",
      "/Users/sangeetha/venv-ml-pa1/lib/python3.9/site-packages/keras/engine/training_v1.py:2057: UserWarning: `Model.state_updates` will be removed in a future version. This property should not be used in TensorFlow 2.0, as `updates` are applied automatically.\n",
      "  updates = self.state_updates\n",
      "/Users/sangeetha/venv-ml-pa1/lib/python3.9/site-packages/keras/engine/training_v1.py:2057: UserWarning: `Model.state_updates` will be removed in a future version. This property should not be used in TensorFlow 2.0, as `updates` are applied automatically.\n",
      "  updates = self.state_updates\n",
      "/Users/sangeetha/venv-ml-pa1/lib/python3.9/site-packages/keras/engine/training_v1.py:2057: UserWarning: `Model.state_updates` will be removed in a future version. This property should not be used in TensorFlow 2.0, as `updates` are applied automatically.\n",
      "  updates = self.state_updates\n",
      "/Users/sangeetha/venv-ml-pa1/lib/python3.9/site-packages/keras/engine/training_v1.py:2057: UserWarning: `Model.state_updates` will be removed in a future version. This property should not be used in TensorFlow 2.0, as `updates` are applied automatically.\n",
      "  updates = self.state_updates\n",
      "/Users/sangeetha/venv-ml-pa1/lib/python3.9/site-packages/keras/engine/training_v1.py:2057: UserWarning: `Model.state_updates` will be removed in a future version. This property should not be used in TensorFlow 2.0, as `updates` are applied automatically.\n",
      "  updates = self.state_updates\n",
      "/Users/sangeetha/venv-ml-pa1/lib/python3.9/site-packages/keras/engine/training_v1.py:2057: UserWarning: `Model.state_updates` will be removed in a future version. This property should not be used in TensorFlow 2.0, as `updates` are applied automatically.\n",
      "  updates = self.state_updates\n",
      "/Users/sangeetha/venv-ml-pa1/lib/python3.9/site-packages/keras/engine/training_v1.py:2057: UserWarning: `Model.state_updates` will be removed in a future version. This property should not be used in TensorFlow 2.0, as `updates` are applied automatically.\n",
      "  updates = self.state_updates\n"
     ]
    },
    {
     "name": "stdout",
     "output_type": "stream",
     "text": [
      "Baseline: 80.33% (3.57%)\n"
     ]
    },
    {
     "name": "stderr",
     "output_type": "stream",
     "text": [
      "/Users/sangeetha/venv-ml-pa1/lib/python3.9/site-packages/keras/engine/training_v1.py:2079: UserWarning: `Model.state_updates` will be removed in a future version. This property should not be used in TensorFlow 2.0, as `updates` are applied automatically.\n",
      "  updates=self.state_updates,\n"
     ]
    },
    {
     "data": {
      "image/png": "iVBORw0KGgoAAAANSUhEUgAAAWgAAAEWCAYAAABLzQ1kAAAAOXRFWHRTb2Z0d2FyZQBNYXRwbG90bGliIHZlcnNpb24zLjUuMSwgaHR0cHM6Ly9tYXRwbG90bGliLm9yZy/YYfK9AAAACXBIWXMAAAsTAAALEwEAmpwYAAAt1klEQVR4nO3dd5xU1fnH8c93dwGpKqBIU7B3JVHsBjX2lmhiCfnF2NBfrIkl+RmjYosdxBLFitiJolKCBVFBUSkiVUHBQhEERJoBdvf5/XHvwrguszOzc+feZZ53Xve1t577zASfPXvuOefKzHDOOZc8JXEH4JxzrmaeoJ1zLqE8QTvnXEJ5gnbOuYTyBO2ccwnlCdo55xLKE7SrM0mNJQ2S9L2kAXUop7uk1/IZWxwk/UfSGXHH4eo/T9BFRNLvJI2VtFzSvDCRHJiHon8DtAFamdlvcy3EzJ4ysyPyEM+PSOomySQNrLZ/j3D/WxmWc52kJ2s7z8yONrN+OYbr3FqeoIuEpL8AvYGbCZLplsD9wIl5KH4rYLqZleehrKh8C+wnqVXKvjOA6fm6gQL+35TLG//HVAQkbQxcD1xgZi+a2QozW2Nmg8zsivCcRpJ6S5obLr0lNQqPdZM0W9JlkhaEte8zw2M9gWuAU8Oa+dnVa5qSOoU11bJw+4+SZkpaJmmWpO4p+0elXLe/pDFh08kYSfunHHtL0g2S3g3LeU1S6zRfw2rgJeC08PpS4FTgqWrf1d2Svpa0VNI4SQeF+48Crkr5nB+nxHGTpHeBlcDW4b5zwuP/kvRCSvm3ShouSZn+/+eKlyfo4rAfsBEwMM05fwf2BfYE9gC6AlenHN8C2BhoD5wN3CdpUzO7lqBW/pyZNTOzR9IFIqkp0Ac42syaA/sDE2o4ryUwJDy3FXAXMKRaDfh3wJnA5kBD4PJ09waeAP4Qrh8JTAbmVjtnDMF30BJ4GhggaSMzG1btc+6Rcs3/AD2A5sCX1cq7DNgt/OVzEMF3d4b5HAsuA56gi0MrYGEtTRDdgevNbIGZfQv0JEg8VdaEx9eY2VBgObBDjvFUArtKamxm88xsSg3nHAvMMLP+ZlZuZs8AnwDHp5zzmJlNN7MfgOcJEut6mdl7QEtJOxAk6idqOOdJM1sU3vNOoBG1f87HzWxKeM2aauWtJPge7wKeBC4ys9m1lOcc4Am6WCwCWlc1MaxHO35c+/sy3Le2jGoJfiXQLNtAzGwFQdPC+cA8SUMk7ZhBPFUxtU/Z/iaHePoDFwKHUMNfFJIulzQtbFZZQvBXQ7qmE4Cv0x00sw+AmYAIfpE4lxFP0MVhNLAK+FWac+YSPOyrsiU//fM/UyuAJinbW6QeNLNXzexwoC1BrfihDOKpimlOjjFV6Q/8CRga1m7XCpsgrgROATY1s02A7wkSK8D6miXSNldIuoCgJj43LN+5jHiCLgJm9j3Bg7z7JP1KUhNJDSQdLem28LRngKslbRY+bLuG4E/yXEwADpa0ZfiA8v+qDkhqI+nEsC16FUFTSWUNZQwFtg+7BpZJOhXYGRicY0wAmNks4BcEbe7VNQfKCXp8lEm6BmiRcnw+0CmbnhqStgduBH5P0NRxpaQ9c4veFRtP0EUibE/9C8GDv28J/iy/kKBnAwRJZCwwEZgEjA/35XKv14HnwrLG8eOkWhLGMRdYTJAs/7eGMhYBxxE8ZFtEUPM8zswW5hJTtbJHmVlNfx28Cgwj6Hr3JfBfftx8UTUIZ5Gk8bXdJ2xSehK41cw+NrMZBD1B+lf1kHEuHfnDZOecSyavQTvnXEJ5gnbOuYTyBO2ccwnlCdo55xIq3cCFWK1ZONOfXoYatzso7hBcArVr1jLuEBLjq8WT6jy3STY5p0HrrQsyl0piE7RzzhVUZUXcEfyEJ2jnnAOwmsZLxcsTtHPOAVR6gnbOuUQyr0E751xCVSTvhUDezc455yB4SJjpkoakjpJGSJoqaYqkS8L910maI2lCuBxTW0heg3bOOcjnQ8Jy4DIzGy+pOTBO0uvhsV5mdkemBXmCds45yNtDQjObB8wL15dJmsaPXzSRMW/icM45goeEmS6Sekgam7L0qKlMSZ2ALsAH4a4LJU2U9KikTWuLyRO0c85BUIPOcDGzvma2V8rSt3pxkpoBLwCXmtlS4F/ANgTvzpwH3FlbSN7E4ZxzABVraj8nQ5IaECTnp8zsRQAzm59y/CEyeDuQJ2jnnIO8PSSUJOARYJqZ3ZWyv23YPg3wa2BybWV5gnbOOcjnSMIDCN4/OUnShHDfVcDp4fsoDfgCOK+2gjxBO+cc5K0GbWajWPcm+FRDsy3LE7RzzoHPxeGcc0lllfl7SJgvnqCdcw6KrwYtqTNwEdAp9V5mdkKU93XOuawV4Wx2LxF0NxkEJO/TO+dclSJ8o8p/zaxPxPdwzrm6K8Ia9N2SrgVeA1ZV7TSz8RHf1znnslNsbdDAbgQdtg9lXROHhdvOOZccRThh/2+Brc3sF2Z2SLgkMjnPm/8tZ174V07o3oMTu59H/+dfWnvsqQEvc/zp53Ji9/O4875H4gsyJkce0Y0pk9/hk6mjuPKKC+IOJ1b+XQTatm/Dsy8/wvDRL/HGewM567zucYdUd1lMllQoUdegJwObAAsivk+dlZWWcsVF57LzDtuyYsVKTjn7YvbfuwuLFi9hxKj3eaHffTRs2JBF3y2JO9SCKikpoc/dN3HUMacze/Y83h89lEGDX2PatBlxh1Zw/l2sU1FewY3/uIPJE6fRtFkThrz5HCPfGs2MT2fGHVrOzIrvIeEmwCeSxvDjNujEdbPbrHVLNmvdEoCmTZuw9VYdmf/tIl4YNIyzf38KDRs2BKDVppvEGGXhdd27C59//gWzZn0FwPPPv8wJxx9ZlEnJv4t1FsxfyIL5CwFYsXwln02fxRZt29TrBF2MbdDXRlx+JObMm8+0GZ+z+y47cOd9jzDu48n06duPRg0bcNmF57DbTjvEHWLBtGu/BV/Pnrt2e/aceXTdu0uMEcXHv4uadejYjl1235GPxk2MO5S6KbZeHGb2dpTlR2Hlyh/4899v5K8Xn0ezpk2pqKhg6dJlPN23F5OnTefyf/yTYQMeI5hR0Lni1qRpYx7s14ueV93K8mUr4g6nbhJYg47kIaGkZZKW1rAsk7Q0zXVrXyPz8BPPRBFaWmvKy7n07zdy7BGHcHi3AwBos3lrfvmLA5DEbjvvgCS+W/J9wWOLy9w539CxQ7u12x3at2Xu3G9ijCg+/l38WFlZGQ/268XAfw9h2ODhcYdTdxXlmS8FEkmCNrPmZtaihqW5mbVIc93a18ic84fTowhtvcyMa/7Zm6236sgZp520dv+hB+3Hh+M/BuCLr2azprycTTfZuKCxxWnM2Alsu21nOnXqSIMGDTjllBMZNPi1uMOKhX8XP3Z7n558Nn0mD9//RNyh5IdVZr4USEEmS5K0ObBR1baZfVWI+2bjo4lTGDRsONtt04mTzwi6T11y3hmcdNwRXH1zL371+/Np0KCMm6++rKiaNyoqKrjk0qsZOuRpSktKeLzfc0ydOj3usGLh38U6e+/ThZNPO4FpU6bzn7cHAHDbDX0Y8cbImCOrgwQ2ccjMoitcOoHgxYjtCLrabUXwGphdart2zcKZ0QVWzzRud1DcIbgEatesZdwhJMZXiyfVudb0w5DeGeecxsdeWpBaWtQDVW4A9gWmm1ln4DDg/Yjv6Zxz2SvCJo41ZrZIUomkEjMbIal3xPd0zrnsJXCod9QJeomkZsA7wFOSFgD1vC+Oc26DlMA26EgStKRtgTbAicAPwJ+B7gRt0BdFcU/nnKuTBA5UiaoNujew1MxWmFmlmZWbWT9gIHBdRPd0zrncFdFkSW3MbFL1nWY2SVKniO7pnHO5K5YmDoJJktancUT3dM653EXY5ThXUTVxjJV0bvWdks4BxkV0T+ecy115eeZLgURVg74UGCipO+sS8l5AQ+DXEd3TOedyl8CHhJEkaDObD+wv6RBg13D3EDN7M4r7OedcnRVRGzQAZjYCGBHlPZxzLi8S2AZdkMmSnHMu8YqtBu2cc/WGJ2jnnEsmqyi+l8Y651z9kMAadNTTjTrnXP2Qp+lGJXWUNELSVElTJF0S7m8p6XVJM8Kfm9YWkido55wDqLTMl/TKgcvMbGeC+fAvkLQz8DdguJltBwwPt9PyBO2cc5C3yZLMbJ6ZjQ/XlwHTgPYEs3v2C0/rB/yqtpC8Ddo55wAieEgYTg7XBfiAYBK5eeGhbwimZE7La9DOOQdZ1aAl9ZA0NmXpUb248GUlLwCXmtnS1GMWvAy21rYSr0E75xxk0ra8lpn1Bfqu77ikBgTJ+SkzezHcPV9SWzObJ6ktwYu00/IatHPOQT57cQh4BJhmZnelHHoFOCNcPwN4ubaQvAbtnHOQVQ26FgcA/wNMkjQh3HcVcAvwvKSzgS+BU2orKLEJunG7g+IOITGWDbgk7hASY4cz+8cdQmJ8v3pl3CFsUCxPA1XMbBSg9Rw+LJuyEpugnXOuoHyot3POJVT+mjjyxhO0c85BIufi8ATtnHPgNWjnnEusBL6TMNJ+0JL6SdokZXtTSY9GeU/nnMtJ/iZLypuoa9C7m9mSqg0z+05Sl4jv6ZxzWbPy4uvFUSJpUzP7DoL5UAtwT+ecy14RtkHfCYyWNICg4/ZvgJsivqdzzmUvgW3QkSZoM3tC0ljg0HDXSWY2Ncp7OudcToqlBi2phZktDZs0vgGeTjnW0swWR3Ff55zLlRVLgiZIyMcB4/jxnKcKt7eO6L7OOZebYnlIaGbHhT87R1G+c87lXQJr0FH3gx6eyT7nnItdsfSDlrQR0ARoHb5avGrqvRYEL090zrlECd5ClSxRtUGfB1wKtAPGp+xfCtwb0T2dcy53CWziiKoN+m7gbkkXmdk9UdzDOefyqlgSdIpHJV0NbGlmPSRtB+xgZoMjvq9zzmXFypM3UCXql8Y+CqwG9g+35wA3RnxP55zLXmUWS4FEnaC3MbPbgDUAZraS9b+ryznnYmOVlvFSKFE3cayW1JhwsIqkbYBVEd/TOeeyV4Rt0NcCw4COkp4ieB35HyO+p3POZS95TdCRT5b0uqTxwL4ETRuXmNnCKO+ZL0ce0Y277rqe0pISHn3sGW67/b64QyqYb5Ys5+pn32Hx8h9AcPI+O9D9wF25a/CHvDPtKxqUltChVQt6nnIQLRo3ijvcgmnbvg297r+ZzTZvhZnxdL9/8+iDT8UdVizuvf8Wjjr6UL79dhH7dT067nDyopjm4gBA0s/C1Xnhzy0lbQx8aWblUd67LkpKSuhz900cdczpzJ49j/dHD2XQ4NeYNm1G3KEVRGlJCZcd15WdOrRmxX9Xc3qfl9l3u/bsu307Lj56L8pKS+g99EMeHfExlx7TNe5wC6aivIIb/3EHkydOo2mzJgx58zlGvjWaGZ/OjDu0gnv6qRd46MH+PPDQHXGHkjdWnrwEHfVDwvuB94G+wEPAaGAA8KmkIyK+d8667t2Fzz//glmzvmLNmjU8//zLnHD8kXGHVTCbtWjCTh1aA9B0o4ZsvfkmLPh+Jftv34Gy0uCfzO5bbs78JSvjDLPgFsxfyOSJ0wBYsXwln02fxRZt28QcVTzee3cM3323JO4w8qsIe3HMBbqY2V5m9nOgCzATOBy4LeJ756xd+y34evbctduz58yjXbstYowoPnMWL+OTuYvYbcvNfrT/pTHTOXDHDjFFFb8OHduxy+478tG4iXGH4vLEKjNfCiXqh4Tbm9mUqg0zmyppRzObKf20t52kHkAPAJVuTElJ04jDc+msXLWGy/sP54rj96XZRg3X7n9o+ARKS0o4pss2MUYXnyZNG/Ngv170vOpWli9bEXc4Ll+K7SEhMFXSv4Bnw+1Tw32NCPtGpzKzvgTNIZQ1bB9bg9DcOd/QsUO7tdsd2rdl7txv4gonFmsqKrms/3CO6bINh+3Wae3+l8dOZ+S0r3iwxzHU9Et2Q1dWVsaD/Xox8N9DGDbYJ2bckCTwjVfZNXFI2lTS7llccgbwGcHESZcSNG/8kSA5H5LNvQtpzNgJbLttZzp16kiDBg045ZQTGTT4tbjDKhgzo+eAkXTefBP+5+Dd1u5/99PZ9HtrEr3/eDiNGxbnu39v79OTz6bP5OH7n4g7FJdnVp75Uii1/lcm6S3ghPDcccACSe+a2V9qua4UGGpmhxC8PLa65dmHWxgVFRVccunVDB3yNKUlJTze7zmmTp0ed1gFM+GL+Qwe/xnbbbEpp/QaCMBFR+3Fba+MZnV5Jec/NAwIHhReffIBcYZaUHvv04WTTzuBaVOm85+3BwBw2w19GPHGyJgjK7xHHuvNgQftQ6tWmzL101H886a76f/EgLjDqpMk1qBV2xyokj4ysy6SzgE6mtm1kiaaWa016XBy/pPM7PtsA4uziSNplg24JO4QEmOHM/vHHUJifL+6uHrRpPP98s/r3N42/5BfZJxz2ox4uyDte5n8nVomqS1wCvD3LMtfDkyS9Dqw9mmKmV2cZTnOORctS94zlUwS9PXAq8AoMxsjaWsg0xEbL4aLc84lWhKbOGpN0GY2gGBwSdX2TODkTAo3s37hZElbmtmnOUfpnHMRs8r81aAlPQocBywws13DfdcB5wLfhqddZWZD05Wz3gQt6R7CWehqkkkzhaTjgTuAhkBnSXsC15vZCbVd65xzhVRZkdcmjscJXu9XvbtPLzPLeHx8uhr02ByCqu46oCvwFoCZTQibSJxzLlHy2cRhZu9I6lTXctaboM2sX+q2pCbhhPvZWGNm31cb0JDAlh7nXLHLpokjddRzqG840K42F0r6A0EF+DIz+y7dybUOVJG0n6SpwCfh9h6S7s8gEIApkn4HlEraLmw2eS/Da51zrmDMslmsbzjHUNWSSXL+F7ANsCfBDJ81jQ/5kUxGEvYGjgQWBR/CPgYOzuA6gIuAXQjeovIMsJRgRKFzziWKVSrjJafyzeabWYWZVRLM7lnrXL0Zjdc1s6+rNVNUZHjdSoK+09n2n3bOuYLK80PCn5DU1syq5sb/NTC5tmsySdBfS9ofMEkNgEuAaRkGtD1wOdAp9V5mdmgm1zvnXKHkuZvdM0A3oLWk2QSv/+sW9mQz4AvgvNrKySRBnw/cDbQnmN/5VeCCDOMcADwAPEyGtW7nnIuD5XEkoZmdXsPuR7ItJ5OBKguB7tkWHCo3s3/leK1zzhVMEkcSZtKLY2tJgyR9K2mBpJez6Ms8SNKfJLWV1LJqqWPMzjmXd5WmjJdCyaSJ42ngPoJGbYDTCHpk7JPBtWeEP69I2WeAD1ZxziVKPps48iWTBN3EzFLneHxS0hXrPTuFmXXOLSznnCusqHtx5GK9TRwpzRH/kfQ3SZ0kbSXpSiDtBB/hOVXrv6127Oa6Bu2cc/kWdT/oXKSrQY8jaI6oiia1S4gB/5fm2tNY99bu/yNlNjzgKOCq7MJ0zrloFbJtOVPp5uKoS/OE1rNe07ZzzsWuvrZBI2lXYGdgo6p9ZpburZm2nvWatp1zLna1vP0vFpm8NPZaghExOxO0PR8NjOKn85ym2kPSUoLacuNwnXB7o/Vf5pxz8ahXTRwpfgPsAXxkZmdKagM8me4CMyvNR3DOOVcolQV8+JepTBL0D2ZWKalcUgtgAdAx4ricc66g6msNeqykTQimxxtH8Kbu0VEG5X5syPkfxx1CYhzbYqe4Q0iMIUszmrPMZahePiQ0sz+Fqw9IGga0MLOJ0YblnHOFVa9q0JJ+lu6YmY2PJiTnnCu8BHbiSFuDTvc6FgN8Tmfn3AajojKTF0wVVrqBKocUMhDnnItTAmcbzWyginPObegsgYOcPUE75xxQmcBGaE/QzjkHVCawBp3JG1Uk6feSrgm3t5RU6+vCnXOuPjGU8VIomTy2vB/YD6h6CeIygjesOOfcBqMCZbwUSiZNHPuY2c8kfQRgZt9JahhxXM45V1D1tRfHGkmlhP24JW1GMj+Lc87lLIlJLZMmjj7AQGBzSTcRTDXqr61yzm1QktgGnclcHE9JGgccRjCf86/MzGdpcc5tUBI422hGvTi2BFYCg4BXgBXhvlpJulPSLnUL0TnnoleJMl4KJZM26CGse3nsRkBn4FMgk8Q7DegrqQx4DHjGzL7PMVbnnItMRdwB1CCTJo7dUrfDWe7+tJ7Tq1/7MPCwpB2AM4GJkt4FHjKzETnE65xzkahU8to4sp6+KZxmdJ9Mzw97gOwYLguBj4G/SHo223s751xULIulUDJ5aexfUjZLgJ8BczMpXFIv4HhgOHCzmX0YHrpV0qdZxuqcc5FJYje7TNqgm6eslxO0Sb+QYfkTgavNbEUNx3y4uHMuMZLYiyNtgg6bJ5qb2eU5lv848GtJBxL8ZTDKzAYC+MNC51ySFHIId6bSvfKqzMzKJR1Qh/LvA7YFngm3z5P0SzO7oA5lOudc3tW3GvSHBO3NEyS9AgwA1jZVmNmLGZR/KLCTmVUNE+8HTMk9XOeci0Y+26AlPQocBywws13DfS2B54BOwBfAKWb2XbpyMunFsRGwiCDZHkfw0O+4DOP8DEgd1NIx3Jd4Rx7RjSmT3+GTqaO48oriqvD//K5zOW7S/Rw+4pa1+9of15XD37qVk+f0Z9M9OscYXXzabN2Wq4betna5a9LjHHrWMXGHFYu27dvw7MuPMHz0S7zx3kDOOq973CHVWZ57cTwOHFVt39+A4Wa2HUHHib/VVki6GvTmYQ+OyawbqFIl054mzYFpkqp6b+wNjA1r5JjZCRmWU1AlJSX0ufsmjjrmdGbPnsf7o4cyaPBrTJs2I+7QCuLL50fy+WOvs3ef89fuW/rpbEaf3Zuf33ZWjJHFa/7Medx8zJUAqET884MHmfDqh7VctWGqKK/gxn/cweSJ02jarAlD3nyOkW+NZsanM+MOLWf5bOIws3ckdaq2+0SgW7jeD3gL+Gu6ctIl6FKgGdTYcp5pgr4mw/MSpeveXfj88y+YNesrAJ5//mVOOP7IoknQC9//hCYdWv9o37IZGfWsLBo7HrAbC7/8hsVzFsYdSiwWzF/IgvnBZ1+xfCWfTZ/FFm3b1O8EncW5knoAPVJ29TWzvrVc1sbM5oXr3wBtartPugQ9z8yur62AdMzsbUlbEHSpM2CMmX1TlzILoV37Lfh69rqENHvOPLru3SXGiFzS7HX8AYx55d24w0iEDh3bscvuO/LRuIlxh1InFVnUoMNkXFtCTne9Saq1opuuDbrOFX5J5xA8bDwJ+A3wvqT1/o0sqYeksZLGVlbW1HXaufiVNihl91/+nPFD3487lNg1adqYB/v1oudVt7J8Wf3+b7YyiyVH8yW1BQh/LqjtgnQ16MNyj2OtK4AuZrYoDKoV8B7waE0np/5WKmvYPrZ37M6d8w0dO7Rbu92hfVvmzk18xd8VyC7duvDV5FksW1jcXfnLysp4sF8vBv57CMMGD487nDorwEjCV4AzgFvCny/XdsF6a9BmtjgPAS0ieIdhlWXhvkQbM3YC227bmU6dOtKgQQNOOeVEBg1+Le6wXELsfcIBjB3kzRu39+nJZ9Nn8vD9T8QdSl7ksxeHpGeA0cAOkmZLOpsgMR8uaQbwy3A7rUyGetfFZ8AHkl4m+FwnEsxo9xcAM7sr4vvnpKKigksuvZqhQ56mtKSEx/s9x9Sp0+MOq2C63n8Bm+2/E41aNueYcfcw9Y5/s3rJCva88QwatWrOAf2vYMmULxl1+q1xh1pwDRs3YscDd+epq3Juftwg7L1PF04+7QSmTZnOf94eAMBtN/RhxBsjY44sd3nuxXH6eg5l1TKhcAxJJCRdm+64mfVc37E4mziS5tlW3eIOITGGN1oTdwiJMWSpv9ioyleLJ9U5vfba8vcZ55w/f/VkQcYdRlqDTpeAnXMuSerlhP11Eb4B/EqCt69sVLXfzA6N8r7OOZetJM7FkfWE/Vl6CviE4DVZPQnGn4+J+J7OOZe1AnSzy1rUCbqVmT0CrDGzt83sLII5PZxzLlHq5RtV6qjqic48SccSvImlZcT3dM65rFUWNPVmJuoEfaOkjYHLgHuAFsCfI76nc85lregeEprZ4HD1e+CQKO/lnHN1UV/fSZg1SfeQpqnGzC6O4r7OOZerJPbiiKoGPTZlvSeQdsCKc87FrWjaoM2sX9W6pEtTt51zLomSl56jf0gIyfzczjn3I0XTBu2cc/VNRQLrklE9JFzGuppzE0lLqw4RvEygRRT3dc65XBVNDdrMmkdRrnPORaVoHhI651x9k7z07AnaOeeAImricM65+qZoHhI651x9423QzjmXUMlLz56gnXMO8Bq0c84llj8kdM65hDKvQWfulLZd4w4hMc5e9H7cISRGx8rN4g4hMT65Zv+4Q9igeC8O55xLKG/icM65hKo0r0E751wiJS89e4J2zjnAu9k551xieS8O55xLqHJP0M45l0xeg3bOuYTybnbOOZdQ5t3snHMumfLZi0PSF8AyoAIoN7O9cinHE7RzzhHJUO9DzGxhXQrwBO2ccySzH3RJ3AE451wSmFnGi6QeksamLD2qFwe8JmlcDccy5jVo55wju14cZtYX6JvmlAPNbI6kzYHXJX1iZu9kG5PXoJ1zjqAfdKb/q7UssznhzwXAQCCn+ZM9QTvnHEEbdKZLOpKaSmpetQ4cAUzOJSZv4nDOOaDC8jZUpQ0wUBIEOfZpMxuWS0GeoJ1zjvwN9TazmcAe+SjLE7RzzuET9jvnXGIlLz17gnbOOSCZA1UiSdCSJpHmF5KZ7R7FfZ1zLldFk6CB48KfF4Q/+4c/u0d0v7xr0qIJ5956AR233xID+l5xLzPGfxp3WLG49/5bOOroQ/n220Xs1/XouMOJTcNGDen38r9o2LAhpaWlvD74Te67/eG4wyoYNduUhkeeiZo0B6B80kjKJ7wJjZrQ6JhzUYtW2NJFrBr6EKxaGXO02ctjL468iSRBm9mXAJION7MuKYf+Jmk88Lco7ptPf7j2HD5++yPu/t/bKW1QRqPGDeMOKTZPP/UCDz3YnwceuiPuUGK1etVqzjrpQn5Y+QNlZaU8MagvI98czcRxU+IOrSCssoLV7wzAvv0aGjRio9/9nYqvplG2835UfP0J5WNfpWyvI2mw91GsGfVi3OFmLYkT9kc9UEWSDkjZ2L8A96yzxs2bsOM+O/PWs28AULGmnJVL61+NIF/ee3cM3323JO4wEuGHlT8AUNagjLKyMhL44D86K5cGyRlgzSoqF89DzTahdOs9KJ86GoDyqaMp3TovPcwKLpu5OAol6oeEZwOPStoYEPAdcFbE96yzzTtuzrJFSznvjovYaudOzJr0OU9c9wirflgVd2guZiUlJTz/+uNs2bkDzzz6ApPGF0ftuTq1aEXJZltS+c0s1LQFrFwaHFi5NNiuh5LYBh1pbdbMxpnZHgSdtnc3sz3NbHyU98yHktJSOu26NW88OYyrjrmMVStXccKfToo7LJcAlZWV/OawP3DYniew2892Ztsdt447pMJr0IhGx57Hmrefh9X//enxevpnRRJr0JE3N0g6FjgPuETSNZKuSXPu2in8Plv+RdShrdfibxaxeN4iPp8wA4APhr5Hp12L8D9Et17Lli7nw1HjOPCQfeMOpbBKSmh03HmUf/IhFZ9/BICtWApNwlpzkxbYymUxBpi7CiozXgol0gQt6QHgVOAigiaO3wJbre98M+trZnuZ2V7bNusUZWhpff/tEhbNW0jbrdsBsOsBuzNnxuzY4nHJsGmrTWjeohkAjTZqxH6/6Mqsz76MOarCavjLP1C5+BvKP3pj7b6KmRMp23k/gOCB4cyP4wqvTirNMl4KJeo26P3NbHdJE82sp6Q7gf9EfM+86HftQ1xw958pa1DGgq/m8+Dl98QdUmweeaw3Bx60D61abcrUT0fxz5vupv8TA+IOq+A2a9Oam/r8g9LSUlQiXn15OG+//m7cYRVMSbttKNt5Pyq/nU1p96sBWP3uS6wZO4xGx/SgbJcDsGWLWTUk3TTJyZXEXhyKsj1F0gdmto+k94GTgMXAZDPbtrZrf7fVr5P3bcVkyKKJcYeQGB2bbhZ3CInx4f/Vz94SUWhy6YOqaxk7bd4145wzbcGHdb5fJqKuQQ+WtAlwGzAu3Fc8Pfudc/VGEmvQUQ313hv42sxuCLebAZOAT4BeUdzTOefqIomz2UX1kPBBYDWApIOBW8J935P+PV7OOReLCqvMeCmUqJo4Ss1scbh+KtDXzF4AXpA0IaJ7OudczpLYxBFVDbpUUlXyPwx4M+WYT3HqnEscs8qMl0KJKlk+A7wtaSHwAzASQNK2BM0czjmXKEkc6h3VbHY3SRoOtAVes3V9+UoIBq0451yiFHIId6Yia24ws/dr2Dc9qvs551xdFE0N2jnn6puKyiKZsN855+qbJPbi8ATtnHMUWRu0c87VJ94G7ZxzCeU1aOecSyh/SOiccwnlTRzOOZdQ3sThnHMJlcTpRj1BO+cc3g/aOecSy2vQzjmXUJUFnEY0U1HNB+2cc/WKmWW81EbSUZI+lfSZpL/lGpPXoJ1zjvz14pBUCtwHHA7MBsZIesXMpmZbltegnXMOsCyWWnQFPjOzmWa2GngWODGXmBJbg376y4GKOwYAST3MzF90i38Xqfy7WGdD+S7KV8/JOOdI6gH0SNnVN+U7aA98nXJsNrBPLjF5Dbp2PWo/pWj4d7GOfxfrFN13YWZ9zWyvlCWSX1CeoJ1zLr/mAB1TtjuE+7LmCdo55/JrDLCdpM6SGgKnAa/kUlBi26ATpN63reWRfxfr+Hexjn8XKcysXNKFwKtAKfComU3JpSwlcYIQ55xz3sThnHOJ5QnaOecSqugStKQtJD0r6XNJ4yQNlbR9mvOXFzK+upJUIWlCypLzMNM8xHKppCYp20MlbRJXPNVV//9W0h8l3RtXPEkl6e+SpkiaGP6byqhPr6ROkiZHHd+GrKgeEkoSMBDoZ2anhfv2ANoA0+OMLY9+MLM981mgpDIzK8/h0kuBJ4GVAGZ2TD7jctGTtB9wHPAzM1slqTXQMOawikax1aAPAdaY2QNVO8zsY+AjScMljZc0SdJPhmVK6ibpbUkvS5op6RZJ3SV9GF6zTSE/SLYkfSGpZ8pn3DHc31TSo+Hn+Kjqs4e1yVckvQkMl9RE0vOSpkoaKOkDSXuF5x4haXRY9gBJzSRdDLQDRkgakRJD63D9D2GN7GNJ/WP5UtKQdHz4GT+S9IakNuH+6yT1Dz/vDEnnhvu7SXpH0pBwkpwHJJVIOktS75Ryz5XUK6aPlYu2wEIzWwVgZgvNbK6kaySNkTRZUt+w8oOkn4f/n34MXBBn4BuEbGZwqu8LcDHQq4b9ZUCLcL018BnrergsD392A5YQ/INtRNDxvGd47BKgd9yfL4ylApiQspwa7v8CuChc/xPwcLh+M/D7cH0Tgr8kmgJ/JBii2jI8djnwYLi+K1AO7BV+X+8ATcNjfwWuSbln65TYvgjP3yW8T+twf8uEfFdfAfeGxzZN+TdwDnBnuH4d8DHQOPwsXxP8IuoG/BfYmqBr1evAb4BmwOdAg/D694Dd4v53ksV31Cz8bqYD9wO/qP7/GdAfOD5cnwgcHK7fDkyO+zPU56WomjjSEHCzpIOBSoKx9G2Ab6qdN8bM5gFI+hx4Ldw/iaB2ngTpmjheDH+OA04K148ATpB0ebi9EbBluP66mS0O1w8E7gYws8mSJob79wV2Bt4NK1ENgdG1xHgoMMDMFoblLa7l/Kj86LuS9EeCXzoQjP56TlJbgs80K+W6l83sB+CH8K+DrgS/vD80s5lhWc8AB5rZv8O/Qo6TNI0gUU+K9mPlj5ktl/Rz4CCCf+PPhc81lkm6EmgCtASmSBoJbGJm74SX9weOjiPuDUWxJegpBLWa6roDmwE/N7M1kr4gSFTVrUpZr0zZrqR+fJdV8VawLl4BJ5vZp6knhg+CVmRQpggS+el5izIZ7gHuMrNXJHUjqDlXqT54wGrZ/zBwFfAJ8FheoywAM6sA3gLekjQJOA/YHdjLzL6WdB01//fi6qjY2qDfBBopmIkKAEm7A1sBC8LkfEi4XSxeBS5KaUPssp7z3gVOCc/ZGdgt3P8+cICkbcNjTbWuV8wyoHkNZb0J/FZSq/Calvn4IHm2MevmTzij2rETJW0Uxt+NYGgvQFcFw3tLgFOBUQBm9gHB3Ay/A56JOvB8krSDpO1Sdu0JVP0yXyipGWGlx8yWAEskHRge716oODdU9aHWlzdmZpJ+DfSW9FeCNsMvCGpHfcLawViCmk591VjShJTtYWaWrqvdDUBvYGKYWGYRPLWv7n6gn6SpBN/PFOB7M/s2bBp4RlKj8NyrCdos+wLDJM01s7VNQGY2RdJNwNuSKoCPCNq8k+Q6YICk7wh+oXROOTYRGEHQBn2DBQ/NtidI1PcC24bHB6Zc8zywp5l9V4DY86kZcI+C7pHlBM9nehA06UwmaAYck3L+mcCjkox1TYAuRz7U22VEwVsiGpjZf8MeK28AO1gwIXnRCP+cX25md1Tb3w243Mxq+uWGpMEED6iHRx2j23AUVQ3a1UkTgi5zDQjanf9UbMk5F2HN80PgY0/OLlteg3bOuYQqtoeEzjlXb3iCds65hPIE7ZxzCeUJ2v2E1s2INzmcW6NJ7Vett6zHJf0mXH847EO9vnO7Sdo/h3usneMjk/3VzslqtsJwLo7Laz/TubrzBO1q8oOZ7WlmuwKrgfNTD0rKqfePmZ1jZlPTnNINyDpBO7eh8gTtajMS2Das3Y6U9AowVVKppNvDGc0mSjoPgildJd0bzuj2BrB5VUGS3tK6GfCOUjD73ccKZhLsRPCL4M9h7f0gSZtJeiG8xxhJB4TXtpL0moI5ih8m6PaXlqSXFMz/PSV1JGl4rFe4f7ikzcJ920gaFl4zUuHsf9Wuu1jB7H4TJT2b4/fr3Hp5P2i3XmFN+WhgWLjrZ8CuZjYrTHLfm9ne4QjCdyW9BnQBdiCYQKkNMBV4tFq5mwEPEcx6NktSSzNbLOkBUgaBSHqaYHDHKElbEgxL3wm4FhhlZtdLOhY4O4OPc1Z4j8bAGEkvmNkigpn7xprZnyVdE5Z9IcEoyPPNbIaCeUnuJ5jkKdXfgM4WzJO8SSbfqXPZ8ATtapI6XHwk8AhB08OHZlY1q9sRwO5V7csEc1dsBxwMPBNOsDNXwUxu1e0LvFNVVprZ7H4J7CytrSC3COd+OJhwNj4zGxIOx67NxeEwfwjmxdgOWEQw0dVz4f4ngRfDe+xPMNS76vpG/NRE4ClJLwEvZRCDc1nxBO1q8pMpS8NElTq7nQjml3612nn5fGtKCbCvmf23hlgyFg7D/iWwn5mtlPQW6599zcL7LkkzbWuVYwl+WRwP/F3Sbpbbm2ecq5G3QbtcvQr8bzj0G0nbS2pKMHn/qWEbdVtqnif7feBgSZ3Da6tms6s++91rwEVVG5L2DFffIZgZDklHE0yun87GwHdhct6RoAZfpYR1U9D+jqDpZCkwS9Jvw3tIwavR1lIwsVRHMxtB8JKCjQkmFnIubzxBu1w9TNC+PF7Bi0EfJPiLbCAwIzz2BDVM3m9m3xLMiPaiglcjVTUxDAJ+XfWQkOANOHuFD+Gmsq43SU+CBD+FoKnjq1piHQaUKZgw/xaCXxBVVhBMEzqZoI35+nB/d+DsML4pQPXXoJUCTyqYAfEjoE843aZzeeNzcTjnXEJ5Ddo55xLKE7RzziWUJ2jnnEsoT9DOOZdQnqCdcy6hPEE751xCeYJ2zrmE+n8mtstITYTIjQAAAABJRU5ErkJggg==\n",
      "text/plain": [
       "<Figure size 432x288 with 2 Axes>"
      ]
     },
     "metadata": {
      "needs_background": "light"
     },
     "output_type": "display_data"
    },
    {
     "name": "stdout",
     "output_type": "stream",
     "text": [
      "Accuracy for model with 8 hidden layers :  0.7281553398058253\n"
     ]
    }
   ],
   "source": [
    "classifier8 = KerasClassifier(build_fn=model_base8,epochs=300,batch_size=200,verbose=0)\n",
    "evaluate_model(classifier8, X, y_encoded)\n",
    "y_pred8 = predict(classifier8,X_train, y_train)\n",
    "draw_confusion_matrix(y_test, y_pred8)\n",
    "accuracy = find_accuracy_score(y_test, y_pred8)\n",
    "print(\"Accuracy for model with 8 hidden layers : \" , accuracy)\n",
    "accuracy_score_list.append(accuracy)"
   ]
  },
  {
   "cell_type": "code",
   "execution_count": 51,
   "id": "2f53b35b-880b-4ed1-bcc3-1ede9b9c4a58",
   "metadata": {},
   "outputs": [
    {
     "name": "stderr",
     "output_type": "stream",
     "text": [
      "/var/folders/6q/1tr6dsz903s0r57yd4bx3jrm0000gn/T/ipykernel_3027/3974727850.py:1: DeprecationWarning: KerasClassifier is deprecated, use Sci-Keras (https://github.com/adriangb/scikeras) instead.\n",
      "  classifier9 = KerasClassifier(build_fn=model_base9,epochs=300,batch_size=200,verbose=0)\n",
      "/Users/sangeetha/venv-ml-pa1/lib/python3.9/site-packages/keras/engine/training_v1.py:2057: UserWarning: `Model.state_updates` will be removed in a future version. This property should not be used in TensorFlow 2.0, as `updates` are applied automatically.\n",
      "  updates = self.state_updates\n",
      "/Users/sangeetha/venv-ml-pa1/lib/python3.9/site-packages/keras/engine/training_v1.py:2057: UserWarning: `Model.state_updates` will be removed in a future version. This property should not be used in TensorFlow 2.0, as `updates` are applied automatically.\n",
      "  updates = self.state_updates\n",
      "/Users/sangeetha/venv-ml-pa1/lib/python3.9/site-packages/keras/engine/training_v1.py:2057: UserWarning: `Model.state_updates` will be removed in a future version. This property should not be used in TensorFlow 2.0, as `updates` are applied automatically.\n",
      "  updates = self.state_updates\n",
      "/Users/sangeetha/venv-ml-pa1/lib/python3.9/site-packages/keras/engine/training_v1.py:2057: UserWarning: `Model.state_updates` will be removed in a future version. This property should not be used in TensorFlow 2.0, as `updates` are applied automatically.\n",
      "  updates = self.state_updates\n",
      "/Users/sangeetha/venv-ml-pa1/lib/python3.9/site-packages/keras/engine/training_v1.py:2057: UserWarning: `Model.state_updates` will be removed in a future version. This property should not be used in TensorFlow 2.0, as `updates` are applied automatically.\n",
      "  updates = self.state_updates\n",
      "/Users/sangeetha/venv-ml-pa1/lib/python3.9/site-packages/keras/engine/training_v1.py:2057: UserWarning: `Model.state_updates` will be removed in a future version. This property should not be used in TensorFlow 2.0, as `updates` are applied automatically.\n",
      "  updates = self.state_updates\n",
      "/Users/sangeetha/venv-ml-pa1/lib/python3.9/site-packages/keras/engine/training_v1.py:2057: UserWarning: `Model.state_updates` will be removed in a future version. This property should not be used in TensorFlow 2.0, as `updates` are applied automatically.\n",
      "  updates = self.state_updates\n",
      "/Users/sangeetha/venv-ml-pa1/lib/python3.9/site-packages/keras/engine/training_v1.py:2057: UserWarning: `Model.state_updates` will be removed in a future version. This property should not be used in TensorFlow 2.0, as `updates` are applied automatically.\n",
      "  updates = self.state_updates\n",
      "/Users/sangeetha/venv-ml-pa1/lib/python3.9/site-packages/keras/engine/training_v1.py:2057: UserWarning: `Model.state_updates` will be removed in a future version. This property should not be used in TensorFlow 2.0, as `updates` are applied automatically.\n",
      "  updates = self.state_updates\n",
      "/Users/sangeetha/venv-ml-pa1/lib/python3.9/site-packages/keras/engine/training_v1.py:2057: UserWarning: `Model.state_updates` will be removed in a future version. This property should not be used in TensorFlow 2.0, as `updates` are applied automatically.\n",
      "  updates = self.state_updates\n"
     ]
    },
    {
     "name": "stdout",
     "output_type": "stream",
     "text": [
      "Baseline: 79.16% (5.26%)\n"
     ]
    },
    {
     "name": "stderr",
     "output_type": "stream",
     "text": [
      "/Users/sangeetha/venv-ml-pa1/lib/python3.9/site-packages/keras/engine/training_v1.py:2079: UserWarning: `Model.state_updates` will be removed in a future version. This property should not be used in TensorFlow 2.0, as `updates` are applied automatically.\n",
      "  updates=self.state_updates,\n"
     ]
    },
    {
     "data": {
      "image/png": "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\n",
      "text/plain": [
       "<Figure size 432x288 with 2 Axes>"
      ]
     },
     "metadata": {
      "needs_background": "light"
     },
     "output_type": "display_data"
    },
    {
     "name": "stdout",
     "output_type": "stream",
     "text": [
      "Accuracy for model with 9 hidden layers :  0.7572815533980582\n"
     ]
    }
   ],
   "source": [
    "classifier9 = KerasClassifier(build_fn=model_base9,epochs=300,batch_size=200,verbose=0)\n",
    "evaluate_model(classifier9, X, y_encoded)\n",
    "y_pred9 = predict(classifier9,X_train, y_train)\n",
    "draw_confusion_matrix(y_test, y_pred9)\n",
    "accuracy = find_accuracy_score(y_test, y_pred9)\n",
    "print(\"Accuracy for model with 9 hidden layers : \" , accuracy)\n",
    "accuracy_score_list.append(accuracy)"
   ]
  },
  {
   "cell_type": "code",
   "execution_count": 52,
   "id": "701e145f-eb4d-4454-a490-de6ef86b1e3c",
   "metadata": {},
   "outputs": [
    {
     "name": "stderr",
     "output_type": "stream",
     "text": [
      "/var/folders/6q/1tr6dsz903s0r57yd4bx3jrm0000gn/T/ipykernel_3027/3904848179.py:1: DeprecationWarning: KerasClassifier is deprecated, use Sci-Keras (https://github.com/adriangb/scikeras) instead.\n",
      "  classifier10 = KerasClassifier(build_fn=model_base10,epochs=300,batch_size=200,verbose=0)\n",
      "/Users/sangeetha/venv-ml-pa1/lib/python3.9/site-packages/keras/engine/training_v1.py:2057: UserWarning: `Model.state_updates` will be removed in a future version. This property should not be used in TensorFlow 2.0, as `updates` are applied automatically.\n",
      "  updates = self.state_updates\n",
      "/Users/sangeetha/venv-ml-pa1/lib/python3.9/site-packages/keras/engine/training_v1.py:2057: UserWarning: `Model.state_updates` will be removed in a future version. This property should not be used in TensorFlow 2.0, as `updates` are applied automatically.\n",
      "  updates = self.state_updates\n",
      "/Users/sangeetha/venv-ml-pa1/lib/python3.9/site-packages/keras/engine/training_v1.py:2057: UserWarning: `Model.state_updates` will be removed in a future version. This property should not be used in TensorFlow 2.0, as `updates` are applied automatically.\n",
      "  updates = self.state_updates\n",
      "/Users/sangeetha/venv-ml-pa1/lib/python3.9/site-packages/keras/engine/training_v1.py:2057: UserWarning: `Model.state_updates` will be removed in a future version. This property should not be used in TensorFlow 2.0, as `updates` are applied automatically.\n",
      "  updates = self.state_updates\n",
      "/Users/sangeetha/venv-ml-pa1/lib/python3.9/site-packages/keras/engine/training_v1.py:2057: UserWarning: `Model.state_updates` will be removed in a future version. This property should not be used in TensorFlow 2.0, as `updates` are applied automatically.\n",
      "  updates = self.state_updates\n",
      "/Users/sangeetha/venv-ml-pa1/lib/python3.9/site-packages/keras/engine/training_v1.py:2057: UserWarning: `Model.state_updates` will be removed in a future version. This property should not be used in TensorFlow 2.0, as `updates` are applied automatically.\n",
      "  updates = self.state_updates\n",
      "/Users/sangeetha/venv-ml-pa1/lib/python3.9/site-packages/keras/engine/training_v1.py:2057: UserWarning: `Model.state_updates` will be removed in a future version. This property should not be used in TensorFlow 2.0, as `updates` are applied automatically.\n",
      "  updates = self.state_updates\n",
      "/Users/sangeetha/venv-ml-pa1/lib/python3.9/site-packages/keras/engine/training_v1.py:2057: UserWarning: `Model.state_updates` will be removed in a future version. This property should not be used in TensorFlow 2.0, as `updates` are applied automatically.\n",
      "  updates = self.state_updates\n",
      "/Users/sangeetha/venv-ml-pa1/lib/python3.9/site-packages/keras/engine/training_v1.py:2057: UserWarning: `Model.state_updates` will be removed in a future version. This property should not be used in TensorFlow 2.0, as `updates` are applied automatically.\n",
      "  updates = self.state_updates\n",
      "/Users/sangeetha/venv-ml-pa1/lib/python3.9/site-packages/keras/engine/training_v1.py:2057: UserWarning: `Model.state_updates` will be removed in a future version. This property should not be used in TensorFlow 2.0, as `updates` are applied automatically.\n",
      "  updates = self.state_updates\n"
     ]
    },
    {
     "name": "stdout",
     "output_type": "stream",
     "text": [
      "Baseline: 79.58% (5.66%)\n"
     ]
    },
    {
     "name": "stderr",
     "output_type": "stream",
     "text": [
      "/Users/sangeetha/venv-ml-pa1/lib/python3.9/site-packages/keras/engine/training_v1.py:2079: UserWarning: `Model.state_updates` will be removed in a future version. This property should not be used in TensorFlow 2.0, as `updates` are applied automatically.\n",
      "  updates=self.state_updates,\n"
     ]
    },
    {
     "data": {
      "image/png": "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\n",
      "text/plain": [
       "<Figure size 432x288 with 2 Axes>"
      ]
     },
     "metadata": {
      "needs_background": "light"
     },
     "output_type": "display_data"
    },
    {
     "name": "stdout",
     "output_type": "stream",
     "text": [
      "Accuracy:  0.7766990291262136\n"
     ]
    }
   ],
   "source": [
    "classifier10 = KerasClassifier(build_fn=model_base10,epochs=300,batch_size=200,verbose=0)\n",
    "evaluate_model(classifier10, X, y_encoded)\n",
    "y_pred10 = predict(classifier10,X_train, y_train)\n",
    "draw_confusion_matrix(y_test, y_pred10)\n",
    "accuracy = find_accuracy_score(y_test, y_pred10)\n",
    "print(\"Accuracy: \" , accuracy)\n",
    "#accuracy_score_list.append(accuracy)"
   ]
  },
  {
   "cell_type": "code",
   "execution_count": 68,
   "id": "f8d339df-ceab-4403-9207-c1c80c28905b",
   "metadata": {},
   "outputs": [
    {
     "name": "stdout",
     "output_type": "stream",
     "text": [
      "              precision    recall  f1-score   support\n",
      "\n",
      "           0       0.83      0.89      0.86        28\n",
      "           1       0.69      0.96      0.80        25\n",
      "           2       0.75      0.45      0.56        20\n",
      "           3       0.85      0.73      0.79        30\n",
      "\n",
      "    accuracy                           0.78       103\n",
      "   macro avg       0.78      0.76      0.75       103\n",
      "weighted avg       0.79      0.78      0.77       103\n",
      "\n"
     ]
    }
   ],
   "source": [
    "from sklearn.metrics import classification_report\n",
    "print(classification_report(y_test, y_pred10))"
   ]
  },
  {
   "cell_type": "code",
   "execution_count": null,
   "id": "0ef8d608-a80d-49f3-9a5f-bcf0c5cc2594",
   "metadata": {},
   "outputs": [],
   "source": []
  },
  {
   "cell_type": "code",
   "execution_count": 53,
   "id": "fcf2d16e-c035-42f3-96f7-d1f48bfd5656",
   "metadata": {},
   "outputs": [
    {
     "name": "stdout",
     "output_type": "stream",
     "text": [
      "[4, 5, 6, 7, 8, 9, 10]\n",
      "[0.5922330097087378, 0.7475728155339806, 0.7475728155339806, 0.6893203883495146, 0.7281553398058253, 0.7572815533980582, 0.7766990291262136]\n"
     ]
    },
    {
     "data": {
      "image/png": "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\n",
      "text/plain": [
       "<Figure size 432x288 with 1 Axes>"
      ]
     },
     "metadata": {
      "needs_background": "light"
     },
     "output_type": "display_data"
    }
   ],
   "source": [
    "x = list(range(4, 11))\n",
    "print(x)\n",
    "print(accuracy_score_list)\n",
    "plt.plot(x, accuracy_score_list)\n",
    "plt.xlabel(\"Number of hidden layers\") \n",
    "plt.ylabel(\"Accuracy Score\") \n",
    "plt.title(\"Hiddel Layer Count Vs Accuracy Score\") \n",
    "plt.show()"
   ]
  },
  {
   "cell_type": "code",
   "execution_count": 24,
   "id": "aa46a907-2af2-490f-bb00-13075409bf46",
   "metadata": {},
   "outputs": [],
   "source": [
    "def model_base10_10():\n",
    "    baseModel = Sequential()\n",
    "    #Adding a layer with 10 nodes, 4 dimensional input with relu function.\n",
    "    baseModel.add(Dense(10,input_dim=10,activation='relu'))\n",
    "    baseModel.add(Dense(10,input_dim=10,activation='tanh'))\n",
    "    #Adding a layer with 4 outputs and softmax function\n",
    "    baseModel.add(Dense(4,activation='softmax'))\n",
    "    #Compiling the model adam optimizer and sigmoid loss function\n",
    "    baseModel.compile(loss='categorical_crossentropy',optimizer='adam', metrics=['accuracy'])\n",
    "    return baseModel"
   ]
  },
  {
   "cell_type": "code",
   "execution_count": 25,
   "id": "bce88326-5183-4881-89bc-d133ce35417c",
   "metadata": {},
   "outputs": [
    {
     "name": "stderr",
     "output_type": "stream",
     "text": [
      "/var/folders/6q/1tr6dsz903s0r57yd4bx3jrm0000gn/T/ipykernel_3027/948296162.py:1: DeprecationWarning: KerasClassifier is deprecated, use Sci-Keras (https://github.com/adriangb/scikeras) instead.\n",
      "  classifier10_10 = KerasClassifier(build_fn=model_base10_10,epochs=300,batch_size=200,verbose=0)\n",
      "/Users/sangeetha/venv-ml-pa1/lib/python3.9/site-packages/keras/engine/training_v1.py:2057: UserWarning: `Model.state_updates` will be removed in a future version. This property should not be used in TensorFlow 2.0, as `updates` are applied automatically.\n",
      "  updates = self.state_updates\n",
      "/Users/sangeetha/venv-ml-pa1/lib/python3.9/site-packages/keras/engine/training_v1.py:2057: UserWarning: `Model.state_updates` will be removed in a future version. This property should not be used in TensorFlow 2.0, as `updates` are applied automatically.\n",
      "  updates = self.state_updates\n",
      "/Users/sangeetha/venv-ml-pa1/lib/python3.9/site-packages/keras/engine/training_v1.py:2057: UserWarning: `Model.state_updates` will be removed in a future version. This property should not be used in TensorFlow 2.0, as `updates` are applied automatically.\n",
      "  updates = self.state_updates\n",
      "/Users/sangeetha/venv-ml-pa1/lib/python3.9/site-packages/keras/engine/training_v1.py:2057: UserWarning: `Model.state_updates` will be removed in a future version. This property should not be used in TensorFlow 2.0, as `updates` are applied automatically.\n",
      "  updates = self.state_updates\n",
      "/Users/sangeetha/venv-ml-pa1/lib/python3.9/site-packages/keras/engine/training_v1.py:2057: UserWarning: `Model.state_updates` will be removed in a future version. This property should not be used in TensorFlow 2.0, as `updates` are applied automatically.\n",
      "  updates = self.state_updates\n",
      "/Users/sangeetha/venv-ml-pa1/lib/python3.9/site-packages/keras/engine/training_v1.py:2057: UserWarning: `Model.state_updates` will be removed in a future version. This property should not be used in TensorFlow 2.0, as `updates` are applied automatically.\n",
      "  updates = self.state_updates\n",
      "/Users/sangeetha/venv-ml-pa1/lib/python3.9/site-packages/keras/engine/training_v1.py:2057: UserWarning: `Model.state_updates` will be removed in a future version. This property should not be used in TensorFlow 2.0, as `updates` are applied automatically.\n",
      "  updates = self.state_updates\n",
      "/Users/sangeetha/venv-ml-pa1/lib/python3.9/site-packages/keras/engine/training_v1.py:2057: UserWarning: `Model.state_updates` will be removed in a future version. This property should not be used in TensorFlow 2.0, as `updates` are applied automatically.\n",
      "  updates = self.state_updates\n",
      "/Users/sangeetha/venv-ml-pa1/lib/python3.9/site-packages/keras/engine/training_v1.py:2057: UserWarning: `Model.state_updates` will be removed in a future version. This property should not be used in TensorFlow 2.0, as `updates` are applied automatically.\n",
      "  updates = self.state_updates\n",
      "/Users/sangeetha/venv-ml-pa1/lib/python3.9/site-packages/keras/engine/training_v1.py:2057: UserWarning: `Model.state_updates` will be removed in a future version. This property should not be used in TensorFlow 2.0, as `updates` are applied automatically.\n",
      "  updates = self.state_updates\n"
     ]
    },
    {
     "name": "stdout",
     "output_type": "stream",
     "text": [
      "Baseline: 79.01% (5.62%)\n"
     ]
    },
    {
     "name": "stderr",
     "output_type": "stream",
     "text": [
      "/Users/sangeetha/venv-ml-pa1/lib/python3.9/site-packages/keras/engine/training_v1.py:2079: UserWarning: `Model.state_updates` will be removed in a future version. This property should not be used in TensorFlow 2.0, as `updates` are applied automatically.\n",
      "  updates=self.state_updates,\n"
     ]
    },
    {
     "data": {
      "image/png": "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\n",
      "text/plain": [
       "<Figure size 432x288 with 2 Axes>"
      ]
     },
     "metadata": {
      "needs_background": "light"
     },
     "output_type": "display_data"
    },
    {
     "name": "stdout",
     "output_type": "stream",
     "text": [
      "Accuracy for model:  0.8058252427184466\n"
     ]
    }
   ],
   "source": [
    "classifier10_10 = KerasClassifier(build_fn=model_base10_10,epochs=300,batch_size=200,verbose=0)\n",
    "evaluate_model(classifier10_10, X, y_encoded)\n",
    "classifier10_10 = predict(classifier10_10,X_train, y_train)\n",
    "draw_confusion_matrix(y_test, classifier10_10)\n",
    "accuracy = find_accuracy_score(y_test, classifier10_10)\n",
    "print(\"Accuracy for model: \" , accuracy)"
   ]
  },
  {
   "cell_type": "code",
   "execution_count": 57,
   "id": "4cc55277-937e-4896-9851-b008359316e3",
   "metadata": {},
   "outputs": [
    {
     "name": "stdout",
     "output_type": "stream",
     "text": [
      "              precision    recall  f1-score   support\n",
      "\n",
      "           0       0.89      0.89      0.89        28\n",
      "           1       0.69      0.88      0.77        25\n",
      "           2       0.83      0.50      0.62        20\n",
      "           3       0.84      0.87      0.85        30\n",
      "\n",
      "    accuracy                           0.81       103\n",
      "   macro avg       0.81      0.78      0.79       103\n",
      "weighted avg       0.82      0.81      0.80       103\n",
      "\n"
     ]
    }
   ],
   "source": [
    "from sklearn.metrics import classification_report\n",
    "print(classification_report(y_test, classifier10_10))"
   ]
  },
  {
   "cell_type": "code",
   "execution_count": 65,
   "id": "8f8a22ae-d629-4a02-bf78-012a697c56fc",
   "metadata": {},
   "outputs": [
    {
     "ename": "IndexError",
     "evalue": "too many indices for array: array is 1-dimensional, but 2 were indexed",
     "output_type": "error",
     "traceback": [
      "\u001b[0;31m---------------------------------------------------------------------------\u001b[0m",
      "\u001b[0;31mIndexError\u001b[0m                                Traceback (most recent call last)",
      "Input \u001b[0;32mIn [65]\u001b[0m, in \u001b[0;36m<module>\u001b[0;34m\u001b[0m\n\u001b[1;32m      6\u001b[0m roc_auc \u001b[38;5;241m=\u001b[39m \u001b[38;5;28mdict\u001b[39m()\n\u001b[1;32m      7\u001b[0m \u001b[38;5;28;01mfor\u001b[39;00m i \u001b[38;5;129;01min\u001b[39;00m \u001b[38;5;28mrange\u001b[39m(\u001b[38;5;28mlen\u001b[39m(y_test)):\n\u001b[0;32m----> 8\u001b[0m     fpr[i], tpr[i], _ \u001b[38;5;241m=\u001b[39m roc_curve(y[:, i], \u001b[43mclassifier10_10\u001b[49m\u001b[43m[\u001b[49m\u001b[43m:\u001b[49m\u001b[43m,\u001b[49m\u001b[43m \u001b[49m\u001b[43mi\u001b[49m\u001b[43m]\u001b[49m)\n\u001b[1;32m      9\u001b[0m     roc_auc[i] \u001b[38;5;241m=\u001b[39m auc(fpr[i], tpr[i])\n",
      "\u001b[0;31mIndexError\u001b[0m: too many indices for array: array is 1-dimensional, but 2 were indexed"
     ]
    }
   ],
   "source": [
    "from sklearn.metrics import roc_curve, auc\n",
    "from sklearn.preprocessing import label_binarize\n",
    "fpr = dict()\n",
    "tpr = dict()\n",
    "roc_auc = dict()\n",
    "for i in range(len(y_test)):\n",
    "    fpr[i], tpr[i], _ = roc_curve(y[:, i], classifier10_10[:, i])\n",
    "    roc_auc[i] = auc(fpr[i], tpr[i])"
   ]
  },
  {
   "cell_type": "code",
   "execution_count": 52,
   "id": "8787e0c3-e8c2-4e03-b995-a42554e7ba0b",
   "metadata": {},
   "outputs": [],
   "source": [
    "accuracy_score_list_epoch = []"
   ]
  },
  {
   "cell_type": "code",
   "execution_count": 35,
   "id": "ff5eb399-9018-48da-91c1-b3d54eb56bb2",
   "metadata": {},
   "outputs": [
    {
     "name": "stderr",
     "output_type": "stream",
     "text": [
      "/var/folders/6q/1tr6dsz903s0r57yd4bx3jrm0000gn/T/ipykernel_7149/3973509720.py:1: DeprecationWarning: KerasClassifier is deprecated, use Sci-Keras (https://github.com/adriangb/scikeras) instead.\n",
      "  classifier10_100 = KerasClassifier(build_fn=model_base10,epochs=100,batch_size=200,verbose=0)\n",
      "/Users/sangeetha/venv-ml-pa1/lib/python3.9/site-packages/keras/engine/training_v1.py:2057: UserWarning: `Model.state_updates` will be removed in a future version. This property should not be used in TensorFlow 2.0, as `updates` are applied automatically.\n",
      "  updates = self.state_updates\n",
      "/Users/sangeetha/venv-ml-pa1/lib/python3.9/site-packages/keras/engine/training_v1.py:2057: UserWarning: `Model.state_updates` will be removed in a future version. This property should not be used in TensorFlow 2.0, as `updates` are applied automatically.\n",
      "  updates = self.state_updates\n",
      "/Users/sangeetha/venv-ml-pa1/lib/python3.9/site-packages/keras/engine/training_v1.py:2057: UserWarning: `Model.state_updates` will be removed in a future version. This property should not be used in TensorFlow 2.0, as `updates` are applied automatically.\n",
      "  updates = self.state_updates\n",
      "/Users/sangeetha/venv-ml-pa1/lib/python3.9/site-packages/keras/engine/training_v1.py:2057: UserWarning: `Model.state_updates` will be removed in a future version. This property should not be used in TensorFlow 2.0, as `updates` are applied automatically.\n",
      "  updates = self.state_updates\n",
      "/Users/sangeetha/venv-ml-pa1/lib/python3.9/site-packages/keras/engine/training_v1.py:2057: UserWarning: `Model.state_updates` will be removed in a future version. This property should not be used in TensorFlow 2.0, as `updates` are applied automatically.\n",
      "  updates = self.state_updates\n",
      "/Users/sangeetha/venv-ml-pa1/lib/python3.9/site-packages/keras/engine/training_v1.py:2057: UserWarning: `Model.state_updates` will be removed in a future version. This property should not be used in TensorFlow 2.0, as `updates` are applied automatically.\n",
      "  updates = self.state_updates\n",
      "/Users/sangeetha/venv-ml-pa1/lib/python3.9/site-packages/keras/engine/training_v1.py:2057: UserWarning: `Model.state_updates` will be removed in a future version. This property should not be used in TensorFlow 2.0, as `updates` are applied automatically.\n",
      "  updates = self.state_updates\n",
      "/Users/sangeetha/venv-ml-pa1/lib/python3.9/site-packages/keras/engine/training_v1.py:2057: UserWarning: `Model.state_updates` will be removed in a future version. This property should not be used in TensorFlow 2.0, as `updates` are applied automatically.\n",
      "  updates = self.state_updates\n",
      "/Users/sangeetha/venv-ml-pa1/lib/python3.9/site-packages/keras/engine/training_v1.py:2057: UserWarning: `Model.state_updates` will be removed in a future version. This property should not be used in TensorFlow 2.0, as `updates` are applied automatically.\n",
      "  updates = self.state_updates\n",
      "/Users/sangeetha/venv-ml-pa1/lib/python3.9/site-packages/keras/engine/training_v1.py:2057: UserWarning: `Model.state_updates` will be removed in a future version. This property should not be used in TensorFlow 2.0, as `updates` are applied automatically.\n",
      "  updates = self.state_updates\n"
     ]
    },
    {
     "name": "stdout",
     "output_type": "stream",
     "text": [
      "Baseline: 79.89% (5.36%)\n"
     ]
    },
    {
     "name": "stderr",
     "output_type": "stream",
     "text": [
      "/Users/sangeetha/venv-ml-pa1/lib/python3.9/site-packages/keras/engine/training_v1.py:2079: UserWarning: `Model.state_updates` will be removed in a future version. This property should not be used in TensorFlow 2.0, as `updates` are applied automatically.\n",
      "  updates=self.state_updates,\n"
     ]
    },
    {
     "data": {
      "image/png": "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\n",
      "text/plain": [
       "<Figure size 432x288 with 2 Axes>"
      ]
     },
     "metadata": {
      "needs_background": "light"
     },
     "output_type": "display_data"
    },
    {
     "name": "stdout",
     "output_type": "stream",
     "text": [
      "Accuracy for model with 10 hidden layers :  0.7669902912621359\n"
     ]
    }
   ],
   "source": [
    "classifier10_100 = KerasClassifier(build_fn=model_base10,epochs=100,batch_size=200,verbose=0)\n",
    "evaluate_model(classifier10, X, y_encoded)\n",
    "y_pred10 = predict(classifier10,X_train, y_train)\n",
    "draw_confusion_matrix(y_test, y_pred10)\n",
    "accuracy = find_accuracy_score(y_test, y_pred10)\n",
    "print(\"Accuracy for model with 10 hidden layers : \" , accuracy)\n",
    "accuracy_score_list_epoch.append(accuracy)"
   ]
  },
  {
   "cell_type": "code",
   "execution_count": 36,
   "id": "7ebaaf86-268b-4ed3-a4c3-84bb239a16b0",
   "metadata": {},
   "outputs": [
    {
     "name": "stderr",
     "output_type": "stream",
     "text": [
      "/var/folders/6q/1tr6dsz903s0r57yd4bx3jrm0000gn/T/ipykernel_7149/2985743427.py:1: DeprecationWarning: KerasClassifier is deprecated, use Sci-Keras (https://github.com/adriangb/scikeras) instead.\n",
      "  classifier10_200 = KerasClassifier(build_fn=model_base10,epochs=200,batch_size=200,verbose=0)\n",
      "/Users/sangeetha/venv-ml-pa1/lib/python3.9/site-packages/keras/engine/training_v1.py:2057: UserWarning: `Model.state_updates` will be removed in a future version. This property should not be used in TensorFlow 2.0, as `updates` are applied automatically.\n",
      "  updates = self.state_updates\n",
      "/Users/sangeetha/venv-ml-pa1/lib/python3.9/site-packages/keras/engine/training_v1.py:2057: UserWarning: `Model.state_updates` will be removed in a future version. This property should not be used in TensorFlow 2.0, as `updates` are applied automatically.\n",
      "  updates = self.state_updates\n",
      "/Users/sangeetha/venv-ml-pa1/lib/python3.9/site-packages/keras/engine/training_v1.py:2057: UserWarning: `Model.state_updates` will be removed in a future version. This property should not be used in TensorFlow 2.0, as `updates` are applied automatically.\n",
      "  updates = self.state_updates\n",
      "/Users/sangeetha/venv-ml-pa1/lib/python3.9/site-packages/keras/engine/training_v1.py:2057: UserWarning: `Model.state_updates` will be removed in a future version. This property should not be used in TensorFlow 2.0, as `updates` are applied automatically.\n",
      "  updates = self.state_updates\n",
      "/Users/sangeetha/venv-ml-pa1/lib/python3.9/site-packages/keras/engine/training_v1.py:2057: UserWarning: `Model.state_updates` will be removed in a future version. This property should not be used in TensorFlow 2.0, as `updates` are applied automatically.\n",
      "  updates = self.state_updates\n",
      "/Users/sangeetha/venv-ml-pa1/lib/python3.9/site-packages/keras/engine/training_v1.py:2057: UserWarning: `Model.state_updates` will be removed in a future version. This property should not be used in TensorFlow 2.0, as `updates` are applied automatically.\n",
      "  updates = self.state_updates\n",
      "/Users/sangeetha/venv-ml-pa1/lib/python3.9/site-packages/keras/engine/training_v1.py:2057: UserWarning: `Model.state_updates` will be removed in a future version. This property should not be used in TensorFlow 2.0, as `updates` are applied automatically.\n",
      "  updates = self.state_updates\n",
      "/Users/sangeetha/venv-ml-pa1/lib/python3.9/site-packages/keras/engine/training_v1.py:2057: UserWarning: `Model.state_updates` will be removed in a future version. This property should not be used in TensorFlow 2.0, as `updates` are applied automatically.\n",
      "  updates = self.state_updates\n",
      "/Users/sangeetha/venv-ml-pa1/lib/python3.9/site-packages/keras/engine/training_v1.py:2057: UserWarning: `Model.state_updates` will be removed in a future version. This property should not be used in TensorFlow 2.0, as `updates` are applied automatically.\n",
      "  updates = self.state_updates\n",
      "/Users/sangeetha/venv-ml-pa1/lib/python3.9/site-packages/keras/engine/training_v1.py:2057: UserWarning: `Model.state_updates` will be removed in a future version. This property should not be used in TensorFlow 2.0, as `updates` are applied automatically.\n",
      "  updates = self.state_updates\n"
     ]
    },
    {
     "name": "stdout",
     "output_type": "stream",
     "text": [
      "Baseline: 80.33% (2.87%)\n"
     ]
    },
    {
     "name": "stderr",
     "output_type": "stream",
     "text": [
      "/Users/sangeetha/venv-ml-pa1/lib/python3.9/site-packages/keras/engine/training_v1.py:2079: UserWarning: `Model.state_updates` will be removed in a future version. This property should not be used in TensorFlow 2.0, as `updates` are applied automatically.\n",
      "  updates=self.state_updates,\n"
     ]
    },
    {
     "data": {
      "image/png": "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\n",
      "text/plain": [
       "<Figure size 432x288 with 2 Axes>"
      ]
     },
     "metadata": {
      "needs_background": "light"
     },
     "output_type": "display_data"
    },
    {
     "name": "stdout",
     "output_type": "stream",
     "text": [
      "Accuracy for model with 10 hidden layers :  0.7669902912621359\n"
     ]
    }
   ],
   "source": [
    "classifier10_200 = KerasClassifier(build_fn=model_base10,epochs=200,batch_size=200,verbose=0)\n",
    "evaluate_model(classifier10, X, y_encoded)\n",
    "y_pred10 = predict(classifier10,X_train, y_train)\n",
    "draw_confusion_matrix(y_test, y_pred10)\n",
    "accuracy = find_accuracy_score(y_test, y_pred10)\n",
    "print(\"Accuracy for model with 10 hidden layers : \" , accuracy)\n",
    "accuracy_score_list_epoch.append(accuracy)"
   ]
  },
  {
   "cell_type": "code",
   "execution_count": 37,
   "id": "01381013-55d6-4f3e-ad6a-a18b8a5494d8",
   "metadata": {},
   "outputs": [
    {
     "name": "stderr",
     "output_type": "stream",
     "text": [
      "/var/folders/6q/1tr6dsz903s0r57yd4bx3jrm0000gn/T/ipykernel_7149/3416855855.py:1: DeprecationWarning: KerasClassifier is deprecated, use Sci-Keras (https://github.com/adriangb/scikeras) instead.\n",
      "  classifier10_300 = KerasClassifier(build_fn=model_base10,epochs=300,batch_size=200,verbose=0)\n",
      "/Users/sangeetha/venv-ml-pa1/lib/python3.9/site-packages/keras/engine/training_v1.py:2057: UserWarning: `Model.state_updates` will be removed in a future version. This property should not be used in TensorFlow 2.0, as `updates` are applied automatically.\n",
      "  updates = self.state_updates\n",
      "/Users/sangeetha/venv-ml-pa1/lib/python3.9/site-packages/keras/engine/training_v1.py:2057: UserWarning: `Model.state_updates` will be removed in a future version. This property should not be used in TensorFlow 2.0, as `updates` are applied automatically.\n",
      "  updates = self.state_updates\n",
      "/Users/sangeetha/venv-ml-pa1/lib/python3.9/site-packages/keras/engine/training_v1.py:2057: UserWarning: `Model.state_updates` will be removed in a future version. This property should not be used in TensorFlow 2.0, as `updates` are applied automatically.\n",
      "  updates = self.state_updates\n",
      "/Users/sangeetha/venv-ml-pa1/lib/python3.9/site-packages/keras/engine/training_v1.py:2057: UserWarning: `Model.state_updates` will be removed in a future version. This property should not be used in TensorFlow 2.0, as `updates` are applied automatically.\n",
      "  updates = self.state_updates\n",
      "/Users/sangeetha/venv-ml-pa1/lib/python3.9/site-packages/keras/engine/training_v1.py:2057: UserWarning: `Model.state_updates` will be removed in a future version. This property should not be used in TensorFlow 2.0, as `updates` are applied automatically.\n",
      "  updates = self.state_updates\n",
      "/Users/sangeetha/venv-ml-pa1/lib/python3.9/site-packages/keras/engine/training_v1.py:2057: UserWarning: `Model.state_updates` will be removed in a future version. This property should not be used in TensorFlow 2.0, as `updates` are applied automatically.\n",
      "  updates = self.state_updates\n",
      "/Users/sangeetha/venv-ml-pa1/lib/python3.9/site-packages/keras/engine/training_v1.py:2057: UserWarning: `Model.state_updates` will be removed in a future version. This property should not be used in TensorFlow 2.0, as `updates` are applied automatically.\n",
      "  updates = self.state_updates\n",
      "/Users/sangeetha/venv-ml-pa1/lib/python3.9/site-packages/keras/engine/training_v1.py:2057: UserWarning: `Model.state_updates` will be removed in a future version. This property should not be used in TensorFlow 2.0, as `updates` are applied automatically.\n",
      "  updates = self.state_updates\n",
      "/Users/sangeetha/venv-ml-pa1/lib/python3.9/site-packages/keras/engine/training_v1.py:2057: UserWarning: `Model.state_updates` will be removed in a future version. This property should not be used in TensorFlow 2.0, as `updates` are applied automatically.\n",
      "  updates = self.state_updates\n",
      "/Users/sangeetha/venv-ml-pa1/lib/python3.9/site-packages/keras/engine/training_v1.py:2057: UserWarning: `Model.state_updates` will be removed in a future version. This property should not be used in TensorFlow 2.0, as `updates` are applied automatically.\n",
      "  updates = self.state_updates\n"
     ]
    },
    {
     "name": "stdout",
     "output_type": "stream",
     "text": [
      "Baseline: 80.04% (5.07%)\n"
     ]
    },
    {
     "name": "stderr",
     "output_type": "stream",
     "text": [
      "/Users/sangeetha/venv-ml-pa1/lib/python3.9/site-packages/keras/engine/training_v1.py:2079: UserWarning: `Model.state_updates` will be removed in a future version. This property should not be used in TensorFlow 2.0, as `updates` are applied automatically.\n",
      "  updates=self.state_updates,\n"
     ]
    },
    {
     "data": {
      "image/png": "iVBORw0KGgoAAAANSUhEUgAAAWgAAAEWCAYAAABLzQ1kAAAAOXRFWHRTb2Z0d2FyZQBNYXRwbG90bGliIHZlcnNpb24zLjUuMSwgaHR0cHM6Ly9tYXRwbG90bGliLm9yZy/YYfK9AAAACXBIWXMAAAsTAAALEwEAmpwYAAAtcElEQVR4nO3deZgV1bX38e+vu0EmEQFBQBCcZyVBNDgENXGeNRBjEkw06DVRMQ7xRl8V1FyvRkSNEyKCiiheVAQJokRRFJVBZFQGcWAQBJFZge71/lHV9LFtus/pPnWqmrM+z1MPp6a91ynb1bt37dolM8M551zyFMQdgHPOuYp5gnbOuYTyBO2ccwnlCdo55xLKE7RzziWUJ2jnnEsoT9CuxiTVlzRS0mpJz9egnAsljc1mbHGQ9G9JPeKOw9V+nqDziKTfSJosaZ2kpWEiOToLRZ8PtASamdmvqluImQ0xsxOzEM8PSOoqySS9WG77oeH2N9Ms51ZJT1d1nJmdYmaDqxmuc1t5gs4Tkv4K9AP+QZBM2wEPAWdlofjdgblmtiULZUXla+BnkpqlbOsBzM1WBQr4/1Mua/yHKQ9I2gnoA/zZzF4ws/VmttnMRprZdeExO0jqJ2lJuPSTtEO4r6ukRZKukbQ8bH3/IdzXG7gZ6B62zC8u39KU1D5sqRaF6xdJ+lTSWkkLJV2Ysn1CynldJE0Ku04mSeqSsu9NSbdJeicsZ6yk5pVchk3AS8Cvw/MLge7AkHLX6j5JX0paI2mKpGPC7ScDf0/5nh+lxHGHpHeADcAe4bZLwv0PSxqeUv7/ShonSen+93P5yxN0fvgZUA94sZJjbgSOBA4DDgU6Azel7N8V2AloA1wMPChpZzO7haBV/pyZNTKzxysLRFJD4H7gFDPbEegCTKvguKbAK+GxzYC+wCvlWsC/Af4AtADqAtdWVjfwJPD78PNJwExgSbljJhFcg6bAM8DzkuqZ2Zhy3/PQlHN+B/QEdgQ+L1feNcDB4S+fYwiuXQ/zORZcGjxB54dmwIoquiAuBPqY2XIz+xroTZB4Sm0O9282s9HAOmDfasZTAhwkqb6ZLTWzWRUccxowz8yeMrMtZjYU+Bg4I+WYJ8xsrpltBIYRJNZtMrN3gaaS9iVI1E9WcMzTZrYyrPMeYAeq/p6DzGxWeM7mcuVtILiOfYGngSvMbFEV5TkHeILOFyuB5qVdDNvQmh+2/j4Pt20to1yC3wA0yjQQM1tP0LVwGbBU0iuS9ksjntKY2qSsf1WNeJ4C/gIcRwV/UUi6VtKcsFvlW4K/GirrOgH4srKdZvY+8Ckggl8kzqXFE3R+mAh8D5xdyTFLCG72lWrHj//8T9d6oEHK+q6pO83sVTP7JdCKoFX8WBrxlMa0uJoxlXoKuBwYHbZutwq7IK4HugE7m1kTYDVBYgXYVrdEpd0Vkv5M0BJfEpbvXFo8QecBM1tNcCPvQUlnS2ogqY6kUyTdFR42FLhJ0i7hzbabCf4kr45pwLGS2oU3KP+7dIeklpLOCvuivyfoKimpoIzRwD7h0MAiSd2BA4BR1YwJADNbCPycoM+9vB2BLQQjPook3Qw0Ttm/DGifyUgNSfsAtwO/JejquF7SYdWL3uUbT9B5IuxP/SvBjb+vCf4s/wvByAYIkshkYDowA5gabqtOXa8Bz4VlTeGHSbUgjGMJ8A1BsvyvCspYCZxOcJNtJUHL83QzW1GdmMqVPcHMKvrr4FVgDMHQu8+B7/hh90XpQzgrJU2tqp6wS+lp4H/N7CMzm0cwEuSp0hEyzlVGfjPZOeeSyVvQzjmXUJ6gnXMuiyS1lfSGpNmSZkm6Ktx+q6TFkqaFy6lVluVdHM45lz2SWgGtzGyqpB0J7sOcTTA6aJ2Z/TPdsiobF+uccy5DZrYUWBp+XitpDj8cv5+2xLagN6/4NJmBxaB+62PiDsEl0AFN28UdQmJM/2pijec2ySTn1N1lz0sJHu8v1d/M+pc/TlJ74C3gIILRSxcBawhGTF1jZqsqq8f7oJ1zDqCkOO3FzPqbWaeUpaLk3AgYDvQyszXAw8CeBFMSLAXuqSok7+JwzjkAq+h5qeqRVIcgOQ8xsxcAzGxZyv7HSOOhK0/QzjkHUJKdBB1OJfs4MMfM+qZsbxX2TwOcQzCbYqU8QTvnHGDZa0EfRfBY/wxJ08JtfwcuCB/zN+Az4NKqCvIE7ZxzAMXZeSGQmU2gbIKtVKMzLcsTtHPOQXADMGE8QTvnHGT1JmG2eIJ2zjnI2k3CbPIE7ZxzZPUmYdZ4gnbOOfAWtHPOJVbx5qqPyTFP0M45B36T0DnnEsu7OJxzLqG8Be2ccwnlLWjnnEsmK/GbhM45l0z51oKW1AG4AmifWpeZnRllvc45l7E87IN+iWBe1JFA8r69c86VysPJkr4zs/sjrsM552ouD1vQ90m6BRgLfF+60cymRlyvc85lJt/6oIGDCd4scDxlXRwWrjvnXHJkacL+bIo6Qf8K2MPMNkVcT40tXfY1f7/tn6xctQohzj/rFH7X7WwefPxphr88hp2b7ATAVZf24NgunWOONrdOOrErffv2obCggIFPDOWuux+MO6TY+LUI1N2hLk+89DB169ahsKiQ10e9wUN3D4g7rJrJwxb0TKAJsDziemqsqLCQ6674Ewfsuxfr12+g28VX0uXwjgD8rvvZ/OE358ccYTwKCgq4/747OPnUC1i0aCnvTRzNyFFjmTNnXtyh5ZxfizKbvt/EJef9hY0bNlJUVMjglx9lwriJTJ86K+7Qqs0s/24SNgE+ljSJH/ZBJ26Y3S7Nm7JL86YANGzYgD12b8uyr1fGHFX8Oh/ekQULPmPhwi8AGDZsBGeecVJeJiW/Fj+0ccNGAIrqFFFUVISZxRxRDeVhC/qWiMuPxOKly5gzbwGHHLgvH86YzdDhI3l5zDgO3G9vrvvLn9ip8Y5xh5gzrdvsypeLlmxdX7R4KZ3DvyzyjV+LHyooKODZsU/QrsNuPPvEcGZ8ODvukGomgaM4CqIs3MzGV7REWWdNbdiwkatvvJ2/XXkpjRo2pPs5p/HvYQMZPuhBdmnWlLv/9VjcITqXCCUlJXT7RQ9+2fEsDup4AHvtt0fcIdVMSUn6S45EkqAlrZW0poJlraQ1lZzXU9JkSZMHPDk0itAqtXnLFnrdeDunnXgcv+x6FADNm+5MYWEhBQUFnH/mKcycPTfnccVpyeKvaLtb663ru7VpxZIlX8UYUXz8WlRs7Zp1THpnKkcdd2TcodRM8Zb0lxyJJEGb2Y5m1riCZUcza1zJef3NrJOZdbrk9xdEEdo2mRk3/08/9ti9LT1+fe7W7V+v+Gbr53Hj32WvPXbPaVxxmzR5Gnvt1YH27dtSp04dunU7i5GjxsYdViz8WpTZuVkTdmzcCIAd6u3Az449nIXzP485qhqykvSXHMnJZEmSWgD1StfN7Itc1JuJD6fPYuSYcey9Z3vO6/FnIBhSN/r18Xwy71MQtNm1Jbdcf2XMkeZWcXExV/W6idGvPENhQQGDBj/H7Dz7K6KUX4syzVs04/b7b6awsICCAvHqy//hrdfeiTusmkngTUJFeedV0pnAPUBrgqF2uwNzzOzAqs7dvOLTWn5LOHvqtz4m7hBcAh3QtF3cISTG9K8mqqZlbHylX9o5p/5pvWpcXzoivUkI3AYcCcw1sw7ACcB7EdfpnHOZy8Mujs1mtlJSgaQCM3tDUr+I63TOuczl4aPe30pqBLwFDJG0HFgfcZ3OOZe5BPZBR5KgJe0FtATOAjYCVwMXEvRBXxFFnc45VyN59KBKP2CNma03sxIz22Jmg4EXgVsjqtM556ovgQ+qRNXF0dLMZpTfaGYzJLWPqE7nnKu+fOniIJgkaVvqR1Snc85VXwIne4qqi2OypD+V3yjpEmBKRHU651z1bdmS/pIjUbWgewEvSrqQsoTcCagLnBNRnc45V30JvEkYSYI2s2VAF0nHAQeFm18xs/9EUZ9zztVYlvqgJbUFniQYyWZAfzO7T1JT4DmgPfAZ0M3MVlVWVqTjoM3sDeCNKOtwzrmsyF4f9BbgGjObKmlHYIqk14CLgHFmdqekG4AbgL9VVlDUj3o751ztkKVhdma21Mymhp/XAnOANgTPhQwODxsMnF1VSDmZzc455xIvgy4OST2Bnimb+ptZ/wqOaw90BN4nGH68NNz1FUEXSKU8QTvnHGDF6b80NkzGP0rIqcJpLoYDvcxsjVQ2AZ6ZmaQq+1Q8QTvnHGT1QRVJdQiS8xAzeyHcvExSKzNbKqkVwRTMlfI+aOecg6xNN6qgqfw4wdz3fVN2vQz0CD/3AEZUFZK3oJ1zDqAka6M4jgJ+B8yQNC3c9nfgTmCYpIuBz4FuVRXkCdo55yBrXRxmNgHY1htXTsikLE/QzjkHkMFNwlzxBO2cc5BXs9k551ztkr0+6KzxBO2cc5A/kyU551yt4y3o9NVvfUzcISTG2ld7xx1CYux3/v1xh5AYX677Ou4QtivmfdDOOZdQPorDOecSyrs4nHMuobyLwznnEspb0M45l1AJHGYX6Wx2kgZLapKyvrOkgVHW6Zxz1VJi6S85EnUL+hAz+7Z0xcxWSeoYcZ3OOZcx25J/ozgKJO1c+uba8K223q3inEuePOyDvgeYKOl5gun3zgfuiLhO55zLXAL7oCNN0Gb2pKTJwPHhpnPNbHaUdTrnXLXkSwtaUuPwJYlNCd5e+0zKvqZm9k0U9TrnXHVZviRogoR8OjAFSP3WCtf3iKhe55yrnny5SWhmp4f/doiifOecy7oEtqCjHgc9Lp1tzjkXu3wZBy2pHtAAaC5pZ8peoNgYaBNFnc45VxNmyWtBR9UHfSnQC2gNTE3Zvgb4V0R1Oudc9SWwiyOqPuj7gPskXWFmD0RRh3POZVW+JOgUAyXdBLQzs56S9gb2NbNREdfrnHMZsS3Je1Al0puEwEBgE9AlXF8M3B5xnc45l7mSDJYciTpB72lmdwGbAcxsA2U3DJ1zLjGsxNJeciXqLo5NkuoTPqwiaU/g+4jrdM65zOVhH/QtwBigraQhwFHARRHX6ZxzmUteF3TkkyW9JmkqcCRB18ZVZrYiyjqz5aQTu9K3bx8KCwoY+MRQ7rr7wbhDypmvvlnDTYNG882aDSA47+hDufCEn9J3+Ju8NX0BdYoK2K15E3r3OIXGDerFHW7OtGrdknsfuoPmLZphZjwzeDhP9B8Sd1ixeOCh/+GkU45nxdcr6dL51LjDyYokzsWhKAdnS/pJBZtXA5+b2ZbKzi2q2ya2q1VQUMCcWW9z8qkXsGjRUt6bOJrf/u5y5syZF0s8a1/tndP6vl69jhWr17N/u5as/24TF/zjSe697GyWfbuWzvvuTlFhAf1eGA9Ar3N/ntPY9jv//pzWl6pFy+a0aLkLM6fPoWGjBowa9yw9f9+LeZ98Gks8a77fEEu9AF2OOpx16zbwyGN3JyJBr1o3v8b3tr455+dp55ymL47Pyb20qG8SPgS8B/QHHgMmAs8Dn0g6MeK6q63z4R1ZsOAzFi78gs2bNzNs2AjOPOOkuMPKmV12asT+7VoC0LBeXfbYtRnLv11HlwM6UFQY/Mgc0qEVy1atjTPMnFu+bAUzp88BYP26Dcyft5CWrVrEHFU83n1nEqtWfRt3GNmVh6M4lgAdzayTmf0U6Ah8CvwSuCviuqutdZtd+XLRkq3rixYvpXXrXWOMKD6LV6zm4y+XcXCHVj/Y/tK7Mzn6oPydC2u3tq058OD9mDZlRtyhuCyxkvSXXIn6JuE+ZjardMXMZkvaz8w+lX78F4KknkBPABXuREFBw4jDc5XZ8N0mru0/guu6HU+j+jts3f7Y6IkUFohTOx8QY3TxadCwPo8M6kufG+9i3dr1cYfjsiXfbhICsyU9DDwbrncPt+1AODY6lZn1J+gOibUPesnir2i7W+ut67u1acWSJV/FFU4sNhcXc03/EZzaeX9O6LjP1u0j3p3J2zMW8OjV3anol+z2rqioiEcG9eWl/3uFMaN8YsbtSQLfeJVZF4eknSUdksEpPYD5BBMn9SLo3riIIDkfl0nduTRp8jT22qsD7du3pU6dOnTrdhYjR42NO6ycMTN6PzmGDrs243e/OHzr9ndmLWTw2A/od/m51K9bJ8YI43PX/b2ZP3chAx5+Ku5QXJbZlvSXqkgaKGm5pJkp226VtFjStHCp8u5qlS1oSW8CZ4bHTgGWS3rHzP5axXmFwGgzO47g5bHlrauq7rgUFxdzVa+bGP3KMxQWFDBo8HPMnj037rByZtqCxYx6fzZ7t2lOt9sHAXDFWcdy17BxbNpSzGX3DQPgkA6tuenCxN7rzbpOR3TkvO5nMGfWXEa/GVyDu2+/nzdenxBzZLk34Il7OeqYI2jWbGdmfjKBO++4j6effD7usGokyy3oQQQzdz5Zbvu9ZvbPdAupcpidpA/NrKOkS4C2ZnaLpOlmVmVLOpyc/1wzW51uQKXi7OJImlwPs0uyOIfZJU2cw+ySJhvD7JYdl/4wu5ZvVD3MTlJ7YJSZHRSu3wqsyyRBp9MHXSSpFdANuDHdgkPrgBmSXgO23k0xsyszLMc556Jl6ef41AENof7hPbSq/EXS74HJwDVmtqqyg9NJ0H2AV4EJZjZJ0h5Auk9svBAuzjmXaJl0caQOaMjAw8BtBHMT3UbQ9fvHyk6oMkGb2fMED5eUrn8KnJdONGY2OJwsqZ2ZfZLOOc45FwcriXZUkpktK/0s6TGgynnxt5mgJT1AOAvdNiqrsptC0hnAP4G6QAdJhwF9zOzMqs51zrlcKimONkFLamVmS8PVc4CZlR0PlbegJ2chpluBzsCbAGY2Lewicc65RMnmKA5JQ4GuBC/OXkQws2fXsJFqwGcE726t1DYTtJkNLldhg3DC/UxsNrPV5R5oSOBwcOdcvstmF4eZXVDB5sczLafKB1Uk/UzSbODjcP1QSQ+lWf4sSb8BCiXtHXabvJtpkM45FzWz9JdcSedJwn7AScBKADP7CDg2zfKvAA4keIvKUGANwROFzjmXKFaitJdcSWsuDjP7slw3RXGa520gGDud6fhp55zLqahvElZHOgn6S0ldAJNUB7gKmJNO4ZL2Aa4F2qfWZWbHZx6qc85FJ5ct43Slk6AvA+4D2hDM7/wq8Oc0y38eeAQYQJqtbueci4Nl8CRhrqTzoMoK4MJqlr/FzB6u5rnOOZcztXK6UUl7SBop6etw+rwRGYxlHinpckmtJDUtXWoYs3POZV2JKe0lV9Lp4ngGeJDgyReAXxOMyDgijXN7hP9el7LNAH9YxTmXKLWyiwNoYGaps5M/Lem6bR6dwszy96V1zrlaJYmjOLbZxZHSHfFvSTdIai9pd0nXA6MrKzQ8pvTzr8rt+0dNg3bOuWyrbeOgpxB0R5RGk/rcuAH/Xcm5v6bsrd3/TcpseMDJwN8zC9M556KVy77ldFU2F0dNuie0jc8VrTvnXOxqax80kg4CDgDqlW4zs/Lv2kpl2/hc0bpzzsUul3NspCudl8beQjBt3gEEfc+nABP48csQUx0qaQ1Ba7l++Jlwvd62T3POuXjUqi6OFOcDhwIfmtkfJLUEnq7sBDMrzEZwzjmXKyW19FHvjWZWImmLpMbAcqBtxHE551xO1dYW9GRJTYDHCEZ2rAMmRhmU+6H+Pd6MO4TE+GvDQ+IOITH6Mj3uELYrtfImoZldHn58RNIYoLGZ+U+Gc267Uqta0JJ+Utk+M5saTUjOOZd7CRzEUWkL+p5K9hngczo757YbxSXpvGAqtyp7UOW4XAbinHNxSuBso+k9qOKcc9s7S+BDzp6gnXMOKElgJ7QnaOecA0oS2IJO540qkvRbSTeH6+0kdY4+NOecyx1DaS+5ks5ty4eAnwEXhOtrCd6w4pxz241ilPaSK+l0cRxhZj+R9CGAma2SVDfiuJxzLqdq6yiOzZIKCcdxS9qFZH4X55yrtiQmtXS6OO4HXgRaSLqDYKpRf22Vc267ksQ+6HTm4hgiaQpwAsF8zmeb2ZzII3POuRxK4GyjaY3iaAdsAEYCLwPrw21VknSPpANrFqJzzkWvBKW95Eo6fdCvUPby2HpAB+ATIJ3EOwfoL6kIeAIYamarqxmrc85FpjjuACqQThfHwanr4Sx3l2/j8PLnDgAGSNoX+AMwXdI7wGNm9kY14nXOuUiUKHl9HBlP3xROM3pEuseHI0D2C5cVwEfAXyU9m2ndzjkXFctgyZV0Xhr715TVAuAnwJJ0Cpd0L3AGMA74h5l9EO76X0mfZBirc85FJonD7NLpg94x5fMWgj7p4WmWPx24yczWV7DPHxd3ziVGNkdxSBoInA4sN7ODwm1NgeeA9sBnQDczW1VZOZUm6LB7Ykczu7aacQ4CzpF0NMFfBhPM7EUAv1nonEuSLD/CPQj4F/BkyrYbgHFmdqekG8L1v1VWyDb7oCUVmVkxcFQNgnwQuAyYAcwELpXk83g45xKnROkvVTGzt4Bvym0+Cxgcfh4MnF1VOZW1oD8g6G+eJull4Hlga1eFmb1QdZgcD+xvZqWPiQ8GZqVxnnPO5VQmfdCSegI9Uzb1N7P+VZzW0syWhp+/AlpWVU86fdD1gJUEybZ0PLQB6STo+UA74PNwvW24LfFOOrErffv2obCggIFPDOWuu/O34X/YH0/iwAu6IomZQ99g2uOvxh1SbPxaBFq1bsm9D91B8xbNMDOeGTycJ/oPiTusGslkdEaYjKtKyJWdb5KqrLKyBN0iHMExk7LEvLX8NOPYEZgjqXT0xuHA5LBFjpmdmWY5OVVQUMD9993ByadewKJFS3lv4mhGjhrLnDnz4g4t55rtsxsHXtCV5864heLNWzj7qetZ+Po0Vn++LO7Qcs6vRZni4mJuv/keZk6fQ8NGDRg17lkmjJ/IvE8+jTu0asvBo97LJLUys6WSWgHLqzqhsgRdCDSCCnvO003QN6d5XKJ0PrwjCxZ8xsKFXwAwbNgIzjzjpLxM0Dvv3ZplHy5gy3ebAFj83sfsdUonpjzySsyR5Z5fizLLl61g+bIVAKxft4H58xbSslWL2p2go6/iZaAHcGf474iqTqgsQS81sz41icbMxkvalWBInQGTzOyrmpSZC63b7MqXi8qGei9avJTOh3eMMaL4rPxkEV2u+xX1mjRiy3ebaH/coSybvjDusGLh16Jiu7VtzYEH78e0KTPiDqVGirM7zG4o0BVoLmkRcAtBYh4m6WKCbt9uVZVTWYKucbiSLiFoRf8nLO8BSX3MbOA2jt/a8a7CnSgoaFjTEFwNrZq/hCkPj+LsIX9jy4bv+Xr251hJEof0R8+vxY81aFifRwb1pc+Nd7FubUWPO9Qe2fwvaWYXbGPXCZmUU1mCzqigbbgO6GhmKwEkNQPeBSpM0Kkd70V128T2jt0li7+i7W6tt67v1qYVS5YkvuEfmVnPjWfWc+MB6HJ9N9YtLT96KH/4tShTVFTEI4P68tL/vcKYUePiDqfGkvirdpvjoM0sGz95KwneYVhqbbgt0SZNnsZee3Wgffu21KlTh27dzmLkqLFxhxWb+s0aA7Bj62bseXInPh7xbswRxcevRZm77u/N/LkLGfDwU3GHkhW1ci6OGpoPvC9pBMH3OotgRru/AphZ34jrr5bi4mKu6nUTo195hsKCAgYNfo7Zs+fGHVZsTnv0Kurt3IiSzVt48/8NZtOaDXGHFBu/FoFOR3TkvO5nMGfWXEa/OQyAu2+/nzdenxBzZNWXxAn7FT5DEk3h0i2V7Tez3tvaF2cXR9Lcs+txcYfgEqjv+ulxh5AYn6+cXuP0em+736adc67+4umcpPNIW9CVJWDnnEuSWjlhf02EbwC/nuDtK/VKt5vZ8VHW65xzmUpiF0fGE/ZnaAjwMcFrsnoTTLE3KeI6nXMuYyUZLLkSdYJuZmaPA5vNbLyZ/ZFgTg/nnEuUfBzFsTn8d6mk0wjexNI04jqdcy5jJTlNvemJOkHfLmkn4BrgAaAxcHXEdTrnXMby7iahmY0KP64GfKyYcy6xkvgkYSQJWtIDVNJVY2ZXRlGvc85VVxJHcUTVgp6c8rk3wUxOzjmXWHnTB21mpe/dQlKv1HXnnEui5KXn6G8SQjK/t3PO/UDe9EE751xtU5zAtmRUNwnXUtZybiBpTekugvclNo6iXuecq668aUGb2Y5RlOucc1HJm5uEzjlX2yQvPXuCds45II+6OJxzrrbJm5uEzjlX23gftHPOJVTy0rMnaOecA7wF7ZxzieU3CZ1zLqHMW9DpO2XXjnGHkBh910+PO4TEWPP9hrhDSIwlI2+IO4Ttio/icM65hPIuDuecS6gS8xa0c84lUvLSsydo55wDfJidc84llo/icM65hNriCdo555LJW9DOOZdQ2RxmJ+kzYC1QDGwxs07VKccTtHPOAZb9YXbHmdmKmhTgCdo550jmKI6CuANwzrkkKMbSXiT1lDQ5ZelZrjgDxkqaUsG+tHkL2jnnyKwFbWb9gf6VHHK0mS2W1AJ4TdLHZvZWpjF5C9o55wj6oNNd0ihrcfjvcuBFoHN1YvIE7ZxzBKM40l0qI6mhpB1LPwMnAjOrE5N3cTjnHFkdB90SeFESBDn2GTMbU52CPEE75xzZG8VhZp8Ch2ajLE/QzjkHFFvyZoT2BO2cc/ij3s45l1g+Yb9zziVU8tKzJ2jnnAOS+ah3JAla0gwq+YVkZodEUa9zzlVX3iRo4PTw3z+H/z4V/nthRPVl3YB3Hmfj+o2UFJdQXFzMX0+/Ou6QYtGqdUvufegOmrdohpnxzODhPNF/SNxhxeaBh/6Hk045nhVfr6RL51PjDienvvpmDTcNGs03azaA4LyjD+XCE35K3+Fv8tb0BdQpKmC35k3o3eMUGjeoF3e4GcubURxm9jmApF+aWceUXTdImgrcEEW92XZj97+zZtWauMOIVXFxMbfffA8zp8+hYaMGjBr3LBPGT2TeJ5/GHVoshg55gccefZpHHrs77lByrrCwgGvOP47927Vk/XebuOAfT3Lk/rtz5P67c+XZx1JUWEC/F8YzcMz79Dr353GHm7EkjuKI+lFvSToqZaVLDup0WbR82QpmTp8DwPp1G5g/byEtW7WIOar4vPvOJFat+jbuMGKxy06N2L9dSwAa1qvLHrs2Y/m36+hyQAeKCoP/rQ/p0Iplq9bGGWa1ZXMujmyJ+ibhxcBASTsBAlYBf4y4zuwwo8/TfTBgzJB/8+ozr8YdUex2a9uaAw/ej2lTZsQdiovZ4hWr+fjLZRzcodUPtr/07kxO6rRvTFHVTD71QQNgZlOAQ8MEjZmtjrK+bLr+vL/xzbKV7NRsJ24bcjuL5i9i1gez4g4rNg0a1ueRQX3pc+NdrFu7Pu5wXIw2fLeJa/uP4Lpux9Oo/g5btz82eiKFBeLUzgfEGF315bJlnK7Ih9lJOg04EKgXTh6CmfXZxrE9gZ4AB+98MLs3ahd1eNv0zbKVAKxeuZqJr05kn8P2ydsEXVRUxCOD+vLS/73CmFHj4g7HxWhzcTHX9B/BqZ3354SO+2zdPuLdmbw9YwGPXt2d0v/Pa5virL6VMDsi7Q+W9AjQHbiCoIvjV8Du2zrezPqbWScz6xRnct6h/g7Ub1h/6+eOx3Tk808+jy2euN11f2/mz13IgIefqvpgt90yM3o/OYYOuzbjd784fOv2d2YtZPDYD+h3+bnUr1snxghrpsQs7SVXom5BdzGzQyRNN7Peku4B/h1xnTXWZJcm3Nj/JgAKiwoY/9J4po6fGnNU8eh0REfO634Gc2bNZfSbwwC4+/b7eeP1CTFHFo8BT9zLUcccQbNmOzPzkwncecd9PP3k83GHlRPTFixm1Puz2btNc7rdPgiAK846lruGjWPTlmIuuy/4+TikQ2tuuvDEGCOtniSO4lCU/S6S3jezIyS9B5wLfAPMNLO9qjr3jHanJ+9qxWT6+i/iDiEx1ny/Ie4QEmPJyFoxWjUn6h93SY37VfZv0TntnDNn+Qc56ceJugU9SlIT4C5gSrhtQMR1OudcxpLYgo7qUe/DgS/N7LZwvREwA/gYuDeKOp1zriaSOJtdVDcJHwU2AUg6Frgz3Laayt+E65xzsSi2krSXXImqi6PQzL4JP3cH+pvZcGC4pGkR1emcc9WWxC6OqFrQhZJKk/8JwH9S9vkUp865xDErSXvJlaiS5VBgvKQVwEbgbQBJexF0czjnXKLkzaPeZnaHpHFAK2CslY3lKyB4aMU55xIlrx71NrP3Ktg2N6r6nHOuJvKmBe2cc7VNcUny5uLwBO2ccyRzFIcnaOecI8/6oJ1zrjbxPmjnnEsob0E751xC+U1C55xLKO/icM65hPIuDuecS6gkTjfqCdo55/Bx0M45l1jegnbOuYQqyeE0oumKaj5o55yrVcws7aUqkk6W9Imk+ZKq/XZfb0E75xzZG8UhqRB4EPglsAiYJOllM5udaVnegnbOOcAyWKrQGZhvZp+a2SbgWeCs6sSU2Bb0yC9GKe4YACT1NDN/0S1+LVL5tSizvVyLLZsWp51zJPUEeqZs6p9yDdoAX6bsWwQcUZ2YvAVdtZ5VH5I3/FqU8WtRJu+uhZn1N7NOKUskv6A8QTvnXHYtBtqmrO8WbsuYJ2jnnMuuScDekjpIqgv8Gni5OgUltg86QWp931oW+bUo49eijF+LFGa2RdJfgFeBQmCgmc2qTllK4gQhzjnnvIvDOecSyxO0c84lVN4laEm7SnpW0gJJUySNlrRPJcevy2V8NSWpWNK0lKXaj5lmIZZekhqkrI+W1CSueMor/99W0kWS/hVXPEkl6UZJsyRND3+m0hrTK6m9pJlRx7c9y6ubhJIEvAgMNrNfh9sOBVoCc+OMLYs2mtlh2SxQUpGZbanGqb2Ap4ENAGZ2ajbjctGT9DPgdOAnZva9pOZA3ZjDyhv51oI+DthsZo+UbjCzj4APJY2TNFXSDEk/eixTUldJ4yWNkPSppDslXSjpg/CcPXP5RTIl6TNJvVO+437h9oaSBobf48PS7x62Jl+W9B9gnKQGkoZJmi3pRUnvS+oUHnuipIlh2c9LaiTpSqA18IakN1JiaB5+/n3YIvtI0lOxXJRKSDoj/I4fSnpdUstw+62Sngq/7zxJfwq3d5X0lqRXwklyHpFUIOmPkvqllPsnSffG9LWqoxWwwsy+BzCzFWa2RNLNkiZJmimpf9j4QdJPw/+mHwF/jjPw7UImMzjV9gW4Eri3gu1FQOPwc3NgPmUjXNaF/3YFviX4gd2BYOB573DfVUC/uL9fGEsxMC1l6R5u/wy4Ivx8OTAg/PwP4Lfh5yYEf0k0BC4ieES1abjvWuDR8PNBwBagU3i93gIahvv+BtycUmfzlNg+C48/MKynebi9aUKu1RfAv8J9O6f8DFwC3BN+vhX4CKgffpcvCX4RdQW+A/YgGFr1GnA+0AhYANQJz38XODjun5MMrlGj8NrMBR4Cfl7+vxnwFHBG+Hk6cGz4+W5gZtzfoTYvedXFUQkB/5B0LFBC8Cx9S+CrcsdNMrOlAJIWAGPD7TMIWudJUFkXxwvhv1OAc8PPJwJnSro2XK8HtAs/v2Zm34SfjwbuAzCzmZKmh9uPBA4A3gkbUXWBiVXEeDzwvJmtCMv7porjo/KDayXpIoJfOhA8/fWcpFYE32lhynkjzGwjsDH866AzwS/vD8zs07CsocDRZvZ/4V8hp0uaQ5CoZ0T7tbLHzNZJ+ilwDMHP+HPhfY21kq4HGgBNgVmS3gaamNlb4elPAafEEff2It8S9CyCVk15FwK7AD81s82SPiNIVOV9n/K5JGW9hNpxLUvjLaYsXgHnmdknqQeGN4LWp1GmCBL5BVmLMhkeAPqa2cuSuhK0nEuVf3jAqtg+APg78DHwRFajzAEzKwbeBN6UNAO4FDgE6GRmX0q6lYr/f3E1lG990P8BdlAwExUAkg4BdgeWh8n5uHA9X7wKXJHSh9hxG8e9A3QLjzkAODjc/h5wlKS9wn0NVTYqZi2wYwVl/Qf4laRm4TlNs/FFsmwnyuZP6FFu31mS6oXxdyV4tBegs4LHewuA7sAEADN7n2Buht8AQ6MOPJsk7Stp75RNhwGlv8xXSGpE2Ogxs2+BbyUdHe6/MFdxbq9qQ6sva8zMJJ0D9JP0N4I+w88IWkf3h62DyQQtndqqvqRpKetjzKyyoXa3Af2A6WFiWUhw1768h4DBkmYTXJ9ZwGoz+zrsGhgqaYfw2JsI+iz7A2MkLTGzrV1AZjZL0h3AeEnFwIcEfd5JcivwvKRVBL9QOqTsmw68QdAHfZsFN832IUjU/wL2Cve/mHLOMOAwM1uVg9izqRHwgILhkVsI7s/0JOjSmUnQDTgp5fg/AAMlGWVdgK6a/FFvlxYFb4moY2bfhSNWXgf2tWBC8rwR/jm/zsz+WW57V+BaM6volxuSRhHcoB4XdYxu+5FXLWhXIw0IhszVIeh3vjzfknN1hC3PD4CPPDm7THkL2jnnEirfbhI651yt4QnaOecSyhO0c84llCdo9yMqmxFvZji3RoOqz9pmWYMknR9+HhCOod7WsV0ldalGHVvn+Ehne7ljMpqtMJyL49qqj3Su5jxBu4psNLPDzOwgYBNwWepOSdUa/WNml5jZ7EoO6QpknKCd2155gnZVeRvYK2zdvi3pZWC2pEJJd4czmk2XdCkEU7pK+lc4o9vrQIvSgiS9qbIZ8E5WMPvdRwpmEmxP8Ivg6rD1foykXSQND+uYJOmo8NxmksYqmKN4AMGwv0pJeknB/N+zUp8kDffdG24fJ2mXcNueksaE57ytcPa/cuddqWB2v+mSnq3m9XVum3wctNumsKV8CjAm3PQT4CAzWxgmudVmdnj4BOE7ksYCHYF9CSZQagnMBgaWK3cX4DGCWc8WSmpqZt9IeoSUh0AkPUPwcMcESe0IHkvfH7gFmGBmfSSdBlycxtf5Y1hHfWCSpOFmtpJg5r7JZna1pJvDsv9C8BTkZWY2T8G8JA8RTPKU6gaggwXzJDdJ55o6lwlP0K4iqY+Lvw08TtD18IGZlc7qdiJwSGn/MsHcFXsDxwJDwwl2liiYya28I4G3SsuqZDa7XwAHSFsbyI3DuR+OJZyNz8xeCR/HrsqV4WP+EMyLsTewkmCiq+fC7U8DL4R1dCF41Lv0/B34senAEEkvAS+lEYNzGfEE7SryoylLw0SVOrudCOaXfrXccdl8a0oBcKSZfVdBLGkLH8P+BfAzM9sg6U22PfuahfV+W8m0raVOI/hlcQZwo6SDrXpvnnGuQt4H7arrVeC/wke/kbSPpIYEk/d3D/uoW1HxPNnvAcdK6hCeWzqbXfnZ78YCV5SuSDos/PgWwcxwSDqFYHL9yuwErAqT834ELfhSBZRNQfsbgq6TNcBCSb8K65CCV6NtpWBiqbZm9gbBSwp2IphYyLms8QTtqmsAQf/yVAUvBn2U4C+yF4F54b4nqWDyfjP7mmBGtBcUvBqptIthJHBO6U1CgjfgdApvws2mbDRJb4IEP4ugq+OLKmIdAxQpmDD/ToJfEKXWE0wTOpOgj7lPuP1C4OIwvllA+degFQJPK5gB8UPg/nC6TeeyxuficM65hPIWtHPOJZQnaOecSyhP0M45l1CeoJ1zLqE8QTvnXEJ5gnbOuYTyBO2ccwn1/wGYqkruIUfjZAAAAABJRU5ErkJggg==\n",
      "text/plain": [
       "<Figure size 432x288 with 2 Axes>"
      ]
     },
     "metadata": {
      "needs_background": "light"
     },
     "output_type": "display_data"
    },
    {
     "name": "stdout",
     "output_type": "stream",
     "text": [
      "Accuracy for model with 10 hidden layers :  0.7572815533980582\n"
     ]
    }
   ],
   "source": [
    "classifier10_300 = KerasClassifier(build_fn=model_base10,epochs=300,batch_size=200,verbose=0)\n",
    "evaluate_model(classifier10, X, y_encoded)\n",
    "y_pred10 = predict(classifier10,X_train, y_train)\n",
    "draw_confusion_matrix(y_test, y_pred10)\n",
    "accuracy = find_accuracy_score(y_test, y_pred10)\n",
    "print(\"Accuracy for model with 10 hidden layers : \" , accuracy)\n",
    "accuracy_score_list_epoch.append(accuracy)"
   ]
  },
  {
   "cell_type": "code",
   "execution_count": 38,
   "id": "683cca21-86f9-4c17-982e-a34533687907",
   "metadata": {},
   "outputs": [
    {
     "name": "stderr",
     "output_type": "stream",
     "text": [
      "/var/folders/6q/1tr6dsz903s0r57yd4bx3jrm0000gn/T/ipykernel_7149/2359665977.py:1: DeprecationWarning: KerasClassifier is deprecated, use Sci-Keras (https://github.com/adriangb/scikeras) instead.\n",
      "  classifier10_400 = KerasClassifier(build_fn=model_base10,epochs=400,batch_size=200,verbose=0)\n",
      "/Users/sangeetha/venv-ml-pa1/lib/python3.9/site-packages/keras/engine/training_v1.py:2057: UserWarning: `Model.state_updates` will be removed in a future version. This property should not be used in TensorFlow 2.0, as `updates` are applied automatically.\n",
      "  updates = self.state_updates\n",
      "/Users/sangeetha/venv-ml-pa1/lib/python3.9/site-packages/keras/engine/training_v1.py:2057: UserWarning: `Model.state_updates` will be removed in a future version. This property should not be used in TensorFlow 2.0, as `updates` are applied automatically.\n",
      "  updates = self.state_updates\n",
      "/Users/sangeetha/venv-ml-pa1/lib/python3.9/site-packages/keras/engine/training_v1.py:2057: UserWarning: `Model.state_updates` will be removed in a future version. This property should not be used in TensorFlow 2.0, as `updates` are applied automatically.\n",
      "  updates = self.state_updates\n",
      "/Users/sangeetha/venv-ml-pa1/lib/python3.9/site-packages/keras/engine/training_v1.py:2057: UserWarning: `Model.state_updates` will be removed in a future version. This property should not be used in TensorFlow 2.0, as `updates` are applied automatically.\n",
      "  updates = self.state_updates\n",
      "/Users/sangeetha/venv-ml-pa1/lib/python3.9/site-packages/keras/engine/training_v1.py:2057: UserWarning: `Model.state_updates` will be removed in a future version. This property should not be used in TensorFlow 2.0, as `updates` are applied automatically.\n",
      "  updates = self.state_updates\n",
      "/Users/sangeetha/venv-ml-pa1/lib/python3.9/site-packages/keras/engine/training_v1.py:2057: UserWarning: `Model.state_updates` will be removed in a future version. This property should not be used in TensorFlow 2.0, as `updates` are applied automatically.\n",
      "  updates = self.state_updates\n",
      "/Users/sangeetha/venv-ml-pa1/lib/python3.9/site-packages/keras/engine/training_v1.py:2057: UserWarning: `Model.state_updates` will be removed in a future version. This property should not be used in TensorFlow 2.0, as `updates` are applied automatically.\n",
      "  updates = self.state_updates\n",
      "/Users/sangeetha/venv-ml-pa1/lib/python3.9/site-packages/keras/engine/training_v1.py:2057: UserWarning: `Model.state_updates` will be removed in a future version. This property should not be used in TensorFlow 2.0, as `updates` are applied automatically.\n",
      "  updates = self.state_updates\n",
      "/Users/sangeetha/venv-ml-pa1/lib/python3.9/site-packages/keras/engine/training_v1.py:2057: UserWarning: `Model.state_updates` will be removed in a future version. This property should not be used in TensorFlow 2.0, as `updates` are applied automatically.\n",
      "  updates = self.state_updates\n",
      "/Users/sangeetha/venv-ml-pa1/lib/python3.9/site-packages/keras/engine/training_v1.py:2057: UserWarning: `Model.state_updates` will be removed in a future version. This property should not be used in TensorFlow 2.0, as `updates` are applied automatically.\n",
      "  updates = self.state_updates\n"
     ]
    },
    {
     "name": "stdout",
     "output_type": "stream",
     "text": [
      "Baseline: 80.19% (5.28%)\n"
     ]
    },
    {
     "name": "stderr",
     "output_type": "stream",
     "text": [
      "/Users/sangeetha/venv-ml-pa1/lib/python3.9/site-packages/keras/engine/training_v1.py:2079: UserWarning: `Model.state_updates` will be removed in a future version. This property should not be used in TensorFlow 2.0, as `updates` are applied automatically.\n",
      "  updates=self.state_updates,\n"
     ]
    },
    {
     "data": {
      "image/png": "iVBORw0KGgoAAAANSUhEUgAAAWgAAAEWCAYAAABLzQ1kAAAAOXRFWHRTb2Z0d2FyZQBNYXRwbG90bGliIHZlcnNpb24zLjUuMSwgaHR0cHM6Ly9tYXRwbG90bGliLm9yZy/YYfK9AAAACXBIWXMAAAsTAAALEwEAmpwYAAAt0ElEQVR4nO3dd5wV5dn/8c93d+lFpEgTBMSGWIiICmpQo8aCPRhjDEYN+lhJLPFJ/NlNjMaCPYgFRbE8NkSCKFawUUSqCohKlyZdyu71+2Nm4bAuu2d3z5yZ5Vzv12tee860+zpHvPbea+65R2aGc8655MmLOwDnnHOl8wTtnHMJ5QnaOecSyhO0c84llCdo55xLKE/QzjmXUJ6gXZVJqiPpdUkrJL1YhfOcLWlkJmOLg6T/SuoTdxyu+vMEnUMk/U7SOEmrJS0IE8mhGTj1GUBzoImZ/aayJzGzZ8zsmAzEsxVJPSWZpFdKrN8vXP9emue5UdLg8vYzs+PMbFAlw3VuM0/QOULSX4B7gX8QJNO2wEPAyRk4/S7A12a2KQPnispi4BBJTVLW9QG+zlQDCvj/Uy5j/B9TDpC0A3AzcImZvWxma8xso5m9bmZXh/vUknSvpPnhcq+kWuG2npLmSrpS0g9h7/uP4babgOuBM8Oe+fkle5qS2oU91YLw/bmSvpG0StJsSWenrB+dclx3SWPD0slYSd1Ttr0n6RZJY8LzjJTUtIyvYQPwKvDb8Ph84EzgmRLfVX9JcyStlDRe0mHh+l8Df0v5nF+kxHGbpDHAWqBDuO6CcPvDkl5KOf+/JI2SpHT/+7nc5Qk6NxwC1AZeKWOfvwMHA/sD+wHdgOtStrcAdgBaA+cDD0ra0cxuIOiVP29m9c3ssbICkVQPuA84zswaAN2BiaXs1xh4I9y3CXA38EaJHvDvgD8COwE1gavKaht4CvhD+PpYYAowv8Q+Ywm+g8bAs8CLkmqb2YgSn3O/lGPOAfoCDYDvSpzvSmCf8JfPYQTfXR/zORZcGjxB54YmwJJyShBnAzeb2Q9mthi4iSDxFNsYbt9oZsOB1cAelYynCOgsqY6ZLTCzqaXscwIww8yeNrNNZjYE+BLolbLPE2b2tZmtA14gSKzbZGYfAY0l7UGQqJ8qZZ/BZrY0bPMuoBblf84nzWxqeMzGEudbS/A93g0MBi4zs7nlnM85wBN0rlgKNC0uMWxDK7bu/X0Xrtt8jhIJfi1Qv6KBmNkagtLCRcACSW9I2jONeIpjap3yfmEl4nkauBQ4glL+opB0laTpYVnlR4K/GsoqnQDMKWujmX0KfAOI4BeJc2nxBJ0bPgbWA6eUsc98got9xdry8z//07UGqJvyvkXqRjN708yOBloS9IofTSOe4pjmVTKmYk8DFwPDw97tZmEJ4hqgN7CjmTUCVhAkVoBtlSXKLFdIuoSgJz4/PL9zafEEnQPMbAXBhbwHJZ0iqa6kGpKOk3RHuNsQ4DpJzcKLbdcT/EleGROBwyW1DS9Q/m/xBknNJZ0c1qLXE5RKiko5x3Bg93BoYIGkM4FOwLBKxgSAmc0GfklQcy+pAbCJYMRHgaTrgYYp2xcB7SoyUkPS7sCtwO8JSh3XSNq/ctG7XOMJOkeE9dS/EFz4W0zwZ/mlBCMbIEgi44BJwGRgQriuMm29BTwfnms8WyfVvDCO+cAygmT5P6WcYylwIsFFtqUEPc8TzWxJZWIqce7RZlbaXwdvAiMIht59B/zE1uWL4ptwlkqaUF47YUlpMPAvM/vCzGYQjAR5uniEjHNlkV9Mds65ZPIetHPOJZQnaOecyyBJbSS9K2mapKmSrgjX3yhpnqSJ4XJ8uefyEodzzmWOpJZASzObIKkBwXWYUwhGB602s3+ne66yxsU655yrIDNbACwIX6+SNJ2tx++nLbE96I1LvklmYDGo0+qwuENwCdSpcdu4Q0iMSQs/rvLcJhXJOTWb7Xohwe39xQaY2YCS+0lqB3wAdCYYvXQusJJgxNSVZra8rHa8Bu2ccwBFhWkvZjbAzLqmLKUl5/rAS0A/M1sJPAzsSjAlwQLgrvJC8hKHc84BWGn3S1WOpBoEyfkZM3sZwMwWpWx/lDRuuvIE7ZxzAEWZSdDhVLKPAdPN7O6U9S3D+jTAqQSzKZbJE7RzzgGWuR50D4Lb+idLmhiu+xtwVnibvwHfAheWdyJP0M45B1CYmQcCmdlotkywlWp4Rc/lCdo55yC4AJgwnqCdcw4yepEwUzxBO+ccZOwiYSZ5gnbOOTJ6kTBjPEE75xx4D9o55xKrcGP5+2SZJ2jnnAO/SOicc4nlJQ7nnEso70E751xCeQ/aOeeSyYr8IqFzziVTrvWgJbUHLgPapbZlZidF2a5zzlVYDtagXyWYF/V1IHmf3jnniuXgZEk/mdl9EbfhnHNVl4M96P6SbgBGAuuLV5rZhIjbdc65ism1GjSwD8GTBY5kS4nDwvfOOZccGZqwP5OiTtC/ATqY2YaI26myBYsW87db/s3S5csR4oyTj+Oc3qfw4GODeWnoCHZstAMAV1zYh8O7d4s52uw69pie3H33zeTn5fH4E0O4484H4w4pNv5dBGrWqskTrz5MzZo1yC/I5+1h7/LQnQPjDqtqcrAHPQVoBPwQcTtVVpCfz9WX/YlOe3RkzZq19D7/crof2AWAc848hT/+7oyYI4xHXl4e9/W/jV8ffxZz5y7gk4+H8/qwkUyfPiPu0LLOv4stNqzfwAWnX8q6tesoKMhn0ND/MHrUx0yaMDXu0CrNLPcuEjYCvpQ0lq1r0IkbZtesaWOaNW0MQL16demwSxsWLV4ac1Tx63ZgF2bN+pbZs78H4IUXXuOkXsfmZFLy72Jr69auA6CgRgEFBQWYWcwRVVEO9qBviPj8kZi3YBHTZ8xi37334PPJ0xjy0usMHTGKvffcjasv/RM7NGwQd4hZ06p1C+bMnb/5/dx5C+gW/mWRa/y72FpeXh7PjXyCtu135rknXmLy59PiDqlqEjiKIy/Kk5vZ+6UtUbZZVWvXruPPf7+Vv15+IfXr1ePMU0/gvy88zktPPkizJo2584FH4w7RuUQoKiqi96/6cHSXk+ncpRMd9+wQd0hVU1SU/pIlkSRoSaskrSxlWSVpZRnH9ZU0TtK4gU8NiSK0Mm3ctIl+f7+VE445gqN79gCgaeMdyc/PJy8vjzNOOo4p077Oelxxmj9vIW12brX5/c6tWzJ//sIYI4qPfxelW7VyNWPHTKDHEQfHHUrVFG5Kf8mSSBK0mTUws4alLA3MrGEZxw0ws65m1vWCP5wVRWjbZGZc/8976bBLG/r89rTN6xcvWbb59aj3P6Jjh12yGlfcxo6bSMeO7WnXrg01atSgd++TeX3YyLjDioV/F1vs2KQRDRrWB6BW7VoccviBzJ75XcxRVZEVpb9kSVYmS5K0E1C7+L2ZfZ+Ndivi80lTeX3EKHbbtR2n97kECIbUDX/7fb6a8Q0IWrdozg3XXB5zpNlVWFjIFf2uY/gbz5Kfl8eTg55nWo79FVHMv4stmu7UhFvvu578/Dzy8sSbQ9/hg7fGxB1W1STwIqGivPIq6STgLqAVwVC7XYDpZrZ3ecduXPJNNb8knDl1Wh0WdwgugTo1bht3CIkxaeHHquo51r1xb9o5p84J/arcXjoivUgI3AIcDHxtZu2Bo4BPIm7TOecqLgdLHBvNbKmkPEl5ZvaupHsjbtM55youB2/1/lFSfeAD4BlJPwBrIm7TOecqLoE16EgStKSOQHPgZGAd8GfgbIIa9GVRtOmcc1WSQzeq3AusNLM1ZlZkZpvMbBDwCnBjRG0651zlJfBGlahKHM3NbHLJlWY2WVK7iNp0zrnKy5USB8EkSdtSJ6I2nXOu8hI42VNUJY5xkv5UcqWkC4DxEbXpnHOVt2lT+kuWRNWD7ge8IulstiTkrkBN4NSI2nTOucpL4EXCSBK0mS0Cuks6Augcrn7DzN6Joj3nnKuyDNWgJbUBniIYyWbAADPrL6kx8DzQDvgW6G1my8s6V6TjoM3sXeDdKNtwzrmMyFwNehNwpZlNkNQAGC/pLeBcYJSZ3S7pWuBa4K9lnSjqW72dc656yNAwOzNbYGYTwtergOlAa4L7QgaFuw0CTikvpKzMZuecc4lXgRKHpL5A35RVA8xsQCn7tQO6AJ8SDD9eEG5aSFACKZMnaOecA6ww/YfGhsn4Zwk5VTjNxUtAPzNbKW2ZAM/MTFK5NRVP0M45Bxm9UUVSDYLk/IyZvRyuXiSppZktkNSSYArmMnkN2jnnIGPTjSroKj9GMPf93SmbhgJ9wtd9gNfKC8l70M45B1CUsVEcPYBzgMmSJobr/gbcDrwg6XzgO6B3eSfyBO2cc5CxEoeZjQa29cSVoypyLk/QzjkHUIGLhNniCdo55yCnZrNzzrnqJXM16IzxBO2cc5A7kyU551y14z3o9NVpdVjcISTGqjdvijuExNjzjPviDiEx5qxeHHcI2xXzGrRzziWUj+JwzrmE8hKHc84llJc4nHMuobwH7ZxzCZXAYXaRzmYnaZCkRinvd5T0eJRtOudcpRRZ+kuWRN2D3tfMfix+Y2bLJXWJuE3nnKsw25R7ozjyJO1Y/OTa8Km2XlZxziVPDtag7wI+lvQiwfR7ZwC3Rdymc85VXAJr0JEmaDN7StI44Mhw1WlmNi3KNp1zrlJypQctqWH4kMTGBE+vfTZlW2MzWxZFu845V1mWKwmaICGfCIwHUj+1wvcdImrXOecqJ1cuEprZieHP9lGc3znnMi6BPeiox0GPSmedc87FLlfGQUuqDdQFmkrakS0PUGwItI6iTeecqwqz5PWgo6pBXwj0A1oBE1LWrwQeiKhN55yrvASWOKKqQfcH+ku6zMzuj6IN55zLqFxJ0Ckel3Qd0NbM+kraDdjDzIZF3K5zzlWIbUrejSqRXiQEHgc2AN3D9/OAWyNu0znnKq6oAkuWRJ2gdzWzO4CNAGa2li0XDJ1zLjGsyNJesiXqEscGSXUIb1aRtCuwPuI2nXOu4nKwBn0DMAJoI+kZoAdwbsRtOudcxSWvBB35ZElvSZoAHExQ2rjCzJZE2WamHHtMT+6++2by8/J4/Ikh3HHng3GHlDULl63kuieHs2zlWhCcfuh+nH3UAdz90nt8MGkWNQry2LlpI27qcxwN69aOO9ysadmqOfc8dBtNd2qCmfHsoJd4YsAzcYcVi/sf+ifHHnckSxYvpXu34+MOJyOSOBeHohycLekXpaxeAXxnZpvKOragZuvYvq28vDymT/2QXx9/FnPnLuCTj4fz+3MuZvr0GbHEs+rNm7La3uIVq1myYg17tW3Omp82cNY/nuKei05h0Y+r6LbHLhTk53Hvy+8D0O+0X2Y1tj3PuC+r7aXaqXlTdmrejCmTplOvfl2GjXqOvn/ox4yvvoklnpXr18bSLkD3HgeyevVaHnn0zkQk6OWrZ1b52tayU3+Zds5p/Mr7WbmWFvVFwoeAT4ABwKPAx8CLwFeSjom47UrrdmAXZs36ltmzv2fjxo288MJrnNTr2LjDyppmO9Rnr7bNAahXuyYdWjThhx9X071Tewryg38y+7ZvyaLlq+IMM+t+WLSEKZOmA7Bm9VpmzphN85Y7xRxVPD4aM5bly3+MO4zMysFRHPOBLmbW1cwOALoA3wBHA3dE3HaltWrdgjlz529+P3feAlq1ahFjRPGZt2QFX85ZxD7tW261/tWPpnBo59ydC2vnNq3Ye589mTh+ctyhuAyxovSXbIn6IuHuZja1+I2ZTZO0p5l9I/38LwRJfYG+AMrfgby8ehGH58qy9qcNXDXgNa7ufST169TavP7R4R+TnyeO79YpxujiU7deHR558m5u/vsdrF61Ju5wXKbk2kVCYJqkh4HnwvdnhutqEY6NTmVmAwjKIbHWoOfPW0ibnVttfr9z65bMn78wrnBisbGwkCsHvMbx3fbiqC67b17/2kdT+HDyLP7z5zMp7Zfs9q6goIBHnrybV//vDUYM84kZtycJfOJVxUocknaUtG8FDukDzCSYOKkfQXnjXILkfERF2s6mseMm0rFje9q1a0ONGjXo3ftkXh82Mu6wssbMuOmpEbRv0YRzfnXg5vVjps5m0MjPuPfi06hTs0aMEcbnjvtuYubXsxn48NNxh+IyzDalv5RH0uOSfpA0JWXdjZLmSZoYLuVeXS23By3pPeCkcN/xwA+SxpjZX8o5Lh8YbmZHEDw8tqTV5bUdl8LCQq7odx3D33iW/Lw8nhz0PNOmfR13WFkzcdY8hn06jd1aN6X3rU8CcNnJh3PHC6PYsKmQi/q/AMC+7Vtx3dmJvdabcV0P6sLpZ/Zi+tSvGf5e8B3ceet9vPv26Jgjy76BT9xDj8MOokmTHZny1Whuv60/g596Me6wqiTDPegnCWbufKrE+nvM7N/pnqTcYXaSPjezLpIuANqY2Q2SJplZuT3pcHL+08xsRboBFYuzxJE02R5ml2RxDrNLmjiH2SVNJobZLToi/WF2zd8tf5idpHbAMDPrHL6/EVhdkQSdTg26QFJLoDfw93RPHFoNTJb0FrD5aoqZXV7B8zjnXLQs/RyfOqAhNCC8hlaeSyX9ARgHXGlmy8vaOZ0EfTPwJjDazMZK6gCke8fGy+HinHOJVpESR+qAhgp4GLiFYG6iWwhKv+eVdUC5CdrMXiS4uaT4/TfA6elEY2aDwsmS2prZV+kc45xzcbCiaEclmdmi4teSHgXKnRd/mwla0v2Es9Bto7FyyxSSegH/BmoC7SXtD9xsZieVd6xzzmVTUWG0CVpSSzNbEL49FZhS1v5Qdg96XAZiuhHoBrwHYGYTwxKJc84lSiZHcUgaAvQkeHD2XIKZPXuGnVQDviV4dmuZtpmgzWxQiQbrhhPuV8RGM1tR4oaGBA4Hd87lukyWOMzsrFJWP1bR85R7o4qkQyRNA74M3+8n6aE0zz9V0u+AfEm7hWWTjyoapHPORc0s/SVb0rmT8F7gWGApgJl9ARye5vkvA/YmeIrKEGAlwR2FzjmXKFaktJdsSWsuDjObU6JMUZjmcWsJxk5XdPy0c85lVdQXCSsjnQQ9R1J3wCTVAK4Apqdzckm7A1cB7VLbMrMjKx6qc85FJ5s943Slk6AvAvoDrQnmd34TuCTN878IPAIMJM1et3POxcEqcCdhtqRzo8oS4OxKnn+TmT1cyWOdcy5rquV0o5I6SHpd0uJw+rzXKjCW+XVJF0tqKalx8VLFmJ1zLuOKTGkv2ZJOieNZ4EGCO18AfkswIuOgNI7tE/68OmWdAX6zinMuUapliQOoa2aps5MPlnT1NvdOYWa5+9A651y1ksRRHNsscaSUI/4r6VpJ7STtIukaYHhZJw33KX79mxLb/lHVoJ1zLtOq2zjo8QTliOJoUu8bN+B/yzj2t2x5avf/kjIbHvBr4G8VC9M556KVzdpyusqai6Mq5Qlt43Vp751zLnbVtQaNpM5AJ6B28TozK/msrVS2jdelvXfOudhlc46NdKXz0NgbCKbN60RQez4OGM3PH4aYaj9JKwl6y3XC14Tva2/7MOeci0e1KnGkOAPYD/jczP4oqTkwuKwDzCw/E8E551y2FFXTW73XmVmRpE2SGgI/AG0ijss557Kquvagx0lqBDxKMLJjNfBxlEG5rf3zj+/GHUJiPFBj77hDSIw/rB8bdwjblWp5kdDMLg5fPiJpBNDQzCZFG5ZzzmVXtepBS/pFWdvMbEI0ITnnXPYlcBBHmT3ou8rYZoDP6eyc224UFqXzgKnsKutGlSOyGYhzzsUpgbONpnejinPObe8sgTc5e4J2zjmgKIFFaE/QzjkHFCWwB53OE1Uk6feSrg/ft5XULfrQnHMuewylvWRLOpctHwIOAc4K368ieMKKc85tNwpR2ku2pFPiOMjMfiHpcwAzWy6pZsRxOedcVlXXURwbJeUTjuOW1IxkfhbnnKu0JCa1dEoc9wGvADtJuo1gqlF/bJVzbruSxBp0OnNxPCNpPHAUwXzOp5jZ9Mgjc865LErgbKNpjeJoC6wFXgeGAmvCdeWSdJckn37MOZd4RSjtJVvSqUG/wZaHx9YG2gNfAekk3unAAEkFwBPAEDNbUclYnXMuMoVxB1CKdEoc+6S+D2e5u3gbu5c8diAwUNIewB+BSZLGAI+amU9y7JxLjCIlr8ZR4embwmlGD0p3/3AEyJ7hsgT4AviLpOcq2rZzzkXFKrBkSzoPjf1Lyts84BfA/HROLukeoBcwCviHmX0WbvqXpK8qGKtzzkUmicPs0qlBN0h5vYmgJv1SmuefBFxnZmtK2ea3izvnEiOTozgkPQ6cCPxgZp3DdY2B54F2wLdAbzNbXtZ5ykzQYXmigZldVck4nwROlXQowV8Go83sFQC/WOicS5IM38L9JPAA8FTKumuBUWZ2u6Rrw/d/Lesk26xBSyows0KgRxWCfBC4CJgMTAEulOTzeDjnEqdI6S/lMbMPgGUlVp8MDApfDwJOKe88ZfWgPyOoN0+UNBR4EdhcqjCzl8sPkyOBvcys+DbxQcDUNI5zzrmsqkgNWlJfoG/KqgFmNqCcw5qb2YLw9UKgeXntpDOKozawlCDZnkhw0e/ENI4DmAmk3tTSJlyXeMce05OpUz7gy2mjuebqS+IOJ1aHnP9rLh35Ly5583bOuO8SCmrViDukrNnvngs5Zsoj/PK9Ozava9nrIHq+fycnzn+GHfbrEGN08bn/oX/y9exP+eiz4XGHkjEVGcVhZgPMrGvKUl5y3rqtoNNa7oCQshL0TuEIjilsKVFMDX9OSTOOBsB0Se9Jeg+YBjSUNDTslSdSXl4e9/W/jRN7/Z599juCM888hb322i3usGLRoPmOHHzusTzS6zoePPZa8vLy6NzrkLjDypo5z7/Pp2fdvtW6VV/OYex5d7P0ky9jiip+Q555mTNOOS/uMDIqkyWObVgkqSVA+POH8g4oq8SRD9SHUivn6Q4FvD7N/RKl24FdmDXrW2bP/h6AF154jZN6Hcv06TNijiweefn51Khdk6JNhdSoU4tVi8q88LxdWfbJl9Rp03SrdatnpDXKdLv20ZixtGnbOu4wMioLw+yGAn2A28Ofr5V3QFkJeoGZ3VyVaMzsfUktCIbUGTDWzBZW5ZzZ0Kp1C+bM3fI/4dx5C+h2YJcYI4rPqkXLGfPoG/zlo/vY9NMGZn44mVkfTo47LOcyrjCzw+yGAD2BppLmAjcQJOYXJJ0PfAf0Lu88ZZU4qhyupAsILjaeBpwBfCJpm38XSeoraZykcUVFpQ2ddtlWu2Fd9jz6AO45rB93HnQpNevWYt9TqjKwx7lkKqrAUh4zO8vMWppZDTPb2cweM7OlZnaUme1mZr8ys5KjPH6mrAR9VBpxlOdqoIuZnWtmfYADKGPcX2rhPS+vXgaar5z58xbSZudWm9/v3Lol8+cnvuMfiV0P7czyOYtZu2wVRZsKmTZiLG0PyM16vNu+ZTJBZ8o2E3Q62T0NSwmeYVhsVbgu0caOm0jHju1p164NNWrUoHfvk3l92Mi4w4rFivlLadOlIzVqB08569BjbxbP9Bqs2/5Uy7k4qmgm8Kmk1wg+18kEM9r9BcDM7o64/UopLCzkin7XMfyNZ8nPy+PJQc8zbdrXcYcVi7kTZzH1v59x0Ru3UbSpkAVTv2PckHfiDitrfvHwZTTpvhc1GzfgVxMe4Ks7/4+NP66m823nUrNJQw4afA0rpnz7s5Ee27uBT9xDj8MOokmTHZny1Whuv60/g596Me6wqiSJE/YrvIckmpNLN5S13cxu2ta2gpqts/mLKtH+1qpn3CEkxoE/JXFKm3j8YfXYuENIjOWrZ1Y5vd7T9vdp55w/fz84K+k80h50WQnYOeeSpFpO2F8V4RPAryF4+krt4vVmdmSU7TrnXEUlscRR4Qn7K+gZ4EuCx2TdRDDFnv9d5pxLnGo1iiNDmpjZY8BGM3vfzM4jmNPDOecSJRdHcWwMfy6QdALBk1gaR9ymc85VWFFWU296ok7Qt0raAbgSuB9oCPw54jadc67Ccu4ioZkNC1+uAI6Isi3nnKuKJA7gjCRBS7qfMko1ZnZ5FO0651xlJXEUR1Q96HEpr28imMnJOecSK2dq0GZW/NwtJPVLfe+cc0mUvPQc/UVCSObnds65reRMDdo556qbwgT2JaO6SLiKLT3nupJWFm8ieF5iwyjadc65ysqZHrSZNYjivM45F5WcuUjonHPVTfLSsydo55wDcqjE4Zxz1U3OXCR0zrnqxmvQzjmXUMlLz56gnXMO8B60c84lll8kdM65hDLvQafvrJYHxR1CYrz60zdxh5AY969eHHcIiTG//ylxh7Bd8VEczjmXUF7icM65hCoy70E751wiJS89e4J2zjnAh9k551xi+SgO55xLqE2eoJ1zLpm8B+2ccwmVyWF2kr4FVgGFwCYz61qZ83iCds45wDI/zO4IM1tSlRN4gnbOOZI5iiMv7gCccy4JCrG0F0l9JY1LWfqWOJ0BIyWNL2Vb2rwH7ZxzVKwHbWYDgAFl7HKomc2TtBPwlqQvzeyDisbkPWjnnCOoQae7pHGueeHPH4BXgG6VickTtHPOEYziSHcpi6R6khoUvwaOAaZUJiYvcTjnHBkdB90ceEUSBDn2WTMbUZkTeYJ2zjkyN4rDzL4B9svEuTxBO+ccUGjJmxHaE7RzzuG3ejvnXGL5hP3OOZdQyUvPnqCdcw5I5q3ekSRoSZMp4xeSme0bRbvOOVdZOZOggRPDn5eEP58Of54dUXsZV7dhXc7/1yXsvHsbDBh49QPMnPB13GFlXc1aNXni1YepWbMG+QX5vD3sXR66c2DcYcXm/of+ybHHHcmSxUvp3u34uMPJqoUr13HdG5+zbO16AE7fbxfO7tqBFes2cM3Q8cxfsY5WO9ThzpMPoGHtmjFHW3E5M4rDzL4DkHS0mXVJ2XStpAnAtVG0m0m/v+F8Jr3/Off/z53k1yigVp3q9w8uEzas38AFp1/KurXrKCjIZ9DQ/zB61MdMmjA17tBiMeSZl3n0P4N55NE74w4l6/LzxJVHdGKvFo1Ys34TZz31AQe3a8bQKXM4aJemnHfwbjz+yQwe/2Qm/Xp2ijvcCkviKI6ob/WWpB4pb7pnoc0qq9OgLnse1In3n3sbgMKNm1i7cm3MUcVn3dp1ABTUKKCgoCCKeXOrjY/GjGX58h/jDiMWzerXZq8WjQCoV6uADk3q88Pqn3hvxkJ6dW4DQK/ObXh3xsIYo6y8TM7FkSlRXyQ8H3hc0g6AgOXAeRG3WWXN2uzEyqUr6fvvS2nTqR3fTv6GwTc+xvp16+MOLRZ5eXk8N/IJ2rbfmeeeeInJn0+LOyQXs3kr1vLlohXs07IRS9eup1n92gA0rVeLpWur5/8nSaxBR9qbNbPxZrYfwW2P+5rZ/mY2Ico2MyE/P592nTswavCb/L/jr2L92p848eLT4g4rNkVFRfT+VR+O7nIynbt0ouOeHeIOycVo7YZNXPXqOK4+qjP1a9XYapskhGKKrGqS2IOOvNwg6QTgQuAKSddLur6MfTdPgj1j9eyoQ9umZQuXsmzBUmZNnAHAZ8M/pl1nT0qrVq5m7JgJ9Dji4LhDcTHZWFjEla+O4/hOrTlq95YANKlbi8WrfwJg8eqfaFy3el6vKaQo7SVbIk3Qkh4BzgQuIyhx/AbYZVv7m9kAM+tqZl13q98+ytDKtGLxjyxbsIQWHVoBsHePfZk3Y05s8cRpxyaNaNCwPgC1atfikMMPZPbM72KOysXBzLhpxBe0b1Kfcw7cdfP6X3ZswetTgv8/Xp8yh567tYgrxCopMkt7yZaoa9DdzWxfSZPM7CZJdwH/jbjNjHjqhoH8T/9+FNQoYPH3ixhw1QNxhxSLpjs14db7ric/P4+8PPHm0Hf44K0xcYcVm4FP3EOPww6iSZMdmfLVaG6/rT+Dn3ox7rCyYuK8ZQybOpfdmjWg95PvA3DZYXty3sEduea18bwyaQ6tdqjDHScdEHOklZPEURyKsp4i6VMzO0jSJ8BpwDJgipl1LO/Yc3Y5LXnfVky+WL8g7hASY87qxXGHkBjz+58SdwiJUef8f1e58L3XTt3SzjnTf/gsK4X2qHvQwyQ1Au4AxofrcvcuB+dcYiWxBx3Vrd4HAnPM7JbwfX1gMvAlcE8UbTrnXFUkcTa7qC4S/gfYACDpcOD2cN0Kyn4SrnPOxaLQitJesiWqEke+mS0LX58JDDCzl4CXJE2MqE3nnKu0JJY4oupB50sqTv5HAe+kbPMpTp1ziWNWlPaSLVElyyHA+5KWAOuADwEkdSQoczjnXKIk8VbvqGazu03SKKAlMNK2jOXLI7hpxTnnEiWJk4BFVm4ws09KWZd7Eyo756qFnOlBO+dcdVNYlCMT9jvnXHWTxFEcnqCdc44cq0E751x14jVo55xLKO9BO+dcQvlFQuecSygvcTjnXEJ5icM55xIqidONeoJ2zjl8HLRzziWW96Cdcy6hirI4jWi6opoP2jnnqhUzS3spj6RfS/pK0kxJ11Y2Ju9BO+ccmRvFISkfeBA4GpgLjJU01MymVfRc3oN2zjnAKrCUoxsw08y+MbMNwHPAyZWJKbE96Ke/e1lxxwAgqa+Z+YNu8e8ilX8XW2wv38WmDfPSzjmS+gJ9U1YNSPkOWgNzUrbNBQ6qTEzegy5f3/J3yRn+XWzh38UWOfddmNkAM+uaskTyC8oTtHPOZdY8oE3K+53DdRXmCdo55zJrLLCbpPaSagK/BYZW5kSJrUEnSLWvrWWQfxdb+HexhX8XKcxsk6RLgTeBfOBxM5tamXMpiROEOOec8xKHc84llido55xLqJxL0JJaSHpO0ixJ4yUNl7R7GfuvzmZ8VSWpUNLElKXSt5lmIJZ+kuqmvB8uqVFc8ZRU8r+tpHMlPRBXPEkl6e+SpkqaFP6bSmtMr6R2kqZEHd/2LKcuEkoS8AowyMx+G67bD2gOfB1nbBm0zsz2z+QJJRWY2aZKHNoPGAysBTCz4zMZl4uepEOAE4FfmNl6SU2BmjGHlTNyrQd9BLDRzB4pXmFmXwCfSxolaYKkyZJ+dlumpJ6S3pf0mqRvJN0u6WxJn4XH7JrND1JRkr6VdFPKZ9wzXF9P0uPh5/i8+LOHvcmhkt4BRkmqK+kFSdMkvSLpU0ldw32PkfRxeO4XJdWXdDnQCnhX0rspMTQNX/8h7JF9IenpWL6UMkjqFX7GzyW9Lal5uP5GSU+Hn3eGpD+F63tK+kDSG+EkOY9IypN0nqR7U877J0n3xPSxKqMlsMTM1gOY2RIzmy/pekljJU2RNCDs/CDpgPC/6RfAJXEGvl2oyAxO1X0BLgfuKWV9AdAwfN0UmMmWES6rw589gR8J/sHWIhh4flO47Qrg3rg/XxhLITAxZTkzXP8tcFn4+mJgYPj6H8Dvw9eNCP6SqAecS3CLauNw21XAf8LXnYFNQNfw+/oAqBdu+ytwfUqbTVNi+zbcf++wnabh+sYJ+a6+Bx4It+2Y8m/gAuCu8PWNwBdAnfCzzCH4RdQT+AnoQDC06i3gDKA+MAuoER7/EbBP3P9OKvAd1Q+/m6+Bh4BflvxvBjwN9ApfTwIOD1/fCUyJ+zNU5yWnShxlEPAPSYcDRQT30jcHFpbYb6yZLQCQNAsYGa6fTNA7T4KyShwvhz/HA6eFr48BTpJ0Vfi+NtA2fP2WmS0LXx8K9AcwsymSJoXrDwY6AWPCTlRN4ONyYjwSeNHMloTnW1bO/lHZ6ruSdC7BLx0I7v56XlJLgs80O+W418xsHbAu/OugG8Ev78/M7JvwXEOAQ83s/8K/Qk6UNJ0gUU+O9mNljpmtlnQAcBjBv/Hnw+saqyRdA9QFGgNTJX0INDKzD8LDnwaOiyPu7UWuJeipBL2aks4GmgEHmNlGSd8SJKqS1qe8Lkp5X0T1+C6L4y1kS7wCTjezr1J3DC8ErUnjnCJI5GdlLMpkuB+428yGSupJ0HMuVvLmAStn/UDgb8CXwBMZjTILzKwQeA94T9Jk4EJgX6Crmc2RdCOl///iqijXatDvALUUzEQFgKR9gV2AH8LkfET4Ple8CVyWUkPsso39xgC9w306AfuE6z8BekjqGG6rpy2jYlYBDUo51zvAbyQ1CY9pnIkPkmE7sGX+hD4ltp0sqXYYf0+CW3sBuim4vTcPOBMYDWBmnxLMzfA7YEjUgWeSpD0k7Zayan+g+Jf5Ekn1CTs9ZvYj8KOkQ8PtZ2crzu1Vdej1ZYyZmaRTgXsl/ZWgZvgtQe/ovrB3MI6gp1Nd1ZE0MeX9CDMra6jdLcC9wKQwscwmuGpf0kPAIEnTCL6fqcAKM1sclgaGSKoV7nsdQc1yADBC0nwz21wCMrOpkm4D3pdUCHxOUPNOkhuBFyUtJ/iF0j5l2yTgXYIa9C0WXDTbnSBRPwB0DLe/knLMC8D+ZrY8C7FnUn3gfgXDIzcRXJ/pS1DSmUJQBhybsv8fgcclGVtKgK6S/FZvlxYFT4moYWY/hSNW3gb2sGBC8pwR/jm/2sz+XWJ9T+AqMyvtlxuShhFcoB4VdYxu+5FTPWhXJXUJhszVIKg7X5xrybkywp7nZ8AXnpxdRXkP2jnnEirXLhI651y14QnaOecSyhO0c84llCdo9zPaMiPelHBujbrlH7XNcz0p6Yzw9cBwDPW29u0pqXsl2tg8x0c660vsU6HZCsO5OK4qf0/nqs4TtCvNOjPb38w6AxuAi1I3SqrU6B8zu8DMppWxS0+gwgnaue2VJ2hXng+BjmHv9kNJQ4FpkvIl3RnOaDZJ0oUQTOkq6YFwRre3gZ2KTyTpPW2ZAe/XCma/+0LBTILtCH4R/DnsvR8mqZmkl8I2xkrqER7bRNJIBXMUDyQY9lcmSa8qmP97auqdpOG2e8L1oyQ1C9ftKmlEeMyHCmf/K3Hc5Qpm95sk6blKfr/ObZOPg3bbFPaUjwNGhKt+AXQ2s9lhklthZgeGdxCOkTQS6ALsQTCBUnNgGvB4ifM2Ax4lmPVstqTGZrZM0iOk3AQi6VmCmztGS2pLcFv6XsANwGgzu1nSCcD5aXyc88I26gBjJb1kZksJZu4bZ2Z/lnR9eO5LCe6CvMjMZiiYl+QhgkmeUl0LtLdgnuRG6XynzlWEJ2hXmtTbxT8EHiMoPXxmZsWzuh0D7FtcXyaYu2I34HBgSDjBznwFM7mVdDDwQfG5ypjN7ldAJ2lzB7lhOPfD4YSz8ZnZG+Ht2OW5PLzNH4J5MXYDlhJMdPV8uH4w8HLYRneCW72Lj6/Fz00CnpH0KvBqGjE4VyGeoF1pfjZlaZioUme3E8H80m+W2C+TT03JAw42s59KiSVt4W3YvwIOMbO1kt5j27OvWdjuj2VM21rsBIJfFr2Av0vaxyr35BnnSuU1aFdZbwL/E976jaTdJdUjmLz/zLBG3ZLS58n+BDhcUvvw2OLZ7ErOfjcSuKz4jaT9w5cfEMwMh6TjCCbXL8sOwPIwOe9J0IMvlseWKWh/R1A6WQnMlvSbsA0peDTaZgomlmpjZu8SPKRgB4KJhZzLGE/QrrIGEtSXJyh4MOh/CP4iewWYEW57ilIm7zezxQQzor2s4NFIxSWG14FTiy8SEjwBp2t4EW4aW0aT3ESQ4KcSlDq+LyfWEUCBggnzbyf4BVFsDcE0oVMIasw3h+vPBs4P45sKlHwMWj4wWMEMiJ8D94XTbTqXMT4Xh3POJZT3oJ1zLqE8QTvnXEJ5gnbOuYTyBO2ccwnlCdo55xLKE7RzziWUJ2jnnEuo/w8NXH/lqaRArAAAAABJRU5ErkJggg==\n",
      "text/plain": [
       "<Figure size 432x288 with 2 Axes>"
      ]
     },
     "metadata": {
      "needs_background": "light"
     },
     "output_type": "display_data"
    },
    {
     "name": "stdout",
     "output_type": "stream",
     "text": [
      "Accuracy for model with 10 hidden layers :  0.7572815533980582\n"
     ]
    }
   ],
   "source": [
    "classifier10_400 = KerasClassifier(build_fn=model_base10,epochs=400,batch_size=200,verbose=0)\n",
    "evaluate_model(classifier10, X, y_encoded)\n",
    "y_pred10 = predict(classifier10,X_train, y_train)\n",
    "draw_confusion_matrix(y_test, y_pred10)\n",
    "accuracy = find_accuracy_score(y_test, y_pred10)\n",
    "print(\"Accuracy for model with 10 hidden layers : \" , accuracy)\n",
    "accuracy_score_list_epoch.append(accuracy)"
   ]
  },
  {
   "cell_type": "code",
   "execution_count": 39,
   "id": "f2ad7b83-18ba-4794-8d9b-a933dd65d08c",
   "metadata": {},
   "outputs": [
    {
     "name": "stderr",
     "output_type": "stream",
     "text": [
      "/var/folders/6q/1tr6dsz903s0r57yd4bx3jrm0000gn/T/ipykernel_7149/1237848615.py:1: DeprecationWarning: KerasClassifier is deprecated, use Sci-Keras (https://github.com/adriangb/scikeras) instead.\n",
      "  classifier10_500 = KerasClassifier(build_fn=model_base10,epochs=500,batch_size=200,verbose=0)\n",
      "/Users/sangeetha/venv-ml-pa1/lib/python3.9/site-packages/keras/engine/training_v1.py:2057: UserWarning: `Model.state_updates` will be removed in a future version. This property should not be used in TensorFlow 2.0, as `updates` are applied automatically.\n",
      "  updates = self.state_updates\n",
      "/Users/sangeetha/venv-ml-pa1/lib/python3.9/site-packages/keras/engine/training_v1.py:2057: UserWarning: `Model.state_updates` will be removed in a future version. This property should not be used in TensorFlow 2.0, as `updates` are applied automatically.\n",
      "  updates = self.state_updates\n",
      "/Users/sangeetha/venv-ml-pa1/lib/python3.9/site-packages/keras/engine/training_v1.py:2057: UserWarning: `Model.state_updates` will be removed in a future version. This property should not be used in TensorFlow 2.0, as `updates` are applied automatically.\n",
      "  updates = self.state_updates\n",
      "/Users/sangeetha/venv-ml-pa1/lib/python3.9/site-packages/keras/engine/training_v1.py:2057: UserWarning: `Model.state_updates` will be removed in a future version. This property should not be used in TensorFlow 2.0, as `updates` are applied automatically.\n",
      "  updates = self.state_updates\n",
      "/Users/sangeetha/venv-ml-pa1/lib/python3.9/site-packages/keras/engine/training_v1.py:2057: UserWarning: `Model.state_updates` will be removed in a future version. This property should not be used in TensorFlow 2.0, as `updates` are applied automatically.\n",
      "  updates = self.state_updates\n",
      "/Users/sangeetha/venv-ml-pa1/lib/python3.9/site-packages/keras/engine/training_v1.py:2057: UserWarning: `Model.state_updates` will be removed in a future version. This property should not be used in TensorFlow 2.0, as `updates` are applied automatically.\n",
      "  updates = self.state_updates\n",
      "/Users/sangeetha/venv-ml-pa1/lib/python3.9/site-packages/keras/engine/training_v1.py:2057: UserWarning: `Model.state_updates` will be removed in a future version. This property should not be used in TensorFlow 2.0, as `updates` are applied automatically.\n",
      "  updates = self.state_updates\n",
      "/Users/sangeetha/venv-ml-pa1/lib/python3.9/site-packages/keras/engine/training_v1.py:2057: UserWarning: `Model.state_updates` will be removed in a future version. This property should not be used in TensorFlow 2.0, as `updates` are applied automatically.\n",
      "  updates = self.state_updates\n",
      "/Users/sangeetha/venv-ml-pa1/lib/python3.9/site-packages/keras/engine/training_v1.py:2057: UserWarning: `Model.state_updates` will be removed in a future version. This property should not be used in TensorFlow 2.0, as `updates` are applied automatically.\n",
      "  updates = self.state_updates\n",
      "/Users/sangeetha/venv-ml-pa1/lib/python3.9/site-packages/keras/engine/training_v1.py:2057: UserWarning: `Model.state_updates` will be removed in a future version. This property should not be used in TensorFlow 2.0, as `updates` are applied automatically.\n",
      "  updates = self.state_updates\n"
     ]
    },
    {
     "name": "stdout",
     "output_type": "stream",
     "text": [
      "Baseline: 79.16% (5.49%)\n"
     ]
    },
    {
     "name": "stderr",
     "output_type": "stream",
     "text": [
      "/Users/sangeetha/venv-ml-pa1/lib/python3.9/site-packages/keras/engine/training_v1.py:2079: UserWarning: `Model.state_updates` will be removed in a future version. This property should not be used in TensorFlow 2.0, as `updates` are applied automatically.\n",
      "  updates=self.state_updates,\n"
     ]
    },
    {
     "data": {
      "image/png": "iVBORw0KGgoAAAANSUhEUgAAAWgAAAEWCAYAAABLzQ1kAAAAOXRFWHRTb2Z0d2FyZQBNYXRwbG90bGliIHZlcnNpb24zLjUuMSwgaHR0cHM6Ly9tYXRwbG90bGliLm9yZy/YYfK9AAAACXBIWXMAAAsTAAALEwEAmpwYAAAtaElEQVR4nO3deZgU1dn38e9vZtgXFRAEBMHgLioG0eAS1Khx12ggxkRNNJjXRMUlxkd9XVDz+mDEfQkigoooBjeQIEoURVFZRFYFBVQWQRbZVZi53z+qBtpxlu6Zrq4a+v5cV13TtZ1zd8Pcc/rUqVMyM5xzziVPQdwBOOecK58naOecSyhP0M45l1CeoJ1zLqE8QTvnXEJ5gnbOuYTyBO1qTFIDSSMlrZH0XA3KOVfS2GzGFgdJ/5F0ftxxuNrPE3QekfRbSZMlrZe0NEwkR2Sh6LOBVkBzM/t1dQsxs6FmdnwW4vkBST0kmaQXymw/MNz+Zprl3CzpqaqOM7MTzWxINcN1bitP0HlC0pXAPcA/CJJpe+Ah4PQsFL8bMNfMtmShrKh8DfxMUvOUbecDc7NVgQL+O+Wyxv8z5QFJOwB9gb+Y2fNmtsHMNpvZSDP7W3hMPUn3SFoSLvdIqhfu6yFpkaSrJC0PW99/CPfdAtwI9Apb5heWbWlK6hC2VIvC9QskzZe0TtICSeembJ+Qcl53SZPCrpNJkrqn7HtT0q2S3gnLGSupRSUfw/fAi8BvwvMLgV7A0DKf1b2SvpS0VtIUSUeG238JXJfyPj9KieN2Se8AG4Hdw20XhfsfljQipfz/lTROktL993P5yxN0fvgZUB94oZJjrgcOAw4CDgS6ATek7N8F2AFoC1wIPChpJzO7iaBV/qyZNTazxyoLRFIj4D7gRDNrAnQHppVzXDPglfDY5kB/4JUyLeDfAn8AWgJ1gasrqxt4AjgvfH0CMBNYUuaYSQSfQTPgaeA5SfXNbEyZ93lgyjm/B3oDTYDPy5R3FdA5/ONzJMFnd775HAsuDZ6g80NzYEUVXRDnAn3NbLmZfQ3cQpB4Sm0O9282s9HAemCvasZTAuwvqYGZLTWzWeUcczIwz8yeNLMtZjYM+Bg4NeWYx81srpltAoYTJNYKmdm7QDNJexEk6ifKOeYpM1sZ1nkXUI+q3+dgM5sVnrO5THkbCT7H/sBTwKVmtqiK8pwDPEHni5VAi9Iuhgq04Yetv8/DbVvLKJPgNwKNMw3EzDYQdC38GVgq6RVJe6cRT2lMbVPWv6pGPE8CfwWOppxvFJKuljQn7Fb5huBbQ2VdJwBfVrbTzN4H5gMi+EPiXFo8QeeHicB3wBmVHLOE4GJfqfb8+Ot/ujYADVPWd0ndaWavmtlxQGuCVvGjacRTGtPiasZU6kngEmB02LrdKuyCuAboCexkZjsCawgSK0BF3RKVdldI+gtBS3xJWL5zafEEnQfMbA3BhbwHJZ0hqaGkOpJOlNQvPGwYcIOkncOLbTcSfCWvjmnAUZLahxco/6d0h6RWkk4P+6K/I+gqKSmnjNHAnuHQwCJJvYB9gVHVjAkAM1sA/Jygz72sJsAWghEfRZJuBJqm7F8GdMhkpIakPYHbgN8RdHVcI+mg6kXv8o0n6DwR9qdeSXDh72uCr+V/JRjZAEESmQxMB2YAU8Nt1anrNeDZsKwp/DCpFoRxLAFWESTL/1NOGSuBUwgusq0kaHmeYmYrqhNTmbInmFl53w5eBcYQDL37HPiWH3ZflN6Es1LS1KrqCbuUngL+18w+MrN5BCNBniwdIeNcZeQXk51zLpm8Be2ccwnlCdo557JIUjtJb0iaLWmWpMvD7TdLWixpWricVGVZ3sXhnHPZI6k10NrMpkpqQnAd5gyC0UHrzeyf6ZZV2bhY55xzGTKzpcDS8PU6SXP44fj9tCW2Bb15xfxkBhaDBm2OjDsEl0D7NmsfdwiJMf2riTWe2ySTnFN3559cTHB7f6kBZjag7HGSOgBvAfsTjF66AFhLMGLqKjNbXVk93gftnHMAJcVpL2Y2wMy6pizlJefGwAigj5mtBR4GfkIwJcFS4K6qQvIuDuecA7Dy7peqHkl1CJLzUDN7HsDMlqXsf5Q0brryBO2ccwAl2UnQ4VSyjwFzzKx/yvbWYf80wJkEsylWyhO0c84Blr0W9OEEt/XPkDQt3HYdcE54m78BC4GLqyrIE7RzzgEUZ+eBQGY2gW0TbKUanWlZnqCdcw6CC4AJ4wnaOecgqxcJs8UTtHPOQdYuEmaTJ2jnnCOrFwmzxhO0c86Bt6Cdcy6xijdXfUyOeYJ2zjnwi4TOOZdY3sXhnHMJ5S1o55xLKG9BO+dcMlmJXyR0zrlkyrcWtKSOwKVAh9S6zOy0KOt1zrmM5WEf9IsE86KOBJL37p1zrlQeTpb0rZndF3EdzjlXc3nYgr5X0k3AWOC70o1mNjXiep1zLjP51gcNdCZ4ssAxbOvisHDdOeeSI0sT9mdT1An618DuZvZ9xPXU2NJlX3Pdrf9k5erVCHH26Sfy+55n8OBjTzHi5THstOMOAFx+8fkc1b1bzNHm1gnH96B//74UFhQw6PFh9LvzwbhDio1/FoG69ery+IsPU7duHQqLCnl91Bs8dOfAuMOqmTxsQc8EdgSWR1xPjRUVFvK3S//Evnt1YsOGjfS88DK6H9IFgN/3OoM//PbsmCOMR0FBAffdezu/POkcFi1aynsTRzNy1FjmzJkXd2g555/FNt9/9z0XnfVXNm3cRFFRIUNe/hcTxk1k+tRZcYdWbWb5d5FwR+BjSZP4YR904obZ7dyiGTu3aAZAo0YN2X23diz7emXMUcWv2yFd+OyzhSxY8AUAw4e/xGmnnpCXSck/ix/atHETAEV1iigqKsLMYo6ohvKwBX1TxOVHYvHSZcyZ9xkH7LcXH86YzbARI3l5zDj223sP/vbXP7FD0yZxh5gzbdruwpeLlmxdX7R4Kd3Cbxb5xj+LHyooKOCZsY/TvuOuPPP4CGZ8ODvukGomgaM4CqIs3MzGl7dEWWdNbdy4iSuuv42/X3YxjRs1oteZJ/Of4YMYMfhBdm7ejDsfeDTuEJ1LhJKSEnr+4nyO63I6+3fZl0577x53SDVTUpL+kiORJGhJ6yStLWdZJ2ltJef1ljRZ0uSBTwyLIrRKbd6yhT7X38bJxx/NcT0OB6BFs50oLCykoKCAs087kZmz5+Y8rjgtWfwV7XZts3V917atWbLkqxgjio9/FuVbt3Y9k96ZyuFHHxZ3KDVTvCX9JUciSdBm1sTMmpazNDGzppWcN8DMuppZ14vOOyeK0CpkZtz4/+5h993acf5vfrV1+9crVm19PW78u3TafbecxhW3SZOn0alTRzp0aEedOnXo2fN0Ro4aG3dYsfDPYpudmu9Ik6aNAahXvx4/O+oQFnz6ecxR1ZCVpL/kSE4mS5LUEqhfum5mX+Si3kx8OH0WI8eMY4+fdOCs8/8CBEPqRr8+nk/mzQdB211acdM1l8UcaW4VFxdzeZ8bGP3K0xQWFDB4yLPMzrNvEaX8s9imRcvm3HbfjRQWFlBQIF59+b+89do7cYdVMwm8SKgor7xKOg24C2hDMNRuN2COme1X1bmbV8yv5ZeEs6dBmyPjDsEl0L7N2scdQmJM/2qialrGplfuSTvnNDi5T43rS0ekFwmBW4HDgLlm1hE4Fngv4jqdcy5zedjFsdnMVkoqkFRgZm9IuifiOp1zLnN5eKv3N5IaA28BQyUtBzZEXKdzzmUugX3QkSRoSZ2AVsDpwCbgCuBcgj7oS6Oo0znnaiSPblS5B1hrZhvMrMTMtpjZEOAF4OaI6nTOuepL4I0qUXVxtDKzGWU3mtkMSR0iqtM556ovX7o4CCZJqkiDiOp0zrnqS+BkT1F1cUyW9KeyGyVdBEyJqE7nnKu+LVvSX3IkqhZ0H+AFSeeyLSF3BeoCZ0ZUp3POVV8CLxJGkqDNbBnQXdLRwP7h5lfM7L9R1OecczWWpT5oSe2AJwhGshkwwMzuldQMeBboACwEeprZ6srKinQctJm9AbwRZR3OOZcV2euD3gJcZWZTJTUBpkh6DbgAGGdmd0i6FrgW+HtlBUV9q7dzztUOWRpmZ2ZLzWxq+HodMAdoS3BfyJDwsCHAGVWFlJPZ7JxzLvEy6OKQ1BvonbJpgJkNKOe4DkAX4H2C4cdLw11fEXSBVMoTtHPOAVac/kNjw2T8o4ScKpzmYgTQx8zWStsmwDMzk1Rln4onaOecg6zeqCKpDkFyHmpmz4ebl0lqbWZLJbUmmIK5Ut4H7ZxzkLXpRhU0lR8jmPu+f8qul4Hzw9fnAy9VFZK3oJ1zDqAka6M4Dgd+D8yQNC3cdh1wBzBc0oXA50DPqgryBO2cc5C1Lg4zmwBU9MSVYzMpyxO0c84BZHCRMFc8QTvnHOTVbHbOOVe7ZK8POms8QTvnHOTPZEnOOVfreAs6fQ3aHBl3CImx/r2H4w4hMfY67oa4Q0iM2au+iDuE7Yp5H7RzziWUj+JwzrmE8i4O55xLKO/icM65hPIWtHPOJVQCh9lFOpudpCGSdkxZ30nSoCjrdM65aimx9JcciboFfYCZfVO6YmarJXWJuE7nnMuYbcm/URwFknYqfXJt+FRb71ZxziVPHvZB3wVMlPQcwfR7ZwO3R1ync85lLoF90JEmaDN7QtJk4Jhw06/MbHaUdTrnXLXkSwtaUtPwIYnNCJ5e+3TKvmZmtiqKep1zrrosXxI0QUI+BZgCpL5rheu7R1Svc85VT75cJDSzU8KfHaMo3znnsi6BLeiox0GPS2ebc87FLl/GQUuqDzQEWkjaiW0PUGwKtI2iTuecqwmz5LWgo+qDvhjoA7QBpqZsXws8EFGdzjlXfQns4oiqD/pe4F5Jl5rZ/VHU4ZxzWZUvCTrFIEk3AO3NrLekPYC9zGxUxPU651xGbEvyblSJ9CIhMAj4Hugeri8Gbou4Tuecy1xJBkuORJ2gf2Jm/YDNAGa2kW0XDJ1zLjGsxNJeciXqLo7vJTUgvFlF0k+A7yKu0znnMpeHfdA3AWOAdpKGAocDF0Rcp3POZS55XdCRT5b0mqSpwGEEXRuXm9mKKOvMlhOO70H//n0pLChg0OPD6Hfng3GHlDNfrfyG6x96hlVr1gHi7GMP5dwTj+SB4WN4c/IsCgrETk0bc+ufe9Gy2Q5xh5szrdu04u6HbqdFy+aYGU8PGcHjA4bGHVZstrffkSTOxaEoB2dLOriczWuAz81sS2XnFtVtG9unVVBQwJxZb/PLk85h0aKlvDdxNL/7/SXMmTMvlnjWv/dwTuv7evVaVnyzln067sqGTd/ym+vu5Z6rLqBVsx1o3LA+AEPHTGD+omX834vOymlsex13Q07rS9WyVQtattqZmdPn0KhxQ0aNe4be5/Vh3ifzY4ln8bqVsdQLyfsd2fL94hpf21p15s/TzjnNXhifk2tpUV8kfAh4DxgAPApMBJ4DPpF0fMR1V1u3Q7rw2WcLWbDgCzZv3szw4S9x2qknxB1Wzuy8U1P26bgrAI0a1Gf3ti1ZvmrN1uQM8O2336M8u9y7fNkKZk6fA8CG9Rv5dN4CWrVuGXNU8dguf0fycBTHEqCLmXU1s58CXYD5wHFAv4jrrrY2bXfhy0VLtq4vWryUNm12iTGi+Cz+ehUfL1xC507tAbj/2f9w/F9u45V3pnLJr2v5L2QN7NquDft13ptpU2bEHUostsffEStJf8mVqBP0nmY2q3QlnKx/bzMr9zuhpN6SJkuaXFKyIeLQXFU2fvsdV939BH8777StredLe53I2Adv4OTDD+aZV9+JOcJ4NGzUgEcG96fv9f1Yv87/n2438rAFPVvSw5J+Hi4PhdvqEY6NTmVmA8LWdteCgkYRh1axJYu/ot2ubbau79q2NUuWfBVbPHHYvKWYK+9+gpMO78IvunX+0f6TjujC6x/kX+uxqKiIRwb358V/v8KYUfk7MeP2+DtS61vQknaSdEAGp5wPfEowcVIfgu6NCwiS89GZ1J1LkyZPo1OnjnTo0I46derQs+fpjBw1Nu6wcsbMuHnAcHZv05LzTv751u2fL/166+s3Js+iY5v863/td98tfDp3AQMffjLuUGK1Pf6O2Jb0l6pIGiRpuaSZKdtulrRY0rRwOamqcqocZifpTeC08NgpwHJJ75jZlVWcVwiMNrOjCR4eW9b6quqOS3FxMZf3uYHRrzxNYUEBg4c8y+zZc+MOK2c+/GQho96eyh7tdqHntf2BoGvjhTc/YOGSrymQaL3zTtxwYW5HcMSt66FdOKvXqcyZNZfRbw4H4M7b7uON1yfEHFnubY+/I1luGQ8mmLnziTLb7zazf6ZbSJXD7CR9aGZdJF0EtDOzmyRNN7MqW9Lh5Py/MrM16QZUKs5hdkmT62F2SRbnMLukiXOYXdJkY5jdsqPTH2bX6o2qh9lJ6gCMMrP9w/WbgfWZJOh0blQpktQa6Alcn27BofXADEmvAVuvppjZZRmW45xz0bL0c7yk3kDvlE0DzGxAGqf+VdJ5wGTgKjNbXdnB6STovsCrwAQzmyRpdyDd0ejPh4tzziVaJl0cYTJOJyGnehi4lWBuolsJun7/WNkJVSZoM3uO4OaS0vX5QFqdj2Y2JJwsqb2ZfZLOOc45FwcrifbOKzNbVvpa0qNAlfPiV5igJd1POAtdBZVV2U0h6VTgn0BdoKOkg4C+ZnZaVec651wulRRHm6AltTazpeHqmcDMyo6HylvQk7MQ081AN+BNADObFnaROOdcomRzFIekYUAPggdnLyKY2bNH2Eg1YCHBs1srVWGCNrMhZSpsGE64n4nNZrZGP5y0IYGT+jnn8l02uzjM7JxyNj+WaTlV3qgi6WeSZgMfh+sHhncEpmOWpN8ChZL2CLtN3s00SOeci5pZ+kuupHMn4T3ACcBKADP7CDgqzfIvBfYjeIrKMGAtwR2FzjmXKFaitJdcSWvCfjP7skw3RXGa520kGDud6fhp55zLqagvElZHOgn6S0ndAZNUB7gcmJNO4ZL2BK4GOqTWZWbHZB6qc85FJ5ct43Slk6D/DNwLtCWY3/lV4C9plv8c8AgwkDRb3c45FwfL4E7CXEnnRpUVwLnVLH+LmflEEs65xMvlNKLpSmcUx+6SRkr6Opw+76UMxjKPlHSJpNaSmpUuNYzZOeeyrsSU9pIr6XRxPA08SHDnC8BvCEZkHJrGueeHP/+Wss0Av1nFOZcotbKLA2hoZqmzkz8l6W8VHp3CzDpWLyznnMutJI7iqLCLI6U74j+SrpXUQdJukq4BRldWaHhM6etfl9n3j5oG7Zxz2VbbxkFPIeiOKI0m9b5xA/6nknN/w7andv8PKbPhAb8ErsssTOeci1Yu+5bTVdlcHDXpnlAFr8tbd8652NXWPmgk7Q/sC9Qv3WZmZZ+1lcoqeF3eunPOxS6Xc2ykK52Hxt5EMG3evgR9zycCE/jxwxBTHShpLUFruUH4mnC9fsWnOedcPGpVF0eKs4EDgQ/N7A+SWgFPVXaCmRVmIzjnnMuVklp6q/cmMyuRtEVSU2A50C7iuJxzLqdqawt6sqQdgUcJRnasByZGGZT7oddOGhZ3CIlxepN94g4hMV5Kb84yl6ZaeZHQzC4JXz4iaQzQ1MymRxuWc87lVq1qQUs6uLJ9ZjY1mpCccy73EjiIo9IW9F2V7DPA53R2zm03ikvSecBUblV2o8rRuQzEOefilMDZRtO7UcU557Z3lsCbnD1BO+ccUJLATmhP0M45B5QksAWdzhNVJOl3km4M19tL6hZ9aM45lzuG0l5yJZ3Llg8BPwPOCdfXETxhxTnnthvFKO0lV9Lp4jjUzA6W9CGAma2WVDfiuJxzLqdq6yiOzZIKCcdxS9qZZL4X55yrtiQmtXS6OO4DXgBaSrqdYKpRf2yVc267ksQ+6HTm4hgqaQpwLMF8zmeYmc/S4pzbriRwttG0RnG0BzYCI4GXgQ3htipJukvSfjUL0TnnoleC0l5yJZ0+6FfY9vDY+kBH4BMgncQ7BxggqQh4HBhmZmuqGatzzkWmOO4AypFOF0fn1PVwlrtLKji87LkDgYGS9gL+AEyX9A7wqJm9UY14nXMuEiVKXh9HxtM3hdOMHpru8eEIkL3DZQXwEXClpGcyrds556JiGSy5ks5DY69MWS0ADgaWpFO4pLuBU4FxwD/M7INw1/9K+iTDWJ1zLjJJHGaXTh90k5TXWwj6pEekWf504AYz21DOPr9d3DmXGNkcxSFpEHAKsNzM9g+3NQOeBToAC4GeZra6snIqTdBh90QTM7u6mnEOBs6UdATBN4MJZvYCgF8sdM4lSZZv4R4MPAA8kbLtWmCcmd0h6dpw/e+VFVJhH7SkIjMrBg6vQZAPAn8GZgAzgYsl+TwezrnEKVH6S1XM7C1gVZnNpwNDwtdDgDOqKqeyFvQHBP3N0yS9DDwHbO2qMLPnqw6TY4B9zKz0NvEhwKw0znPOuZzKpA9aUm+gd8qmAWY2oIrTWpnZ0vD1V0CrqupJpw+6PrCSINmWjoc2IJ0E/SnQHvg8XG8Xbku8E47vQf/+fSksKGDQ48Pod2f+NPwPvPtiWh3Xhe9WrGV8j2sAaH3qoex19dk03qMNb5/4f1nz0fyYo8y9lru35oIH+mxdb9GuJaPvfo43B42OL6iYtG7Tirsfup0WLZtjZjw9ZASPDxgad1g1ksnojDAZV5WQKzvfJFVZZWUJumU4gmMm2xLz1vLTjKMJMEdS6eiNQ4DJYYscMzstzXJyqqCggPvuvZ1fnnQOixYt5b2Joxk5aixz5syLO7Sc+PLZ8Swc9CoH3b9tuPu6j79k0h/7c8CdF8UYWbyWz19Kv5OCLkMViFvff4SPXv2girO2T8XFxdx2413MnD6HRo0bMmrcM0wYP5F5n9TeP9w5uNV7maTWZrZUUmtgeVUnVJagC4HGUG7PeboJ+sY0j0uUbod04bPPFrJgwRcADB/+EqedekLeJOhV731Mg3YtfrBt/by0Rlbmjb0O78yKz5exevGKuEOJxfJlK1i+LHjvG9Zv5NN5C2jVumXtTtDRV/EycD5wR/jzpapOqCxBLzWzvjWJxszGS9qFYEidAZPM7KualJkLbdruwpeLtiWkRYuX0u2QLjFG5JLm4FO7M+Xld+IOIxF2bdeG/TrvzbQpM+IOpUaKszvMbhjQA2ghaRFwE0FiHi7pQoJu355VlVNZgq5xuJIuImhF/zcs735Jfc1sUAXHb+14V+EOFBQ0qmkIzmVdYZ1C9v/FTxnZb1jcocSuYaMGPDK4P32v78f6deXd7lB7ZLMFbWbnVLDr2EzKqSxBZ1RQBf4GdDGzlQCSmgPvAuUm6NSO96K6bWN7xu6SxV/Rbtc2W9d3bduaJUsS3/B3ObJvjy4smrmAdSvyeyh/UVERjwzuz4v/foUxo8bFHU6NJfFOwgrHQZtZ2TF81bGS4BmGpdaF2xJt0uRpdOrUkQ4d2lGnTh169jydkaPGxh2WS4iDTzucKSPfjTuM2PW77xY+nbuAgQ8/GXcoWVEr5+KooU+B9yW9RPC+TieY0e5KADPrH3H91VJcXMzlfW5g9CtPU1hQwOAhzzJ79ty4w8qZgx++lObd96Fusyb8YuoDfHLnv9n8zXr2v/0C6jZvyqFPXcOamQt5/5w74g415+o2qMfeR3Tm2euqPcJqu9D10C6c1etU5syay+g3hwNw52338cbrE2KOrPqSOGG/wntIoilcuqmy/WZ2S0X74uziSJoXmh0VdwiJ8Vr9JH4RjcdL6/zBRqU+Xzm9xun17va/SzvnXPHFUzlJ55G2oCtLwM45lyS1csL+mgifAH4NwdNX6pduN7NjoqzXOecylcQujown7M/QUOBjgsdk3UIwxd6kiOt0zrmMlWSw5ErUCbq5mT0GbDaz8Wb2R4I5PZxzLlHycRTH5vDnUkknEzyJpVnEdTrnXMZKcpp60xN1gr5N0g7AVcD9QFPgiojrdM65jOXdRUIzGxW+XAMcHWVdzjlXE0kcwBlJgpZ0P5V01ZjZZVHU65xz1ZXEURxRtaAnp7y+hWAmJ+ecS6y86YM2s9LnbiGpT+q6c84lUfLSc/QXCSGZ79s5534gb/qgnXOutilOYFsyqouE69jWcm4oaW3pLoLnJTaNol7nnKuuvGlBm1mTKMp1zrmo5M1FQuecq22Sl549QTvnHJBHXRzOOVfb5M1FQuecq228D9o55xIqeenZE7RzzgHegnbOucTyi4TOOZdQ5i3o9J24S5e4Q0iM81b5YxxLNd3cMO4QEuPjf/usvdnkoziccy6hvIvDOecSqsS8Be2cc4mUvPTsCdo55wAfZuecc4nloziccy6htniCds65ZPIWtHPOJVQ2h9lJWgisA4qBLWbWtTrleIJ2zjnAsj/M7mgzW1GTAjxBO+ccyRzFURB3AM45lwTFWNqLpN6SJqcsvcsUZ8BYSVPK2Zc2b0E75xyZtaDNbAAwoJJDjjCzxZJaAq9J+tjM3so0Jm9BO+ccQR90uksaZS0Ofy4HXgC6VScmT9DOOUcwiiPdpTKSGklqUvoaOB6YWZ2YvIvDOefI6jjoVsALkiDIsU+b2ZjqFOQJ2jnnyN4oDjObDxyYjbI8QTvnHFBsyZsR2hO0c87ht3o751xi+YT9zjmXUMlLz56gnXMOSOat3pEkaEkzqOQPkpkdEEW9zjlXXXmToIFTwp9/CX8+Gf48N6L6sm7gO4+xacMmSopLKC4u5spTrog7pNjc/9D/44QTj2HF1yvp3u2kuMOJTes2rbj7odtp0bI5ZsbTQ0bw+IChcYeVM1+tWssNg0ezau1GEJx1xIGce+xP6T/iTd6a/hl1igrYtcWO3HL+iTRtWD/ucDOWN6M4zOxzAEnHmVmXlF3XSpoKXBtFvdl2fa/rWLt6bdxhxG7Y0Od59F9P8cijd8YdSqyKi4u57ca7mDl9Do0aN2TUuGeYMH4i8z6ZH3doOVFYWMBVZx/NPu1bseHb7znnH09w2D67cdg+u3HZGUdRVFjAPc+PZ9CY9+nzq5/HHW7GkjiKI+pbvSXp8JSV7jmo02XZu+9MYvXqb+IOI3bLl61g5vQ5AGxYv5FP5y2gVeuWMUeVOzvv0Jh92rcCoFH9uuy+S3OWf7Oe7vt2pKgw+LU+oGNrlq1eF2eY1ZbNuTiyJeqLhBcCgyTtAAhYDfwx4jqzw4y+T/XFgDFD/8OrT78ad0QuQXZt14b9Ou/NtCkz4g4lFotXrOHjL5fRuWPrH2x/8d2ZnNB1r5iiqpl86oMGwMymAAeGCRozWxNlfdl0zVl/Z9WylezQfAduHXobiz5dxKwPZsUdlkuAho0a8Mjg/vS9vh/r122IO5yc2/jt91w94CX+1vMYGjeot3X7o6MnUlggTuq2b4zRVV8uW8bpinyYnaSTgf2A+uHkIZhZ3wqO7Q30Bui8U2d2a9w+6vAqtGrZSgDWrFzDxFcnsudBe3qCdhQVFfHI4P68+O9XGDNqXNzh5Nzm4mKuGvASJ3Xbh2O77Ll1+0vvzuTtGZ/xryt6Ufp7XtsUZ/WphNkRaX+wpEeAXsClBF0cvwZ2q+h4MxtgZl3NrGucybleg3o0aNRg6+suR3bh808+jy0elxz97ruFT+cuYODDT1Z98HbGzLjliTF03KU5v//FIVu3vzNrAUPGfsA9l/yKBnXrxBhhzZSYpb3kStQt6O5mdoCk6WZ2i6S7gP9EXGeN7bjzjlw/4AYACosKGP/ieKaOnxpzVPEZ+PjdHH7koTRvvhMzP5nAHbffy1NPPBd3WDnX9dAunNXrVObMmsvoN4cDcOdt9/HG6xNijiw3pn22mFHvz2aPti3oedtgAC49/Sj6DR/H91uK+fO9wWdyQMc23HDu8TFGWj1JHMWhKPtdJL1vZodKeg/4FbAKmGlmnao699T2pyTv04rJhFUfxx1CYjSt1zDuEBLj439fFncIidHg6Itq3K+yT8tuaeecOcs/yEk/TtQt6FGSdgT6AVPCbQMjrtM55zKWxBZ0VLd6HwJ8aWa3huuNgRnAx8DdUdTpnHM1kcTZ7KK6SPgv4HsASUcBd4Tb1lD5k3Cdcy4WxVaS9pIrUXVxFJrZqvB1L2CAmY0ARkiaFlGdzjlXbUns4oiqBV0oqTT5Hwv8N2WfT3HqnEscs5K0l1yJKlkOA8ZLWgFsAt4GkNSJoJvDOecSJW9u9Taz2yWNA1oDY23bWL4CgptWnHMuUfLqVm8ze6+cbXOjqs8552oib1rQzjlX2xSXJG8uDk/QzjlHMkdxeIJ2zjnyrA/aOedqE++Dds65hPIWtHPOJZRfJHTOuYTyLg7nnEso7+JwzrmESuJ0o56gnXMOHwftnHOJ5S1o55xLqJIcTiOarqjmg3bOuVrFzNJeqiLpl5I+kfSppGurG5O3oJ1zjuyN4pBUCDwIHAcsAiZJetnMZmdalregnXMOsAyWKnQDPjWz+Wb2PfAMcHp1YkpsC3rkF6MUdwwAknqbmT/oFv8sUvlnsc328lls+X5x2jlHUm+gd8qmASmfQVvgy5R9i4BDqxOTt6Cr1rvqQ/KGfxbb+GexTd59FmY2wMy6piyR/IHyBO2cc9m1GGiXsr5ruC1jnqCdcy67JgF7SOooqS7wG+Dl6hSU2D7oBKn1fWtZ5J/FNv5ZbOOfRQoz2yLpr8CrQCEwyMxmVacsJXGCEOecc97F4ZxzieUJ2jnnEirvErSkXSQ9I+kzSVMkjZa0ZyXHr89lfDUlqVjStJSl2reZZiGWPpIapqyPlrRjXPGUVfbfVtIFkh6IK56kknS9pFmSpof/p9Ia0yupg6SZUce3Pcuri4SSBLwADDGz34TbDgRaAXPjjC2LNpnZQdksUFKRmW2pxql9gKeAjQBmdlI243LRk/Qz4BTgYDP7TlILoG7MYeWNfGtBHw1sNrNHSjeY2UfAh5LGSZoqaYakH92WKamHpPGSXpI0X9Idks6V9EF4zk9y+UYyJWmhpFtS3uPe4fZGkgaF7+PD0vcetiZflvRfYJykhpKGS5ot6QVJ70vqGh57vKSJYdnPSWos6TKgDfCGpDdSYmgRvj4vbJF9JOnJWD6USkg6NXyPH0p6XVKrcPvNkp4M3+88SX8Kt/eQ9JakV8JJch6RVCDpj5LuSSn3T5LujultVUdrYIWZfQdgZivMbImkGyVNkjRT0oCw8YOkn4b/ph8Bf4kz8O1CJjM41fYFuAy4u5ztRUDT8HUL4FO2jXBZH/7sAXxD8B+2HsHA81vCfZcD98T9/sJYioFpKUuvcPtC4NLw9SXAwPD1P4Dfha93JPgm0Qi4gOAW1WbhvquBf4Wv9we2AF3Dz+stoFG47+/AjSl1tkiJbWF4/H5hPS3C7c0S8ll9ATwQ7tsp5f/ARcBd4eubgY+ABuF7+ZLgD1EP4Ftgd4KhVa8BZwONgc+AOuH57wKd4/5/ksFn1Dj8bOYCDwE/L/tvBjwJnBq+ng4cFb6+E5gZ93uozUtedXFUQsA/JB0FlBDcS98K+KrMcZPMbCmApM+AseH2GQSt8ySorIvj+fDnFOBX4evjgdMkXR2u1wfah69fM7NV4esjgHsBzGympOnh9sOAfYF3wkZUXWBiFTEeAzxnZivC8lZVcXxUfvBZSbqA4I8OBHd/PSupNcF7WpBy3ktmtgnYFH476Ebwx/sDM5sfljUMOMLM/h1+CzlF0hyCRD0j2reVPWa2XtJPgSMJ/o8/G17XWCfpGqAh0AyYJeltYEczeys8/UngxDji3l7kW4KeRdCqKetcYGfgp2a2WdJCgkRV1ncpr0tS1kuoHZ9labzFbItXwFlm9knqgeGFoA1plCmCRH5O1qJMhvuB/mb2sqQeBC3nUmVvHrAqtg8ErgM+Bh7PapQ5YGbFwJvAm5JmABcDBwBdzexLSTdT/u+Lq6F864P+L1BPwUxUAEg6ANgNWB4m56PD9XzxKnBpSh9ilwqOewfoGR6zL9A53P4ecLikTuG+Rto2KmYd0KScsv4L/FpS8/CcZtl4I1m2A9vmTzi/zL7TJdUP4+9BcGsvQDcFt/cWAL2ACQBm9j7B3Ay/BYZFHXg2SdpL0h4pmw4CSv+Yr5DUmLDRY2bfAN9IOiLcf26u4txe1YZWX9aYmUk6E7hH0t8J+gwXErSO7gtbB5MJWjq1VQNJ01LWx5hZZUPtbgXuAaaHiWUBwVX7sh4ChkiaTfD5zALWmNnXYdfAMEn1wmNvIOizHACMkbTEzLZ2AZnZLEm3A+MlFQMfEvR5J8nNwHOSVhP8QemYsm868AZBH/StFlw025MgUT8AdAr3v5ByznDgIDNbnYPYs6kxcL+C4ZFbCK7P9Cbo0plJ0A04KeX4PwCDJBnbugBdNfmt3i4tCp4SUcfMvg1HrLwO7GXBhOR5I/w6v97M/llmew/gajMr748bkkYRXKAeF3WMbvuRVy1oVyMNCYbM1SHod74k35JzdYQtzw+Ajzw5u0x5C9o55xIq3y4SOudcreEJ2jnnEsoTtHPOJZQnaPcj2jYj3sxwbo2GVZ9VYVmDJZ0dvh4YjqGu6NgekrpXo46tc3yks73MMRnNVhjOxXF11Uc6V3OeoF15NpnZQWa2P/A98OfUnZKqNfrHzC4ys9mVHNIDyDhBO7e98gTtqvI20Cls3b4t6WVgtqRCSXeGM5pNl3QxBFO6SnognNHtdaBlaUGS3tS2GfB+qWD2u48UzCTYgeAPwRVh6/1ISTtLGhHWMUnS4eG5zSWNVTBH8UCCYX+VkvSigvm/Z6XeSRruuzvcPk7SzuG2n0gaE57ztsLZ/8qcd5mC2f2mS3qmmp+vcxXycdCuQmFL+URgTLjpYGB/M1sQJrk1ZnZIeAfhO5LGAl2AvQgmUGoFzAYGlSl3Z+BRglnPFkhqZmarJD1Cyk0gkp4muLljgqT2BLel7wPcBEwws76STgYuTOPt/DGsowEwSdIIM1tJMHPfZDO7QtKNYdl/JbgL8s9mNk/BvCQPEUzylOpaoKMF8yTvmM5n6lwmPEG78qTeLv428BhB18MHZlY6q9vxwAGl/csEc1fsARwFDAsn2FmiYCa3sg4D3iotq5LZ7H4B7CttbSA3Ded+OIpwNj4zeyW8Hbsql4W3+UMwL8YewEqCia6eDbc/BTwf1tGd4Fbv0vPr8WPTgaGSXgReTCMG5zLiCdqV50dTloaJKnV2OxHML/1qmeOy+dSUAuAwM/u2nFjSFt6G/QvgZ2a2UdKbVDz7moX1flPJtK2lTib4Y3EqcL2kzla9J884Vy7vg3bV9Srwf8Jbv5G0p6RGBJP39wr7qFtT/jzZ7wFHSeoYnls6m13Z2e/GApeWrkg6KHz5FsHMcEg6kWBy/crsAKwOk/PeBC34UgVsm4L2twRdJ2uBBZJ+HdYhBY9G20rBxFLtzOwNgocU7EAwsZBzWeMJ2lXXQIL+5akKHgz6L4JvZC8A88J9T1DO5P1m9jXBjGjPK3g0UmkXw0jgzNKLhARPwOkaXoSbzbbRJLcQJPhZBF0dX1QR6xigSMGE+XcQ/IEotYFgmtCZBH3MfcPt5wIXhvHNAso+Bq0QeErBDIgfAveF0206lzU+F4dzziWUt6Cdcy6hPEE751xCeYJ2zrmE8gTtnHMJ5QnaOecSyhO0c84llCdo55xLqP8PlbJLo7JGs3AAAAAASUVORK5CYII=\n",
      "text/plain": [
       "<Figure size 432x288 with 2 Axes>"
      ]
     },
     "metadata": {
      "needs_background": "light"
     },
     "output_type": "display_data"
    },
    {
     "name": "stdout",
     "output_type": "stream",
     "text": [
      "Accuracy for model with 10 hidden layers :  0.7475728155339806\n"
     ]
    }
   ],
   "source": [
    "classifier10_500 = KerasClassifier(build_fn=model_base10,epochs=500,batch_size=200,verbose=0)\n",
    "evaluate_model(classifier10, X, y_encoded)\n",
    "y_pred10 = predict(classifier10,X_train, y_train)\n",
    "draw_confusion_matrix(y_test, y_pred10)\n",
    "accuracy = find_accuracy_score(y_test, y_pred10)\n",
    "print(\"Accuracy for model with 10 hidden layers : \" , accuracy)\n",
    "accuracy_score_list_epoch.append(accuracy)"
   ]
  },
  {
   "cell_type": "code",
   "execution_count": 40,
   "id": "ec1dc93d-a7e7-4f26-ab22-686184801578",
   "metadata": {},
   "outputs": [
    {
     "name": "stderr",
     "output_type": "stream",
     "text": [
      "/var/folders/6q/1tr6dsz903s0r57yd4bx3jrm0000gn/T/ipykernel_7149/1344346583.py:1: DeprecationWarning: KerasClassifier is deprecated, use Sci-Keras (https://github.com/adriangb/scikeras) instead.\n",
      "  classifier10_600 = KerasClassifier(build_fn=model_base10,epochs=600,batch_size=200,verbose=0)\n",
      "/Users/sangeetha/venv-ml-pa1/lib/python3.9/site-packages/keras/engine/training_v1.py:2057: UserWarning: `Model.state_updates` will be removed in a future version. This property should not be used in TensorFlow 2.0, as `updates` are applied automatically.\n",
      "  updates = self.state_updates\n",
      "/Users/sangeetha/venv-ml-pa1/lib/python3.9/site-packages/keras/engine/training_v1.py:2057: UserWarning: `Model.state_updates` will be removed in a future version. This property should not be used in TensorFlow 2.0, as `updates` are applied automatically.\n",
      "  updates = self.state_updates\n",
      "/Users/sangeetha/venv-ml-pa1/lib/python3.9/site-packages/keras/engine/training_v1.py:2057: UserWarning: `Model.state_updates` will be removed in a future version. This property should not be used in TensorFlow 2.0, as `updates` are applied automatically.\n",
      "  updates = self.state_updates\n",
      "/Users/sangeetha/venv-ml-pa1/lib/python3.9/site-packages/keras/engine/training_v1.py:2057: UserWarning: `Model.state_updates` will be removed in a future version. This property should not be used in TensorFlow 2.0, as `updates` are applied automatically.\n",
      "  updates = self.state_updates\n",
      "/Users/sangeetha/venv-ml-pa1/lib/python3.9/site-packages/keras/engine/training_v1.py:2057: UserWarning: `Model.state_updates` will be removed in a future version. This property should not be used in TensorFlow 2.0, as `updates` are applied automatically.\n",
      "  updates = self.state_updates\n",
      "/Users/sangeetha/venv-ml-pa1/lib/python3.9/site-packages/keras/engine/training_v1.py:2057: UserWarning: `Model.state_updates` will be removed in a future version. This property should not be used in TensorFlow 2.0, as `updates` are applied automatically.\n",
      "  updates = self.state_updates\n",
      "/Users/sangeetha/venv-ml-pa1/lib/python3.9/site-packages/keras/engine/training_v1.py:2057: UserWarning: `Model.state_updates` will be removed in a future version. This property should not be used in TensorFlow 2.0, as `updates` are applied automatically.\n",
      "  updates = self.state_updates\n",
      "/Users/sangeetha/venv-ml-pa1/lib/python3.9/site-packages/keras/engine/training_v1.py:2057: UserWarning: `Model.state_updates` will be removed in a future version. This property should not be used in TensorFlow 2.0, as `updates` are applied automatically.\n",
      "  updates = self.state_updates\n",
      "/Users/sangeetha/venv-ml-pa1/lib/python3.9/site-packages/keras/engine/training_v1.py:2057: UserWarning: `Model.state_updates` will be removed in a future version. This property should not be used in TensorFlow 2.0, as `updates` are applied automatically.\n",
      "  updates = self.state_updates\n",
      "/Users/sangeetha/venv-ml-pa1/lib/python3.9/site-packages/keras/engine/training_v1.py:2057: UserWarning: `Model.state_updates` will be removed in a future version. This property should not be used in TensorFlow 2.0, as `updates` are applied automatically.\n",
      "  updates = self.state_updates\n"
     ]
    },
    {
     "name": "stdout",
     "output_type": "stream",
     "text": [
      "Baseline: 79.28% (5.43%)\n"
     ]
    },
    {
     "name": "stderr",
     "output_type": "stream",
     "text": [
      "/Users/sangeetha/venv-ml-pa1/lib/python3.9/site-packages/keras/engine/training_v1.py:2079: UserWarning: `Model.state_updates` will be removed in a future version. This property should not be used in TensorFlow 2.0, as `updates` are applied automatically.\n",
      "  updates=self.state_updates,\n"
     ]
    },
    {
     "data": {
      "image/png": "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\n",
      "text/plain": [
       "<Figure size 432x288 with 2 Axes>"
      ]
     },
     "metadata": {
      "needs_background": "light"
     },
     "output_type": "display_data"
    },
    {
     "name": "stdout",
     "output_type": "stream",
     "text": [
      "Accuracy for model with 10 hidden layers :  0.7378640776699029\n"
     ]
    }
   ],
   "source": [
    "classifier10_600 = KerasClassifier(build_fn=model_base10,epochs=600,batch_size=200,verbose=0)\n",
    "evaluate_model(classifier10, X, y_encoded)\n",
    "y_pred10 = predict(classifier10,X_train, y_train)\n",
    "draw_confusion_matrix(y_test, y_pred10)\n",
    "accuracy = find_accuracy_score(y_test, y_pred10)\n",
    "print(\"Accuracy for model with 10 hidden layers : \" , accuracy)\n",
    "accuracy_score_list_epoch.append(accuracy)"
   ]
  },
  {
   "cell_type": "code",
   "execution_count": 41,
   "id": "6643733f-0eb0-4457-9a8f-9a893abfe82c",
   "metadata": {},
   "outputs": [
    {
     "name": "stderr",
     "output_type": "stream",
     "text": [
      "/var/folders/6q/1tr6dsz903s0r57yd4bx3jrm0000gn/T/ipykernel_7149/22825039.py:1: DeprecationWarning: KerasClassifier is deprecated, use Sci-Keras (https://github.com/adriangb/scikeras) instead.\n",
      "  classifier10_700 = KerasClassifier(build_fn=model_base10,epochs=700,batch_size=200,verbose=0)\n",
      "/Users/sangeetha/venv-ml-pa1/lib/python3.9/site-packages/keras/engine/training_v1.py:2057: UserWarning: `Model.state_updates` will be removed in a future version. This property should not be used in TensorFlow 2.0, as `updates` are applied automatically.\n",
      "  updates = self.state_updates\n",
      "/Users/sangeetha/venv-ml-pa1/lib/python3.9/site-packages/keras/engine/training_v1.py:2057: UserWarning: `Model.state_updates` will be removed in a future version. This property should not be used in TensorFlow 2.0, as `updates` are applied automatically.\n",
      "  updates = self.state_updates\n",
      "/Users/sangeetha/venv-ml-pa1/lib/python3.9/site-packages/keras/engine/training_v1.py:2057: UserWarning: `Model.state_updates` will be removed in a future version. This property should not be used in TensorFlow 2.0, as `updates` are applied automatically.\n",
      "  updates = self.state_updates\n",
      "/Users/sangeetha/venv-ml-pa1/lib/python3.9/site-packages/keras/engine/training_v1.py:2057: UserWarning: `Model.state_updates` will be removed in a future version. This property should not be used in TensorFlow 2.0, as `updates` are applied automatically.\n",
      "  updates = self.state_updates\n",
      "/Users/sangeetha/venv-ml-pa1/lib/python3.9/site-packages/keras/engine/training_v1.py:2057: UserWarning: `Model.state_updates` will be removed in a future version. This property should not be used in TensorFlow 2.0, as `updates` are applied automatically.\n",
      "  updates = self.state_updates\n",
      "/Users/sangeetha/venv-ml-pa1/lib/python3.9/site-packages/keras/engine/training_v1.py:2057: UserWarning: `Model.state_updates` will be removed in a future version. This property should not be used in TensorFlow 2.0, as `updates` are applied automatically.\n",
      "  updates = self.state_updates\n",
      "/Users/sangeetha/venv-ml-pa1/lib/python3.9/site-packages/keras/engine/training_v1.py:2057: UserWarning: `Model.state_updates` will be removed in a future version. This property should not be used in TensorFlow 2.0, as `updates` are applied automatically.\n",
      "  updates = self.state_updates\n",
      "/Users/sangeetha/venv-ml-pa1/lib/python3.9/site-packages/keras/engine/training_v1.py:2057: UserWarning: `Model.state_updates` will be removed in a future version. This property should not be used in TensorFlow 2.0, as `updates` are applied automatically.\n",
      "  updates = self.state_updates\n",
      "/Users/sangeetha/venv-ml-pa1/lib/python3.9/site-packages/keras/engine/training_v1.py:2057: UserWarning: `Model.state_updates` will be removed in a future version. This property should not be used in TensorFlow 2.0, as `updates` are applied automatically.\n",
      "  updates = self.state_updates\n",
      "/Users/sangeetha/venv-ml-pa1/lib/python3.9/site-packages/keras/engine/training_v1.py:2057: UserWarning: `Model.state_updates` will be removed in a future version. This property should not be used in TensorFlow 2.0, as `updates` are applied automatically.\n",
      "  updates = self.state_updates\n"
     ]
    },
    {
     "name": "stdout",
     "output_type": "stream",
     "text": [
      "Baseline: 78.73% (4.72%)\n"
     ]
    },
    {
     "name": "stderr",
     "output_type": "stream",
     "text": [
      "/Users/sangeetha/venv-ml-pa1/lib/python3.9/site-packages/keras/engine/training_v1.py:2079: UserWarning: `Model.state_updates` will be removed in a future version. This property should not be used in TensorFlow 2.0, as `updates` are applied automatically.\n",
      "  updates=self.state_updates,\n"
     ]
    },
    {
     "data": {
      "image/png": "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\n",
      "text/plain": [
       "<Figure size 432x288 with 2 Axes>"
      ]
     },
     "metadata": {
      "needs_background": "light"
     },
     "output_type": "display_data"
    },
    {
     "name": "stdout",
     "output_type": "stream",
     "text": [
      "Accuracy for model with 10 hidden layers :  0.7766990291262136\n"
     ]
    }
   ],
   "source": [
    "classifier10_700 = KerasClassifier(build_fn=model_base10,epochs=700,batch_size=200,verbose=0)\n",
    "evaluate_model(classifier10, X, y_encoded)\n",
    "y_pred10 = predict(classifier10,X_train, y_train)\n",
    "draw_confusion_matrix(y_test, y_pred10)\n",
    "accuracy = find_accuracy_score(y_test, y_pred10)\n",
    "print(\"Accuracy for model with 10 hidden layers : \" , accuracy)\n",
    "accuracy_score_list_epoch.append(accuracy)"
   ]
  },
  {
   "cell_type": "code",
   "execution_count": 42,
   "id": "7fbdc509-7f1a-4637-a4c8-883f1c00f537",
   "metadata": {},
   "outputs": [
    {
     "name": "stderr",
     "output_type": "stream",
     "text": [
      "/var/folders/6q/1tr6dsz903s0r57yd4bx3jrm0000gn/T/ipykernel_7149/1117833641.py:1: DeprecationWarning: KerasClassifier is deprecated, use Sci-Keras (https://github.com/adriangb/scikeras) instead.\n",
      "  classifier10_800 = KerasClassifier(build_fn=model_base10,epochs=800,batch_size=200,verbose=0)\n",
      "/Users/sangeetha/venv-ml-pa1/lib/python3.9/site-packages/keras/engine/training_v1.py:2057: UserWarning: `Model.state_updates` will be removed in a future version. This property should not be used in TensorFlow 2.0, as `updates` are applied automatically.\n",
      "  updates = self.state_updates\n",
      "/Users/sangeetha/venv-ml-pa1/lib/python3.9/site-packages/keras/engine/training_v1.py:2057: UserWarning: `Model.state_updates` will be removed in a future version. This property should not be used in TensorFlow 2.0, as `updates` are applied automatically.\n",
      "  updates = self.state_updates\n",
      "/Users/sangeetha/venv-ml-pa1/lib/python3.9/site-packages/keras/engine/training_v1.py:2057: UserWarning: `Model.state_updates` will be removed in a future version. This property should not be used in TensorFlow 2.0, as `updates` are applied automatically.\n",
      "  updates = self.state_updates\n",
      "/Users/sangeetha/venv-ml-pa1/lib/python3.9/site-packages/keras/engine/training_v1.py:2057: UserWarning: `Model.state_updates` will be removed in a future version. This property should not be used in TensorFlow 2.0, as `updates` are applied automatically.\n",
      "  updates = self.state_updates\n",
      "/Users/sangeetha/venv-ml-pa1/lib/python3.9/site-packages/keras/engine/training_v1.py:2057: UserWarning: `Model.state_updates` will be removed in a future version. This property should not be used in TensorFlow 2.0, as `updates` are applied automatically.\n",
      "  updates = self.state_updates\n",
      "/Users/sangeetha/venv-ml-pa1/lib/python3.9/site-packages/keras/engine/training_v1.py:2057: UserWarning: `Model.state_updates` will be removed in a future version. This property should not be used in TensorFlow 2.0, as `updates` are applied automatically.\n",
      "  updates = self.state_updates\n",
      "/Users/sangeetha/venv-ml-pa1/lib/python3.9/site-packages/keras/engine/training_v1.py:2057: UserWarning: `Model.state_updates` will be removed in a future version. This property should not be used in TensorFlow 2.0, as `updates` are applied automatically.\n",
      "  updates = self.state_updates\n",
      "/Users/sangeetha/venv-ml-pa1/lib/python3.9/site-packages/keras/engine/training_v1.py:2057: UserWarning: `Model.state_updates` will be removed in a future version. This property should not be used in TensorFlow 2.0, as `updates` are applied automatically.\n",
      "  updates = self.state_updates\n",
      "/Users/sangeetha/venv-ml-pa1/lib/python3.9/site-packages/keras/engine/training_v1.py:2057: UserWarning: `Model.state_updates` will be removed in a future version. This property should not be used in TensorFlow 2.0, as `updates` are applied automatically.\n",
      "  updates = self.state_updates\n",
      "/Users/sangeetha/venv-ml-pa1/lib/python3.9/site-packages/keras/engine/training_v1.py:2057: UserWarning: `Model.state_updates` will be removed in a future version. This property should not be used in TensorFlow 2.0, as `updates` are applied automatically.\n",
      "  updates = self.state_updates\n"
     ]
    },
    {
     "name": "stdout",
     "output_type": "stream",
     "text": [
      "Baseline: 79.00% (7.15%)\n"
     ]
    },
    {
     "name": "stderr",
     "output_type": "stream",
     "text": [
      "/Users/sangeetha/venv-ml-pa1/lib/python3.9/site-packages/keras/engine/training_v1.py:2079: UserWarning: `Model.state_updates` will be removed in a future version. This property should not be used in TensorFlow 2.0, as `updates` are applied automatically.\n",
      "  updates=self.state_updates,\n"
     ]
    },
    {
     "data": {
      "image/png": "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\n",
      "text/plain": [
       "<Figure size 432x288 with 2 Axes>"
      ]
     },
     "metadata": {
      "needs_background": "light"
     },
     "output_type": "display_data"
    },
    {
     "name": "stdout",
     "output_type": "stream",
     "text": [
      "Accuracy for model with 10 hidden layers :  0.7669902912621359\n"
     ]
    }
   ],
   "source": [
    "classifier10_800 = KerasClassifier(build_fn=model_base10,epochs=800,batch_size=200,verbose=0)\n",
    "evaluate_model(classifier10, X, y_encoded)\n",
    "y_pred10 = predict(classifier10,X_train, y_train)\n",
    "draw_confusion_matrix(y_test, y_pred10)\n",
    "accuracy = find_accuracy_score(y_test, y_pred10)\n",
    "print(\"Accuracy for model with 10 hidden layers : \" , accuracy)\n",
    "accuracy_score_list_epoch.append(accuracy)"
   ]
  },
  {
   "cell_type": "code",
   "execution_count": 43,
   "id": "63b33651-1a7a-4140-b8b7-d61cbaf3fed2",
   "metadata": {},
   "outputs": [
    {
     "name": "stderr",
     "output_type": "stream",
     "text": [
      "/var/folders/6q/1tr6dsz903s0r57yd4bx3jrm0000gn/T/ipykernel_7149/1085026259.py:1: DeprecationWarning: KerasClassifier is deprecated, use Sci-Keras (https://github.com/adriangb/scikeras) instead.\n",
      "  classifier10_900 = KerasClassifier(build_fn=model_base10,epochs=900,batch_size=200,verbose=0)\n",
      "/Users/sangeetha/venv-ml-pa1/lib/python3.9/site-packages/keras/engine/training_v1.py:2057: UserWarning: `Model.state_updates` will be removed in a future version. This property should not be used in TensorFlow 2.0, as `updates` are applied automatically.\n",
      "  updates = self.state_updates\n",
      "/Users/sangeetha/venv-ml-pa1/lib/python3.9/site-packages/keras/engine/training_v1.py:2057: UserWarning: `Model.state_updates` will be removed in a future version. This property should not be used in TensorFlow 2.0, as `updates` are applied automatically.\n",
      "  updates = self.state_updates\n",
      "/Users/sangeetha/venv-ml-pa1/lib/python3.9/site-packages/keras/engine/training_v1.py:2057: UserWarning: `Model.state_updates` will be removed in a future version. This property should not be used in TensorFlow 2.0, as `updates` are applied automatically.\n",
      "  updates = self.state_updates\n",
      "/Users/sangeetha/venv-ml-pa1/lib/python3.9/site-packages/keras/engine/training_v1.py:2057: UserWarning: `Model.state_updates` will be removed in a future version. This property should not be used in TensorFlow 2.0, as `updates` are applied automatically.\n",
      "  updates = self.state_updates\n",
      "/Users/sangeetha/venv-ml-pa1/lib/python3.9/site-packages/keras/engine/training_v1.py:2057: UserWarning: `Model.state_updates` will be removed in a future version. This property should not be used in TensorFlow 2.0, as `updates` are applied automatically.\n",
      "  updates = self.state_updates\n",
      "/Users/sangeetha/venv-ml-pa1/lib/python3.9/site-packages/keras/engine/training_v1.py:2057: UserWarning: `Model.state_updates` will be removed in a future version. This property should not be used in TensorFlow 2.0, as `updates` are applied automatically.\n",
      "  updates = self.state_updates\n",
      "/Users/sangeetha/venv-ml-pa1/lib/python3.9/site-packages/keras/engine/training_v1.py:2057: UserWarning: `Model.state_updates` will be removed in a future version. This property should not be used in TensorFlow 2.0, as `updates` are applied automatically.\n",
      "  updates = self.state_updates\n",
      "/Users/sangeetha/venv-ml-pa1/lib/python3.9/site-packages/keras/engine/training_v1.py:2057: UserWarning: `Model.state_updates` will be removed in a future version. This property should not be used in TensorFlow 2.0, as `updates` are applied automatically.\n",
      "  updates = self.state_updates\n",
      "/Users/sangeetha/venv-ml-pa1/lib/python3.9/site-packages/keras/engine/training_v1.py:2057: UserWarning: `Model.state_updates` will be removed in a future version. This property should not be used in TensorFlow 2.0, as `updates` are applied automatically.\n",
      "  updates = self.state_updates\n",
      "/Users/sangeetha/venv-ml-pa1/lib/python3.9/site-packages/keras/engine/training_v1.py:2057: UserWarning: `Model.state_updates` will be removed in a future version. This property should not be used in TensorFlow 2.0, as `updates` are applied automatically.\n",
      "  updates = self.state_updates\n"
     ]
    },
    {
     "name": "stdout",
     "output_type": "stream",
     "text": [
      "Baseline: 79.01% (4.24%)\n"
     ]
    },
    {
     "name": "stderr",
     "output_type": "stream",
     "text": [
      "/Users/sangeetha/venv-ml-pa1/lib/python3.9/site-packages/keras/engine/training_v1.py:2079: UserWarning: `Model.state_updates` will be removed in a future version. This property should not be used in TensorFlow 2.0, as `updates` are applied automatically.\n",
      "  updates=self.state_updates,\n"
     ]
    },
    {
     "data": {
      "image/png": "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\n",
      "text/plain": [
       "<Figure size 432x288 with 2 Axes>"
      ]
     },
     "metadata": {
      "needs_background": "light"
     },
     "output_type": "display_data"
    },
    {
     "name": "stdout",
     "output_type": "stream",
     "text": [
      "Accuracy for model with 10 hidden layers :  0.7864077669902912\n"
     ]
    }
   ],
   "source": [
    "classifier10_900 = KerasClassifier(build_fn=model_base10,epochs=900,batch_size=200,verbose=0)\n",
    "evaluate_model(classifier10, X, y_encoded)\n",
    "y_pred10 = predict(classifier10,X_train, y_train)\n",
    "draw_confusion_matrix(y_test, y_pred10)\n",
    "accuracy = find_accuracy_score(y_test, y_pred10)\n",
    "print(\"Accuracy for model with 10 hidden layers : \" , accuracy)\n",
    "accuracy_score_list_epoch.append(accuracy)"
   ]
  },
  {
   "cell_type": "code",
   "execution_count": 44,
   "id": "09ec12a8-b5bf-4600-bace-1b3692c6ee4b",
   "metadata": {},
   "outputs": [
    {
     "name": "stderr",
     "output_type": "stream",
     "text": [
      "/var/folders/6q/1tr6dsz903s0r57yd4bx3jrm0000gn/T/ipykernel_7149/3845818363.py:1: DeprecationWarning: KerasClassifier is deprecated, use Sci-Keras (https://github.com/adriangb/scikeras) instead.\n",
      "  classifier10_1000 = KerasClassifier(build_fn=model_base10,epochs=1000,batch_size=200,verbose=0)\n",
      "/Users/sangeetha/venv-ml-pa1/lib/python3.9/site-packages/keras/engine/training_v1.py:2057: UserWarning: `Model.state_updates` will be removed in a future version. This property should not be used in TensorFlow 2.0, as `updates` are applied automatically.\n",
      "  updates = self.state_updates\n",
      "/Users/sangeetha/venv-ml-pa1/lib/python3.9/site-packages/keras/engine/training_v1.py:2057: UserWarning: `Model.state_updates` will be removed in a future version. This property should not be used in TensorFlow 2.0, as `updates` are applied automatically.\n",
      "  updates = self.state_updates\n",
      "/Users/sangeetha/venv-ml-pa1/lib/python3.9/site-packages/keras/engine/training_v1.py:2057: UserWarning: `Model.state_updates` will be removed in a future version. This property should not be used in TensorFlow 2.0, as `updates` are applied automatically.\n",
      "  updates = self.state_updates\n",
      "/Users/sangeetha/venv-ml-pa1/lib/python3.9/site-packages/keras/engine/training_v1.py:2057: UserWarning: `Model.state_updates` will be removed in a future version. This property should not be used in TensorFlow 2.0, as `updates` are applied automatically.\n",
      "  updates = self.state_updates\n",
      "/Users/sangeetha/venv-ml-pa1/lib/python3.9/site-packages/keras/engine/training_v1.py:2057: UserWarning: `Model.state_updates` will be removed in a future version. This property should not be used in TensorFlow 2.0, as `updates` are applied automatically.\n",
      "  updates = self.state_updates\n",
      "/Users/sangeetha/venv-ml-pa1/lib/python3.9/site-packages/keras/engine/training_v1.py:2057: UserWarning: `Model.state_updates` will be removed in a future version. This property should not be used in TensorFlow 2.0, as `updates` are applied automatically.\n",
      "  updates = self.state_updates\n",
      "/Users/sangeetha/venv-ml-pa1/lib/python3.9/site-packages/keras/engine/training_v1.py:2057: UserWarning: `Model.state_updates` will be removed in a future version. This property should not be used in TensorFlow 2.0, as `updates` are applied automatically.\n",
      "  updates = self.state_updates\n",
      "/Users/sangeetha/venv-ml-pa1/lib/python3.9/site-packages/keras/engine/training_v1.py:2057: UserWarning: `Model.state_updates` will be removed in a future version. This property should not be used in TensorFlow 2.0, as `updates` are applied automatically.\n",
      "  updates = self.state_updates\n",
      "/Users/sangeetha/venv-ml-pa1/lib/python3.9/site-packages/keras/engine/training_v1.py:2057: UserWarning: `Model.state_updates` will be removed in a future version. This property should not be used in TensorFlow 2.0, as `updates` are applied automatically.\n",
      "  updates = self.state_updates\n",
      "/Users/sangeetha/venv-ml-pa1/lib/python3.9/site-packages/keras/engine/training_v1.py:2057: UserWarning: `Model.state_updates` will be removed in a future version. This property should not be used in TensorFlow 2.0, as `updates` are applied automatically.\n",
      "  updates = self.state_updates\n"
     ]
    },
    {
     "name": "stdout",
     "output_type": "stream",
     "text": [
      "Baseline: 78.71% (5.33%)\n"
     ]
    },
    {
     "name": "stderr",
     "output_type": "stream",
     "text": [
      "/Users/sangeetha/venv-ml-pa1/lib/python3.9/site-packages/keras/engine/training_v1.py:2079: UserWarning: `Model.state_updates` will be removed in a future version. This property should not be used in TensorFlow 2.0, as `updates` are applied automatically.\n",
      "  updates=self.state_updates,\n"
     ]
    },
    {
     "data": {
      "image/png": "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\n",
      "text/plain": [
       "<Figure size 432x288 with 2 Axes>"
      ]
     },
     "metadata": {
      "needs_background": "light"
     },
     "output_type": "display_data"
    },
    {
     "name": "stdout",
     "output_type": "stream",
     "text": [
      "Accuracy for model with 10 hidden layers :  0.7572815533980582\n"
     ]
    }
   ],
   "source": [
    "classifier10_1000 = KerasClassifier(build_fn=model_base10,epochs=1000,batch_size=200,verbose=0)\n",
    "evaluate_model(classifier10, X, y_encoded)\n",
    "y_pred10 = predict(classifier10,X_train, y_train)\n",
    "draw_confusion_matrix(y_test, y_pred10)\n",
    "accuracy = find_accuracy_score(y_test, y_pred10)\n",
    "print(\"Accuracy for model with 10 hidden layers : \" , accuracy)\n",
    "accuracy_score_list_epoch.append(accuracy)"
   ]
  },
  {
   "cell_type": "code",
   "execution_count": 46,
   "id": "726db020-5eb1-4c05-ada6-bda15d7e9e6e",
   "metadata": {},
   "outputs": [
    {
     "name": "stdout",
     "output_type": "stream",
     "text": [
      "[100, 200, 300, 400, 500, 600, 700, 800, 900, 1000]\n",
      "[0.6990291262135923, 0.7766990291262136, 0.7475728155339806, 0.7378640776699029, 0.7281553398058253, 0.7475728155339806, 0.7766990291262136]\n"
     ]
    },
    {
     "data": {
      "image/png": "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\n",
      "text/plain": [
       "<Figure size 432x288 with 1 Axes>"
      ]
     },
     "metadata": {
      "needs_background": "light"
     },
     "output_type": "display_data"
    }
   ],
   "source": [
    "x = list(range(100, 1100, 100))\n",
    "print(x)\n",
    "print(accuracy_score_list)\n",
    "plt.plot(x, accuracy_score_list_epoch)\n",
    "plt.xlabel(\"Epochs\") \n",
    "plt.ylabel(\"Accuracy Score\") \n",
    "plt.title(\"Epochs Vs Accuracy Score\")\n",
    "plt.show()"
   ]
  },
  {
   "cell_type": "code",
   "execution_count": null,
   "id": "a1f4defc-f6b7-4666-9c14-246e5187fae8",
   "metadata": {},
   "outputs": [],
   "source": []
  }
 ],
 "metadata": {
  "kernelspec": {
   "display_name": "Python 3 (ipykernel)",
   "language": "python",
   "name": "python3"
  },
  "language_info": {
   "codemirror_mode": {
    "name": "ipython",
    "version": 3
   },
   "file_extension": ".py",
   "mimetype": "text/x-python",
   "name": "python",
   "nbconvert_exporter": "python",
   "pygments_lexer": "ipython3",
   "version": "3.9.7"
  }
 },
 "nbformat": 4,
 "nbformat_minor": 5
}
